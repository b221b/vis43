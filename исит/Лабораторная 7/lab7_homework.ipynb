{
  "nbformat": 4,
  "nbformat_minor": 0,
  "metadata": {
    "colab": {
      "provenance": []
    },
    "kernelspec": {
      "name": "python3",
      "display_name": "Python 3"
    },
    "language_info": {
      "name": "python"
    }
  },
  "cells": [
    {
      "cell_type": "markdown",
      "source": [
        "ЛАБОРАТОРНАЯ РАБОТА 7. РАЗРАБОТКА ЕДИНОГО ШАБЛОНА ПРЕДВАРИТЕЛЬНОЙ ОБРАБОТКИ ДАННЫХ\n",
        "\n",
        "Цели и задачи\n",
        "\n",
        "Цель лабораторной работы: изучение теоретических принципов и инструментальных редств для построения пайплайна для предварительной обработки данных.\n",
        "Основные задачи:\n",
        "–\tпредварительная обработка данных;\n",
        "–\tизучение библиотек для предварительной обработки данных;\n",
        "–\tмасштабирование признаков;\n",
        "–\tпредставление категориальных данных;\n",
        "–\tпостроение пайплайна для предварительной обработки данных.\n",
        "\n",
        "Теоретическое обоснование\n",
        "\n",
        "Для решения задач машинного обучения часто приходится повторять различные блоки кода, которые являются единоообразными для разных задач, принадлежащих одному классу (регрессия, классификация, кластеризация и т.д.). Данное обстоятельство приводит к повторяющемуся шаблонному коду.\n",
        "Такой код называется boilerplate-код или просто boilerplate. С другой стороны, единообразная последовательность действий, которую выполняет разработчик при решении задач машинного обучения часто называется пайплайном (machine learning pipeline).\n",
        "Рассмотрим простейший пайплан для решения задачи регрессии. Для решения задачи регрессии небходимо реализовать (в общем случае) следующие стадии:\n",
        "1.\tЗагрузка набора данных.\n",
        "2.\tЗаполнение пропусков данных в соответствии с выбранной стратегией.\n",
        "3.\tМасштабирование признаков.\n",
        "4.\tОбработка категоривальных признаков.\n",
        "5.\tРазделение на тестовую и тренировочную выборку.\n",
        "6.\tОбучение модели.\n",
        "7.\tИнтерпретация и визуализация результатов.\n",
        "\n",
        "Заполнение пропусков в данных missingvalues = SimpleImputer(missing_values = np.nan, strategy = 'mean',\n",
        "verbose = 0) missingvalues = missingvalues.fit(X[:, 1:3])\n",
        "X[:, 1:3]=missingvalues.transform(X[:, 1:3])\n",
        "\n",
        "Масштабирование признаков (standartisation и normalization) from sklearn.preprocessing import StandardScaler\n",
        "\n",
        "Разделение на тестовую и обучающую выборки: from sklearn.model_selection import train_test_split from sklearn.cross_validation import train_test_split\n",
        "\n",
        "Перед выполнением лабораторной работы необходимо ознакомиться с\n",
        "базовыми принципами языка Python, используя следующие источники: [1-5].\n",
        "\n",
        "Оборудование и материалы\n",
        "\n",
        "Для выполнения лабораторной работы рекомендуется использовать персональный компьютер со следующими программными средствами разработки (выбрать один или несколько програмных продуктов для практической реализации задач лабораторной работы): MS Visual Studio 2013 и выше; среда разработки Java, интерпретатор Python (Jupyter Notebook).\n",
        "\n",
        "Методика и порядок выполнения работы\n",
        "\n",
        "Для тестирования универсального пайплайна будет использоваться модель линейоной регрессии (LinearRegression из библиотеки sklearn).\n",
        "\n",
        "Постановка задачи.\n",
        "Устовие. Построить пайплайн, реализующий первичную обработку данных.\n",
        "Решение. Для решения задачи необходимо написать скрипт на яыке Python (рисунок 7.1).\n",
        "\n"
      ],
      "metadata": {
        "id": "9VG-lRawuxWD"
      }
    },
    {
      "cell_type": "code",
      "source": [
        "import numpy as np\n",
        "import matplotlib.pyplot as plt\n",
        "import pandas as pd"
      ],
      "metadata": {
        "id": "DMOhcsknuyPV"
      },
      "execution_count": 40,
      "outputs": []
    },
    {
      "cell_type": "code",
      "source": [
        "# Загрузка данных\n",
        "dataset = pd.read_csv('social-media.csv')\n",
        "print(\"Первые 5 строк датасета:\")\n",
        "print(dataset.head())\n",
        "\n",
        "# Матрица признаков и зависимая переменная\n",
        "X = dataset.iloc[:, :-1].values\n",
        "y = dataset.iloc[:, 3].values\n",
        "print(\"Матрица признаков:\")\n",
        "print(X)\n",
        "print(\"Зависимая переменная:\")\n",
        "print(y)"
      ],
      "metadata": {
        "id": "dVUMgG7ou5DB",
        "colab": {
          "base_uri": "https://localhost:8080/"
        },
        "outputId": "142e2630-d92c-4899-eb22-f62b68412480"
      },
      "execution_count": 41,
      "outputs": [
        {
          "output_type": "stream",
          "name": "stdout",
          "text": [
            "Первые 5 строк датасета:\n",
            "   UserId  UsageDuraiton  Age       Country  TotalLikes\n",
            "0       1              2   55        Turkey           5\n",
            "1       2              6   45        Canada          10\n",
            "2       3              3   50       Ireland           7\n",
            "3       4              4   35  South Africa           5\n",
            "4       5              1   58        Turkey           2\n",
            "Матрица признаков:\n",
            "[[1 2 55 'Turkey']\n",
            " [2 6 45 'Canada']\n",
            " [3 3 50 'Ireland']\n",
            " [4 4 35 'South Africa']\n",
            " [5 1 58 'Turkey']\n",
            " [6 13 18 'Turkey']\n",
            " [7 3 50 'Australia']\n",
            " [8 9 25 'Canada']\n",
            " [9 8 27 'Kosovo']\n",
            " [10 9 26 'Australia']\n",
            " [11 1 60 'Croatia']\n",
            " [12 9 19 'South Africa']\n",
            " [13 5 28 'Serbia']\n",
            " [14 2 58 'Croatia']\n",
            " [15 7 30 'South Africa']\n",
            " [16 11 18 'Singapore']\n",
            " [17 2 52 'Barbados']\n",
            " [18 2 50 'Bulgaria']\n",
            " [19 6 22 'Australia']\n",
            " [20 5 20 'Canada']\n",
            " [21 2 39 'Panama']\n",
            " [22 3 30 'Turkey']\n",
            " [23 4 26 'Bulgaria']\n",
            " [24 5 24 'Canada']\n",
            " [25 5 22 'Panama']\n",
            " [26 2 47 'Ireland']\n",
            " [27 1 50 'Mexico']\n",
            " [28 5 19 'Turkey']\n",
            " [29 4 18 'Turkey']\n",
            " [30 7 18 'Bulgaria']\n",
            " [31 1 18 'Canada']\n",
            " [32 4 19 'Canada']\n",
            " [33 1 55 'Bulgaria']\n",
            " [34 7 18 'Singapore']\n",
            " [35 4 18 'Singapore']\n",
            " [36 1 26 'Singapore']\n",
            " [37 8 18 'Singapore']\n",
            " [38 2 24 'Turkey']\n",
            " [39 1 55 'Germany']\n",
            " [40 1 54 'Germany']\n",
            " [41 2 52 'Germany']\n",
            " [42 1 55 'Germany']\n",
            " [43 5 18 'Germany']\n",
            " [44 2 18 'Germany']\n",
            " [45 5 18 'Germany']\n",
            " [46 3 26 'Serbia']\n",
            " [47 2 27 'Serbia']\n",
            " [48 1 53 'Panama']\n",
            " [48 2 49 'Panama']\n",
            " [49 1 50 'Turkey']\n",
            " [50 5 20 'Turkey']\n",
            " [51 4 20 'Panama']\n",
            " [52 2 50 'Panama']\n",
            " [53 3 22 'Australia']\n",
            " [54 4 18 'Australia']\n",
            " [55 8 18 'Australia']\n",
            " [56 1 55 'Australia']\n",
            " [57 2 55 'Bulgaria']\n",
            " [58 2 51 'Turkey']\n",
            " [59 8 19 'Germany']\n",
            " [60 2 20 'Bulgaria']\n",
            " [61 9 18 'Germany']\n",
            " [62 2 52 'Panama']]\n",
            "Зависимая переменная:\n",
            "['Turkey' 'Canada' 'Ireland' 'South Africa' 'Turkey' 'Turkey' 'Australia'\n",
            " 'Canada' 'Kosovo' 'Australia' 'Croatia' 'South Africa' 'Serbia' 'Croatia'\n",
            " 'South Africa' 'Singapore' 'Barbados' 'Bulgaria' 'Australia' 'Canada'\n",
            " 'Panama' 'Turkey' 'Bulgaria' 'Canada' 'Panama' 'Ireland' 'Mexico'\n",
            " 'Turkey' 'Turkey' 'Bulgaria' 'Canada' 'Canada' 'Bulgaria' 'Singapore'\n",
            " 'Singapore' 'Singapore' 'Singapore' 'Turkey' 'Germany' 'Germany'\n",
            " 'Germany' 'Germany' 'Germany' 'Germany' 'Germany' 'Serbia' 'Serbia'\n",
            " 'Panama' 'Panama' 'Turkey' 'Turkey' 'Panama' 'Panama' 'Australia'\n",
            " 'Australia' 'Australia' 'Australia' 'Bulgaria' 'Turkey' 'Germany'\n",
            " 'Bulgaria' 'Germany' 'Panama']\n"
          ]
        }
      ]
    },
    {
      "cell_type": "code",
      "source": [
        "# Визуализация данных\n",
        "plt.figure(figsize=(12, 6))\n",
        "\n",
        "# Визуализация распределения целевой переменной\n",
        "plt.subplot(1, 2, 1)\n",
        "dataset['TotalLikes'].value_counts().plot(kind='bar')\n",
        "plt.title('Распределение целевой переменной (TotalLikes)')\n",
        "plt.xlabel('TotalLikes')\n",
        "plt.ylabel('Количество')\n",
        "\n",
        "# Визуализация распределения по странам\n",
        "plt.subplot(1, 2, 2)\n",
        "dataset['Country'].value_counts().plot(kind='bar')\n",
        "plt.title('Распределение по странам')\n",
        "plt.xlabel('Страна')\n",
        "plt.ylabel('Количество')\n",
        "\n",
        "plt.tight_layout()\n",
        "plt.show()"
      ],
      "metadata": {
        "id": "GkNo8q3HvBGw",
        "colab": {
          "base_uri": "https://localhost:8080/",
          "height": 480
        },
        "outputId": "4ddf255e-26ab-4b58-c3af-39d07fa8ea6d"
      },
      "execution_count": 42,
      "outputs": [
        {
          "output_type": "display_data",
          "data": {
            "text/plain": [
              "<Figure size 1200x600 with 2 Axes>"
            ],
            "image/png": "[encoded data removed]"
          },
          "metadata": {}
        }
      ]
    },
    {
      "cell_type": "code",
      "source": [
        "# Обработка пропущенных значений\n",
        "from sklearn.impute import SimpleImputer\n",
        "\n",
        "# Создаем объект SimpleImputer\n",
        "imputer = SimpleImputer(missing_values=np.nan, strategy='mean')\n",
        "\n",
        "# Применяем imputer к столбцам 1 и 2 (индексы 1 и 2)\n",
        "X[:, 1:3] = imputer.fit_transform(X[:, 1:3])\n",
        "\n",
        "# Выводим результат\n",
        "print(\"Матрица признаков после обработки пропущенных значений:\")\n",
        "print(X)\n"
      ],
      "metadata": {
        "id": "NfBC5fsXvMQ8",
        "colab": {
          "base_uri": "https://localhost:8080/"
        },
        "outputId": "4c5773f8-3a75-4b81-ba34-ea9860ef64e3"
      },
      "execution_count": 43,
      "outputs": [
        {
          "output_type": "stream",
          "name": "stdout",
          "text": [
            "Матрица признаков после обработки пропущенных значений:\n",
            "[[1 2.0 55.0 'Turkey']\n",
            " [2 6.0 45.0 'Canada']\n",
            " [3 3.0 50.0 'Ireland']\n",
            " [4 4.0 35.0 'South Africa']\n",
            " [5 1.0 58.0 'Turkey']\n",
            " [6 13.0 18.0 'Turkey']\n",
            " [7 3.0 50.0 'Australia']\n",
            " [8 9.0 25.0 'Canada']\n",
            " [9 8.0 27.0 'Kosovo']\n",
            " [10 9.0 26.0 'Australia']\n",
            " [11 1.0 60.0 'Croatia']\n",
            " [12 9.0 19.0 'South Africa']\n",
            " [13 5.0 28.0 'Serbia']\n",
            " [14 2.0 58.0 'Croatia']\n",
            " [15 7.0 30.0 'South Africa']\n",
            " [16 11.0 18.0 'Singapore']\n",
            " [17 2.0 52.0 'Barbados']\n",
            " [18 2.0 50.0 'Bulgaria']\n",
            " [19 6.0 22.0 'Australia']\n",
            " [20 5.0 20.0 'Canada']\n",
            " [21 2.0 39.0 'Panama']\n",
            " [22 3.0 30.0 'Turkey']\n",
            " [23 4.0 26.0 'Bulgaria']\n",
            " [24 5.0 24.0 'Canada']\n",
            " [25 5.0 22.0 'Panama']\n",
            " [26 2.0 47.0 'Ireland']\n",
            " [27 1.0 50.0 'Mexico']\n",
            " [28 5.0 19.0 'Turkey']\n",
            " [29 4.0 18.0 'Turkey']\n",
            " [30 7.0 18.0 'Bulgaria']\n",
            " [31 1.0 18.0 'Canada']\n",
            " [32 4.0 19.0 'Canada']\n",
            " [33 1.0 55.0 'Bulgaria']\n",
            " [34 7.0 18.0 'Singapore']\n",
            " [35 4.0 18.0 'Singapore']\n",
            " [36 1.0 26.0 'Singapore']\n",
            " [37 8.0 18.0 'Singapore']\n",
            " [38 2.0 24.0 'Turkey']\n",
            " [39 1.0 55.0 'Germany']\n",
            " [40 1.0 54.0 'Germany']\n",
            " [41 2.0 52.0 'Germany']\n",
            " [42 1.0 55.0 'Germany']\n",
            " [43 5.0 18.0 'Germany']\n",
            " [44 2.0 18.0 'Germany']\n",
            " [45 5.0 18.0 'Germany']\n",
            " [46 3.0 26.0 'Serbia']\n",
            " [47 2.0 27.0 'Serbia']\n",
            " [48 1.0 53.0 'Panama']\n",
            " [48 2.0 49.0 'Panama']\n",
            " [49 1.0 50.0 'Turkey']\n",
            " [50 5.0 20.0 'Turkey']\n",
            " [51 4.0 20.0 'Panama']\n",
            " [52 2.0 50.0 'Panama']\n",
            " [53 3.0 22.0 'Australia']\n",
            " [54 4.0 18.0 'Australia']\n",
            " [55 8.0 18.0 'Australia']\n",
            " [56 1.0 55.0 'Australia']\n",
            " [57 2.0 55.0 'Bulgaria']\n",
            " [58 2.0 51.0 'Turkey']\n",
            " [59 8.0 19.0 'Germany']\n",
            " [60 2.0 20.0 'Bulgaria']\n",
            " [61 9.0 18.0 'Germany']\n",
            " [62 2.0 52.0 'Panama']]\n"
          ]
        }
      ]
    },
    {
      "cell_type": "code",
      "source": [
        "# Обработка категориальных данных\n",
        "from sklearn.preprocessing import LabelEncoder, OneHotEncoder\n",
        "\n",
        "# Создаем объект LabelEncoder для зависимой переменной\n",
        "labelencoder_y = LabelEncoder()\n",
        "print(\"Зависимая переменная до обработки:\")\n",
        "print(y)\n",
        "y = labelencoder_y.fit_transform(y)\n",
        "print(\"Зависимая переменная после обработки:\")\n",
        "print(y)\n",
        "\n",
        "# Создаем объект LabelEncoder для категориального признака\n",
        "labelencoder_X = LabelEncoder()\n",
        "X[:, 0] = labelencoder_X.fit_transform(X[:, 0])\n",
        "\n",
        "# Создаем объект OneHotEncoder\n",
        "onehotencoder = OneHotEncoder(sparse_output=False, handle_unknown='ignore')\n",
        "\n",
        "# Применяем OneHotEncoder к первому столбцу (индекс 0)\n",
        "X = onehotencoder.fit_transform(X)\n",
        "\n",
        "# Выводим результат\n",
        "print(\"Перекодировка категориального признака:\")\n",
        "print(X)\n"
      ],
      "metadata": {
        "id": "LvXVeXAFvT3B",
        "colab": {
          "base_uri": "https://localhost:8080/"
        },
        "outputId": "a3f4eb94-e5c4-4e93-b3a6-5f4426d66f0a"
      },
      "execution_count": 44,
      "outputs": [
        {
          "output_type": "stream",
          "name": "stdout",
          "text": [
            "Зависимая переменная до обработки:\n",
            "['Turkey' 'Canada' 'Ireland' 'South Africa' 'Turkey' 'Turkey' 'Australia'\n",
            " 'Canada' 'Kosovo' 'Australia' 'Croatia' 'South Africa' 'Serbia' 'Croatia'\n",
            " 'South Africa' 'Singapore' 'Barbados' 'Bulgaria' 'Australia' 'Canada'\n",
            " 'Panama' 'Turkey' 'Bulgaria' 'Canada' 'Panama' 'Ireland' 'Mexico'\n",
            " 'Turkey' 'Turkey' 'Bulgaria' 'Canada' 'Canada' 'Bulgaria' 'Singapore'\n",
            " 'Singapore' 'Singapore' 'Singapore' 'Turkey' 'Germany' 'Germany'\n",
            " 'Germany' 'Germany' 'Germany' 'Germany' 'Germany' 'Serbia' 'Serbia'\n",
            " 'Panama' 'Panama' 'Turkey' 'Turkey' 'Panama' 'Panama' 'Australia'\n",
            " 'Australia' 'Australia' 'Australia' 'Bulgaria' 'Turkey' 'Germany'\n",
            " 'Bulgaria' 'Germany' 'Panama']\n",
            "Зависимая переменная после обработки:\n",
            "[13  3  6 12 13 13  0  3  7  0  4 12 10  4 12 11  1  2  0  3  9 13  2  3\n",
            "  9  6  8 13 13  2  3  3  2 11 11 11 11 13  5  5  5  5  5  5  5 10 10  9\n",
            "  9 13 13  9  9  0  0  0  0  2 13  5  2  5  9]\n",
            "Перекодировка категориального признака:\n",
            "[[1. 0. 0. ... 0. 0. 1.]\n",
            " [0. 1. 0. ... 0. 0. 0.]\n",
            " [0. 0. 1. ... 0. 0. 0.]\n",
            " ...\n",
            " [0. 0. 0. ... 0. 0. 0.]\n",
            " [0. 0. 0. ... 0. 0. 0.]\n",
            " [0. 0. 0. ... 0. 0. 0.]]\n"
          ]
        }
      ]
    },
    {
      "cell_type": "code",
      "source": [
        "# Разделение выборки на тестовую и тренировочную\n",
        "from sklearn.model_selection import train_test_split\n",
        "\n",
        "X_train, X_test, y_train, y_test = train_test_split(X, y, test_size=0.2, random_state=0)\n",
        "\n",
        "print(\"Размер тренировочной выборки:\", X_train.shape)\n",
        "print(\"Размер тестовой выборки:\", X_test.shape)\n"
      ],
      "metadata": {
        "id": "GJBRWb6Hvaee",
        "colab": {
          "base_uri": "https://localhost:8080/"
        },
        "outputId": "e04500b1-4903-492b-cc97-a2a8225ae069"
      },
      "execution_count": 45,
      "outputs": [
        {
          "output_type": "stream",
          "name": "stdout",
          "text": [
            "Размер тренировочной выборки: (50, 110)\n",
            "Размер тестовой выборки: (13, 110)\n"
          ]
        }
      ]
    },
    {
      "cell_type": "markdown",
      "source": [
        "Индивидуальное задание\n",
        "1.\tПодберите набор данных на ресурсах [5-7] и согласуйте свой выбор с преподавателем. Студент может предложить набор данных в соответствии с тематикой магистерского исследования.\n",
        "2.\tРеализуйте первичную обработку данных загруженного набора. Выполните полный спектр операций для загруженного набора данны: загрузка, визуализация, обработка пропущенных значений, обработка категориальных данных и разделение выборки на тестовую и тренировочную.\n",
        "\n",
        "Содержание отчета и его форма\n",
        "\n",
        "Отчет по лабораторной работе должен содержать:\n",
        "1.\tНомер и название лабораторной работы; задачи лабораторной работы.\n",
        "2.\tРеализация каждого пункта подраздела «Индивидуальное задание» с приведением исходного кода программы, диаграмм и графиков для визуализации данных.\n",
        "3.\tОтветы на контрольные вопросы.\n",
        "4.\tЭкранные формы (консольный вывод) и листинг программного кода с комментариями, показывающие порядок выполнения лабораторной работы, и результаты, полученные в ходе её выполнения.\n",
        "Отчет о выполнении лабораторной работы сдается преподавателю.\n",
        "\n",
        "Контрольные вопросы\n",
        "\n",
        "1.\tКакая библиотека python предназначена для управления наборами данных: numpy, pandas, sklearn, opencv, matplotlib?\n",
        "2.\tКакая стратегия является нежелательной при обработке пропусков в данных?\n",
        "а) замена пропущенных значений в столбце медианным значением по\n",
        "данному столбцу;\n",
        "б) удаление строк, содержащих пропуски в данных;\n",
        "в) замена пропущенных значений в столбце средним арифметическим\n",
        "значением по данному столбцу;\n",
        "\tг) \tзамена \tпропущенных \tзначений \tв \tстолбце \tнаиболее \tчасто\n",
        "встречающимся значением по данному столбцу;\n",
        "3.\tОбоснуйте ответ на следующую проблему предварительной обработки данных: имеется независимая категориальная переменная y, которая представляет собой категориальный признак, опеределнный на домене {C#, Java, Python, R}. Нужно ли применять к данному целевому признаку OneHotEncoder?\n",
        "4.\tПоясните принцип разбиения набора данных на обучающую и тестовую выборку. Какое соотношение «тестовая:обучающая» наиболее оптимально: 20:80, 50:50, 25:75, 5:95, 40:30?\n",
        "5.\tКакой код лучше использовать при загрузке данных из csv-файла?\n",
        "а) dataset = read_csv(“data.csv”)\n",
        "б) dataset = import(“data.csv”)\n",
        "в) dataset = read.csv(“data.csv”)\n",
        "г) dataset = import.csv(“data.csv”)\n",
        "д) dataset = read_xls(“data.csv”)\n",
        "\n",
        "Список литературы\n",
        "\n",
        "Для выполнения лабораторной работы, при подготовке к защите, а также для ответа на контрольные вопросы рекомендуется использовать следующие\n",
        "источники: [1, 2, 5-7].\n",
        "\n",
        "\n"
      ],
      "metadata": {
        "id": "shJQYUf-vdiV"
      }
    }
  ]
}