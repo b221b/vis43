{
  "nbformat": 4,
  "nbformat_minor": 0,
  "metadata": {
    "colab": {
      "provenance": [],
      "toc_visible": true
    },
    "kernelspec": {
      "name": "python3",
      "display_name": "Python 3"
    },
    "language_info": {
      "name": "python"
    }
  },
  "cells": [
    {
      "cell_type": "markdown",
      "source": [
        "#Задача 1"
      ],
      "metadata": {
        "id": "0_FCuCVNi4a4"
      }
    },
    {
      "cell_type": "markdown",
      "source": [
        "1. Разработать программу решения производственной задачи. Цех может производить стулья и столы. На производство стула идет 5 единиц материала, на производство стола – 20 единиц. Для изготовления стула требуется 10 человеко-   часов, стола – 15 Имеется 400 единиц материала и 450 человеко-часов. Прибыль при производстве стула – 45 у.е., при производстве стола – 80 у.е. Сколько надо сделать стульев и столов, чтобы получить максимальную прибыль?"
      ],
      "metadata": {
        "id": "4PWmqKyyg-T3"
      }
    },
    {
      "cell_type": "markdown",
      "source": [
        "Определение ограничений"
      ],
      "metadata": {
        "id": "yOSatow7qbO9"
      }
    },
    {
      "cell_type": "code",
      "source": [
        "import random\n",
        "\n",
        "MATERIAL_LIMIT = 400\n",
        "HOURS_LIMIT = 450"
      ],
      "metadata": {
        "id": "rPFXY9WMqvWF"
      },
      "execution_count": 1,
      "outputs": []
    },
    {
      "cell_type": "markdown",
      "source": [
        "Функция оценки (fitness)"
      ],
      "metadata": {
        "id": "rZwqFJnErQa9"
      }
    },
    {
      "cell_type": "code",
      "source": [
        "def fitness(individual):\n",
        "    \"\"\"Вычисляем прибыль.\"\"\"\n",
        "    x, y = individual\n",
        "    if 5*x + 20*y > MATERIAL_LIMIT or 10*x + 15*y > HOURS_LIMIT:\n",
        "        return 0  # несоответствие ограничениям\n",
        "    return 45*x + 80*y  # целевая функция"
      ],
      "metadata": {
        "id": "NetRgeLtrSc3"
      },
      "execution_count": 2,
      "outputs": []
    },
    {
      "cell_type": "markdown",
      "source": [
        "Функция мутации"
      ],
      "metadata": {
        "id": "Sx4oW8KorTa6"
      }
    },
    {
      "cell_type": "code",
      "source": [
        "def mutate(individual):\n",
        "    \"\"\"Выполняем мутацию: случайное изменение количества столов или стульев.\"\"\"\n",
        "    x, y = individual\n",
        "    if random.random() < 0.5:\n",
        "        x = max(0, x + random.choice([-1, 1]))  # Изменяем количество стульев\n",
        "    else:\n",
        "        y = max(0, y + random.choice([-1, 1]))  # Изменяем количество столов\n",
        "    return (x, y)"
      ],
      "metadata": {
        "id": "NHzk6BksrU5X"
      },
      "execution_count": 3,
      "outputs": []
    },
    {
      "cell_type": "markdown",
      "source": [
        "Функция кроссовера"
      ],
      "metadata": {
        "id": "2PWR2AADrV_6"
      }
    },
    {
      "cell_type": "code",
      "source": [
        "def crossover(parent1, parent2):\n",
        "    \"\"\"Скrossover двух индивидов.\"\"\"\n",
        "    return (parent1[0], parent2[1])  # простой способ кроссовера"
      ],
      "metadata": {
        "id": "rO5cqx0HrXk7"
      },
      "execution_count": 4,
      "outputs": []
    },
    {
      "cell_type": "markdown",
      "source": [
        "Генетический алгоритм"
      ],
      "metadata": {
        "id": "k6Hvk06NrYyM"
      }
    },
    {
      "cell_type": "code",
      "source": [
        "def genetic_algorithm(population_size, generations):\n",
        "    population = [(random.randint(0, 80), random.randint(0, 20)) for _ in range(population_size)]\n",
        "\n",
        "    for generation in range(generations):\n",
        "        population = sorted(population, key=fitness, reverse=True)  # сортируем по прибыли\n",
        "        new_population = population[:int(population_size / 2)]  # отбор\n",
        "\n",
        "        while len(new_population) < population_size:\n",
        "            parent1, parent2 = random.sample(new_population, 2)\n",
        "            child = crossover(parent1, parent2)\n",
        "            child = mutate(child)\n",
        "            new_population.append(child)\n",
        "\n",
        "        population = new_population\n",
        "\n",
        "    best_solution = max(population, key=fitness)\n",
        "    return best_solution, fitness(best_solution)"
      ],
      "metadata": {
        "id": "AEAZIy88rbvl"
      },
      "execution_count": 5,
      "outputs": []
    },
    {
      "cell_type": "markdown",
      "source": [
        "Запуск алгоритма"
      ],
      "metadata": {
        "id": "eKTiYGOFrd2S"
      }
    },
    {
      "cell_type": "code",
      "execution_count": 6,
      "metadata": {
        "colab": {
          "base_uri": "https://localhost:8080/"
        },
        "id": "499uJGjdg7Pc",
        "outputId": "70fc4d81-a694-4616-d9dd-6ea93d10797d"
      },
      "outputs": [
        {
          "output_type": "stream",
          "name": "stdout",
          "text": [
            "Лучшее решение: (24, 14), Прибыль: 2200\n"
          ]
        }
      ],
      "source": [
        "best_solution, best_fitness = genetic_algorithm(population_size=100, generations=200)\n",
        "print(f\"Лучшее решение: {best_solution}, Прибыль: {best_fitness}\")\n"
      ]
    },
    {
      "cell_type": "markdown",
      "source": [
        "#Задача 2"
      ],
      "metadata": {
        "id": "XMp5dISWi9J_"
      }
    },
    {
      "cell_type": "markdown",
      "source": [
        "2. Разработать программу решения задачи раскроя. Найти оптимальный вариант раскроя некоторого количества рулонов бумаги фиксированной ширины для различных заказчиков (которым нужны различные количества рулонов различной ширины), минимизировав при этом отходы."
      ],
      "metadata": {
        "id": "PwxykXA3hFS6"
      }
    },
    {
      "cell_type": "markdown",
      "source": [
        "Определение класса Order и класса Roll"
      ],
      "metadata": {
        "id": "zZRkCcfMrrNw"
      }
    },
    {
      "cell_type": "code",
      "source": [
        "class Order:\n",
        "    def __init__(self, required_width, quantity):\n",
        "        self.required_width = required_width\n",
        "        self.quantity = quantity\n",
        "\n",
        "class Roll:\n",
        "    def __init__(self, width):\n",
        "        self.width = width\n",
        "        self.remaining_width = width  # оставшаяся ширина для раскроя"
      ],
      "metadata": {
        "id": "4cLwnhsZiSj5"
      },
      "execution_count": 7,
      "outputs": []
    },
    {
      "cell_type": "markdown",
      "source": [
        "Функция для раскроя рулона"
      ],
      "metadata": {
        "id": "LNAMELGkrxMi"
      }
    },
    {
      "cell_type": "code",
      "source": [
        "def cut_roll(orders, roll):\n",
        "    used_orders = []\n",
        "    for order in orders:\n",
        "        while order.quantity > 0 and roll.remaining_width >= order.required_width:\n",
        "            # Если есть достаточно ширины в рулоне для заказа\n",
        "            roll.remaining_width -= order.required_width\n",
        "            order.quantity -= 1\n",
        "            used_orders.append(order.required_width)  # Запоминаем использованную ширину\n",
        "\n",
        "    return roll.remaining_width, used_orders"
      ],
      "metadata": {
        "id": "wSK_4EFPifsR"
      },
      "execution_count": 8,
      "outputs": []
    },
    {
      "cell_type": "markdown",
      "source": [
        "Основная функция"
      ],
      "metadata": {
        "id": "CpsQzjh9ryjO"
      }
    },
    {
      "cell_type": "code",
      "source": [
        "def main():\n",
        "    # Входные данные\n",
        "    roll_width = 120  # фиксированная ширина рулонов\n",
        "    orders = [Order(30, 2), Order(45, 1), Order(25, 3)]  # список заказов\n",
        "\n",
        "    # Инициализация рулона\n",
        "    roll = Roll(roll_width)\n",
        "\n",
        "    print(f\"Начальная ширина рулона: {roll.width}\")\n",
        "\n",
        "    # Вызов функции для раскроя рулона\n",
        "    remaining_width, used_orders = cut_roll(orders, roll)\n",
        "\n",
        "    print(f\"Использованные ширины: {used_orders}\")\n",
        "    print(f\"Остаточная ширина: {remaining_width}\")\n",
        "\n",
        "if __name__ == \"__main__\":\n",
        "    main()\n"
      ],
      "metadata": {
        "colab": {
          "base_uri": "https://localhost:8080/"
        },
        "id": "_4Gsfh-RiScI",
        "outputId": "47ac69ba-205f-42ea-be51-d55a328e79aa"
      },
      "execution_count": 11,
      "outputs": [
        {
          "output_type": "stream",
          "name": "stdout",
          "text": [
            "Начальная ширина рулона: 120\n",
            "Использованные ширины: [30, 30, 45]\n",
            "Остаточная ширина: 15\n"
          ]
        }
      ]
    },
    {
      "cell_type": "markdown",
      "source": [
        "#Задача 3"
      ],
      "metadata": {
        "id": "2tRhO35Fi9_N"
      }
    },
    {
      "cell_type": "markdown",
      "source": [
        "3. Разработать программу решения транспортной задачи. Составить оптимальный план перевозок между N складами и K магазинами, при котором стоимость перевозок будет минимальна. Известна потребность в товаре каждым магазином, наличие товара на складах и стоимость перевозки единицы продукции с каждого склада до каждого магазина."
      ],
      "metadata": {
        "id": "SqL31kA2hGJj"
      }
    },
    {
      "cell_type": "markdown",
      "source": [
        "Импорт библиотек"
      ],
      "metadata": {
        "id": "-kM8zkyAsAtK"
      }
    },
    {
      "cell_type": "code",
      "source": [
        "import numpy as np\n",
        "from scipy.optimize import linprog"
      ],
      "metadata": {
        "id": "bxCPtKNpsBJx"
      },
      "execution_count": 12,
      "outputs": []
    },
    {
      "cell_type": "markdown",
      "source": [
        "Определение функции транспортной задачи\n"
      ],
      "metadata": {
        "id": "vnnMkUQNsDAH"
      }
    },
    {
      "cell_type": "code",
      "source": [
        "def transport_problem(costs, supply, demand):\n",
        "    num_sources, num_dests = costs.shape\n",
        "\n",
        "    # Проверка на соответствие запасов и потребностей\n",
        "    if sum(supply) != sum(demand):\n",
        "        print(\"Ошибка: Сумма запасов не равна сумме потребностей.\")\n",
        "        return None\n",
        "\n",
        "    # Настройка коэффициентов\n",
        "    c = costs.flatten()\n",
        "    A_eq = []\n",
        "    b_eq = []\n",
        "\n",
        "    # Ограничения для поставок\n",
        "    for i in range(num_sources):\n",
        "        row = [1 if j // num_dests == i else 0 for j in range(num_sources * num_dests)]\n",
        "        A_eq.append(row)\n",
        "        b_eq.append(supply[i])\n",
        "\n",
        "    # Ограничения для потребностей\n",
        "    for j in range(num_dests):\n",
        "        col = [1 if j % num_dests == j else 0 for j in range(num_sources * num_dests)]\n",
        "        A_eq.append(col)\n",
        "        b_eq.append(demand[j])\n",
        "\n",
        "    # Преобразование в numpy массив\n",
        "    A_eq = np.array(A_eq)\n",
        "    b_eq = np.array(b_eq)\n",
        "\n",
        "    print(\"Коэффициенты затрат:\", c)\n",
        "    print(\"Массив ограничений A_eq:\", A_eq)\n",
        "    print(\"Массив ограничений b_eq:\", b_eq)\n",
        "\n",
        "    # Решение проблемы линейного программирования\n",
        "    res = linprog(c, A_eq=A_eq, b_eq=b_eq, method='highs')\n",
        "\n",
        "    if res.success:\n",
        "        optimal_cost = res.fun\n",
        "        optimal_distribution = res.x.reshape((num_sources, num_dests))\n",
        "        return optimal_cost, optimal_distribution\n",
        "    else:\n",
        "        print(\"Не удалось найти решение. Причина:\", res.message)\n",
        "        return None"
      ],
      "metadata": {
        "id": "yhYAXgpdsGGs"
      },
      "execution_count": 13,
      "outputs": []
    },
    {
      "cell_type": "markdown",
      "source": [
        "Основная функция"
      ],
      "metadata": {
        "id": "fgf9IGOasHDY"
      }
    },
    {
      "cell_type": "code",
      "source": [
        "def main():\n",
        "    # Измените на свои данные\n",
        "    supply = np.array([30, 30])\n",
        "    demand = np.array([30, 30])\n",
        "    costs = np.array([[1, 2],\n",
        "                       [3, 4]])\n",
        "\n",
        "    result = transport_problem(costs, supply, demand)\n",
        "\n",
        "    if result:\n",
        "        optimal_cost, optimal_distribution = result\n",
        "        print(f\"Минимальные транспортные затраты: {optimal_cost}\")\n",
        "        print(\"Оптимальный план перевозок:\")\n",
        "        print(optimal_distribution)\n",
        "    else:\n",
        "        print(\"Не удалось найти решение.\")\n",
        "\n",
        "if __name__ == \"__main__\":\n",
        "    main()\n"
      ],
      "metadata": {
        "colab": {
          "base_uri": "https://localhost:8080/"
        },
        "id": "sGZC3dlAjNWa",
        "outputId": "abe6af78-5387-4b2f-919e-a5b23b10fea4"
      },
      "execution_count": 14,
      "outputs": [
        {
          "output_type": "stream",
          "name": "stdout",
          "text": [
            "Коэффициенты затрат: [1 2 3 4]\n",
            "Массив ограничений A_eq: [[1 1 0 0]\n",
            " [0 0 1 1]\n",
            " [1 1 0 0]\n",
            " [1 1 0 0]]\n",
            "Массив ограничений b_eq: [30 30 30 30]\n",
            "Минимальные транспортные затраты: 120.0\n",
            "Оптимальный план перевозок:\n",
            "[[30.  0.]\n",
            " [30.  0.]]\n"
          ]
        }
      ]
    },
    {
      "cell_type": "markdown",
      "source": [
        "#Задача 4"
      ],
      "metadata": {
        "id": "zUOG-7Dri-zx"
      }
    },
    {
      "cell_type": "markdown",
      "source": [
        "4. Разработать программу поиска минимального остовного дерева. Есть несколько городов, которые необходимо соединить дорогами так, чтобы можно было добраться из любого города в любой другой (напрямую или через другие города). Разрешается строить дороги между заданными парами городов, и известна стоимость строительства каждой такой дороги. Требуется решить, какие именно дороги нужно строить, чтобы минимизировать общую стоимость строительства."
      ],
      "metadata": {
        "id": "DMRZhNCmhHDd"
      }
    },
    {
      "cell_type": "markdown",
      "source": [
        "Импорт библиотек"
      ],
      "metadata": {
        "id": "yxroPdijsihK"
      }
    },
    {
      "cell_type": "code",
      "source": [
        "import matplotlib.pyplot as plt\n",
        "import networkx as nx"
      ],
      "metadata": {
        "id": "30F0OwAHsjFU"
      },
      "execution_count": 15,
      "outputs": []
    },
    {
      "cell_type": "markdown",
      "source": [
        "Определение класса DisjointSet"
      ],
      "metadata": {
        "id": "pT2KeTtCslCd"
      }
    },
    {
      "cell_type": "code",
      "source": [
        "class DisjointSet:\n",
        "    def __init__(self, n):\n",
        "        self.parent = list(range(n))\n",
        "        self.rank = [0] * n\n",
        "\n",
        "    def find(self, u):\n",
        "        if self.parent[u] != u:\n",
        "            self.parent[u] = self.find(self.parent[u])  # Path compression\n",
        "        return self.parent[u]\n",
        "\n",
        "    def union(self, u, v):\n",
        "        root_u = self.find(u)\n",
        "        root_v = self.find(v)\n",
        "\n",
        "        if root_u != root_v:\n",
        "            # Union by rank\n",
        "            if self.rank[root_u] > self.rank[root_v]:\n",
        "                self.parent[root_v] = root_u\n",
        "            elif self.rank[root_u] < self.rank[root_v]:\n",
        "                self.parent[root_u] = root_v\n",
        "            else:\n",
        "                self.parent[root_v] = root_u\n",
        "                self.rank[root_u] += 1"
      ],
      "metadata": {
        "id": "NB-fMt5Ssnh9"
      },
      "execution_count": 16,
      "outputs": []
    },
    {
      "cell_type": "markdown",
      "source": [
        "Определение функции Kruskal"
      ],
      "metadata": {
        "id": "NRLRq-AfsoqN"
      }
    },
    {
      "cell_type": "code",
      "source": [
        "def kruskal(n, edges):\n",
        "    ds = DisjointSet(n)\n",
        "    mst_edges = []\n",
        "    total_cost = 0\n",
        "\n",
        "    # Сортируем ребра по весам (стоимости)\n",
        "    edges.sort(key=lambda x: x[2])  # x[2] - это вес ребер\n",
        "\n",
        "    for u, v, weight in edges:\n",
        "        # Если u и v не в одном компоненте, добавляем это ребро в остовное дерево\n",
        "        if ds.find(u) != ds.find(v):\n",
        "            ds.union(u, v)\n",
        "            mst_edges.append((u, v, weight))\n",
        "            total_cost += weight\n",
        "\n",
        "    return mst_edges, total_cost"
      ],
      "metadata": {
        "id": "YfQFXf_csq0b"
      },
      "execution_count": 17,
      "outputs": []
    },
    {
      "cell_type": "markdown",
      "source": [
        "Определение функции для рисования графа"
      ],
      "metadata": {
        "id": "PcXoA303ssdP"
      }
    },
    {
      "cell_type": "code",
      "source": [
        "def draw_graph(n, edges, mst_edges):\n",
        "    G = nx.Graph()\n",
        "\n",
        "    # Добавляем все ребра в граф\n",
        "    G.add_weighted_edges_from(edges)\n",
        "\n",
        "    # Рисуем весь граф\n",
        "    pos = nx.spring_layout(G)\n",
        "    nx.draw(G, pos, with_labels=True, node_color='lightblue', node_size=700, font_size=10, font_color='black')\n",
        "    edge_labels = nx.get_edge_attributes(G, 'weight')\n",
        "    nx.draw_networkx_edge_labels(G, pos, edge_labels=edge_labels)\n",
        "\n",
        "    # Обозначаем MST\n",
        "    mst = nx.Graph()\n",
        "    mst.add_weighted_edges_from(mst_edges)\n",
        "    nx.draw(mst, pos, edge_color='red', width=2, with_labels=True)\n",
        "\n",
        "    plt.title(\"Граф и его минимальное остовное дерево (MST)\")\n",
        "    plt.show()"
      ],
      "metadata": {
        "id": "XiS8EjPnsuJD"
      },
      "execution_count": 18,
      "outputs": []
    },
    {
      "cell_type": "markdown",
      "source": [
        "Основная функция"
      ],
      "metadata": {
        "id": "NpttYU16swSh"
      }
    },
    {
      "cell_type": "code",
      "source": [
        "def main():\n",
        "    # Пример: количество городов и дорог\n",
        "    n = 5  # количество городов (вершин)\n",
        "    edges = [\n",
        "        (0, 1, 10),  # (город_1, город_2, стоимость)\n",
        "        (0, 2, 6),\n",
        "        (0, 3, 5),\n",
        "        (1, 3, 15),\n",
        "        (2, 3, 4)\n",
        "    ]\n",
        "\n",
        "    mst_edges, total_cost = kruskal(n, edges)\n",
        "\n",
        "    print(\"Ребра минимального остовного дерева:\")\n",
        "    for u, v, weight in mst_edges:\n",
        "        print(f\"Город {u} - Город {v}, Стоимость: {weight}\")\n",
        "    print(\"Общая стоимость строительства:\", total_cost)\n",
        "\n",
        "    # Визуализация\n",
        "    draw_graph(n, edges, mst_edges)\n",
        "\n",
        "if __name__ == \"__main__\":\n",
        "    main()\n"
      ],
      "metadata": {
        "colab": {
          "base_uri": "https://localhost:8080/",
          "height": 626
        },
        "id": "tsEwkVfNj53g",
        "outputId": "f6736da9-1634-4170-b106-1a1bea795bfc"
      },
      "execution_count": 19,
      "outputs": [
        {
          "output_type": "stream",
          "name": "stdout",
          "text": [
            "Ребра минимального остовного дерева:\n",
            "Город 2 - Город 3, Стоимость: 4\n",
            "Город 0 - Город 3, Стоимость: 5\n",
            "Город 0 - Город 1, Стоимость: 10\n",
            "Общая стоимость строительства: 19\n"
          ]
        },
        {
          "output_type": "display_data",
          "data": {
            "text/plain": [
              "<Figure size 640x480 with 1 Axes>"
            ],
            "image/png": "[encoded data removed]"
          },
          "metadata": {}
        }
      ]
    },
    {
      "cell_type": "markdown",
      "source": [
        "#Задача 5"
      ],
      "metadata": {
        "id": "rcvGNiYzi_3m"
      }
    },
    {
      "cell_type": "markdown",
      "source": [
        "5. Разработать программу решения задачи о максимальном потоке. Как (т.е. по каким маршрутам) послать максимально возможное количество грузов из начального пункта в конечный пункт, если пропускная способность путей между пунктами ограничена?"
      ],
      "metadata": {
        "id": "0jRP9ltNhH32"
      }
    },
    {
      "cell_type": "markdown",
      "source": [
        "Импорт библиотек"
      ],
      "metadata": {
        "id": "il3rPZfZs9O4"
      }
    },
    {
      "cell_type": "code",
      "source": [
        "import networkx as nx\n",
        "import matplotlib.pyplot as plt"
      ],
      "metadata": {
        "id": "zkKR3t5xs-is"
      },
      "execution_count": 20,
      "outputs": []
    },
    {
      "cell_type": "markdown",
      "source": [
        "Создаем граф"
      ],
      "metadata": {
        "id": "enc7_HdmtBx9"
      }
    },
    {
      "cell_type": "code",
      "source": [
        "def create_graph():\n",
        "    G = nx.DiGraph()  # Создаем ориентированный граф\n",
        "\n",
        "    # Добавляем ребра и их пропускные способности\n",
        "    G.add_edge('A', 'B', capacity=10)\n",
        "    G.add_edge('A', 'C', capacity=5)\n",
        "    G.add_edge('B', 'C', capacity=15)\n",
        "    G.add_edge('B', 'D', capacity=10)\n",
        "    G.add_edge('C', 'D', capacity=10)\n",
        "\n",
        "    return G"
      ],
      "metadata": {
        "id": "aR5N-9ngtC3M"
      },
      "execution_count": 21,
      "outputs": []
    },
    {
      "cell_type": "code",
      "source": [
        "def max_flow(G, source, sink):\n",
        "    # Используем алгоритм Эдмондса-Карпи для нахождения максимального потока\n",
        "    flow_value, flow_dict = nx.maximum_flow(G, source, sink)\n",
        "\n",
        "    return flow_value, flow_dict"
      ],
      "metadata": {
        "id": "8yZNOPvhtH9_"
      },
      "execution_count": 22,
      "outputs": []
    },
    {
      "cell_type": "code",
      "source": [
        "def draw_graph(G, flow_dict):\n",
        "    pos = nx.spring_layout(G)\n",
        "    nx.draw(G, pos, with_labels=True, node_color='lightblue', node_size=700, font_size=10, font_color='black')\n",
        "\n",
        "    # Рисуем веса ребер (пропускные способности)\n",
        "    edge_labels = nx.get_edge_attributes(G, 'capacity')\n",
        "    nx.draw_networkx_edge_labels(G, pos, edge_labels=edge_labels)\n",
        "\n",
        "    # Отображаем поток по ребрам\n",
        "    for u, v in flow_dict.items():\n",
        "        for target, flow in v.items():\n",
        "            if flow > 0:\n",
        "                edge_labels[(u, target)] = f\"{edge_labels[(u, target)]} (ф: {flow})\"\n",
        "    nx.draw_networkx_edge_labels(G, pos, edge_labels=edge_labels)\n",
        "\n",
        "    plt.title(\"Граф с максимальным потоком\")\n",
        "    plt.show()"
      ],
      "metadata": {
        "id": "tFcq0ERDtJZM"
      },
      "execution_count": 23,
      "outputs": []
    },
    {
      "cell_type": "code",
      "source": [
        "def main():\n",
        "    G = create_graph()\n",
        "    source = 'A'  # Начальный пункт\n",
        "    sink = 'D'    # Конечный пункт\n",
        "\n",
        "    flow_value, flow_dict = max_flow(G, source, sink)\n",
        "\n",
        "    print(\"Максимальный поток:\", flow_value)\n",
        "    for u in flow_dict:\n",
        "        for v in flow_dict[u]:\n",
        "            if flow_dict[u][v] > 0:\n",
        "                print(f\"Путь из {u} в {v} с потоком {flow_dict[u][v]}\")\n",
        "\n",
        "    draw_graph(G, flow_dict)\n",
        "\n",
        "if __name__ == \"__main__\":\n",
        "    main()\n"
      ],
      "metadata": {
        "colab": {
          "base_uri": "https://localhost:8080/",
          "height": 626
        },
        "id": "3xYCb81ykqE4",
        "outputId": "1a13f920-b210-4a01-b190-a088203c466e"
      },
      "execution_count": 24,
      "outputs": [
        {
          "output_type": "stream",
          "name": "stdout",
          "text": [
            "Максимальный поток: 15\n",
            "Путь из A в B с потоком 10\n",
            "Путь из A в C с потоком 5\n",
            "Путь из B в D с потоком 10\n",
            "Путь из C в D с потоком 5\n"
          ]
        },
        {
          "output_type": "display_data",
          "data": {
            "text/plain": [
              "<Figure size 640x480 with 1 Axes>"
            ],
            "image/png": "[encoded data removed]"
          },
          "metadata": {}
        }
      ]
    },
    {
      "cell_type": "markdown",
      "source": [
        "#Задача 6"
      ],
      "metadata": {
        "id": "SQmIIsqXjAr0"
      }
    },
    {
      "cell_type": "markdown",
      "source": [
        "6. Разработать программу решения задачи о назначениях. Имеется некоторое число работ и некоторое число исполнителей. Любой исполнитель может быть назначен на выполнение любой (но только одной) работы, но с неодинаковыми затратами. Нужно распределить работы так, чтобы выполнить их с минимальными затратами."
      ],
      "metadata": {
        "id": "DNfsl7bshImX"
      }
    },
    {
      "cell_type": "code",
      "source": [
        "import numpy as np\n",
        "from scipy.optimize import linear_sum_assignment"
      ],
      "metadata": {
        "id": "L7EFUwUwtL_N"
      },
      "execution_count": 25,
      "outputs": []
    },
    {
      "cell_type": "code",
      "source": [
        "def main():\n",
        "    # Матрица затрат: строки - исполнители, столбцы - работы\n",
        "    costs = np.array([\n",
        "        [4, 2, 8],\n",
        "        [2, 4, 5],\n",
        "        [3, 7, 3]\n",
        "    ])\n",
        "\n",
        "    # Решаем задачу о назначениях\n",
        "    row_ind, col_ind = linear_sum_assignment(costs)\n",
        "\n",
        "    # Вычисляем минимальные затраты\n",
        "    min_cost = costs[row_ind, col_ind].sum()\n",
        "\n",
        "    # Выводим результаты\n",
        "    print(\"Назначения:\")\n",
        "    for r, c in zip(row_ind, col_ind):\n",
        "        print(f\"Исполнитель {r + 1} назначен на работу {c + 1} с затратами {costs[r, c]}\")\n",
        "\n",
        "    print(f\"\\nМинимальные затраты: {min_cost}\")\n",
        "\n",
        "if __name__ == \"__main__\":\n",
        "    main()\n"
      ],
      "metadata": {
        "colab": {
          "base_uri": "https://localhost:8080/"
        },
        "id": "woKCEBdXkyp6",
        "outputId": "2f26d253-451d-40e3-c626-31b205add4cb"
      },
      "execution_count": 26,
      "outputs": [
        {
          "output_type": "stream",
          "name": "stdout",
          "text": [
            "Назначения:\n",
            "Исполнитель 1 назначен на работу 2 с затратами 2\n",
            "Исполнитель 2 назначен на работу 1 с затратами 2\n",
            "Исполнитель 3 назначен на работу 3 с затратами 3\n",
            "\n",
            "Минимальные затраты: 7\n"
          ]
        }
      ]
    },
    {
      "cell_type": "markdown",
      "source": [
        "#Задача 7"
      ],
      "metadata": {
        "id": "RX9Xd6opjBjZ"
      }
    },
    {
      "cell_type": "markdown",
      "source": [
        "7. Разработать программу о назначении целей. Найти оптимальное распределение комплекта различного вооружения для поражения целей для нанесения максимального поражения противнику."
      ],
      "metadata": {
        "id": "ImR5AGkRhJgI"
      }
    },
    {
      "cell_type": "code",
      "source": [
        "import numpy as np\n",
        "import matplotlib.pyplot as plt\n",
        "from scipy.optimize import linear_sum_assignment\n",
        "\n",
        "def main():\n",
        "    # Матрица урона: строки - вооружение, столбцы - цели\n",
        "    damage_matrix = np.array([\n",
        "        [10, 20, 15],  # Урон от первого типа вооружения\n",
        "        [25, 18, 30],  # Урон от второго типа вооружения\n",
        "        [15, 25, 20],  # Урон от третьего типа вооружения\n",
        "    ])\n",
        "\n",
        "    # Преобразуем матрицу урона в отрицательные значения\n",
        "    cost_matrix = -damage_matrix\n",
        "\n",
        "    # Выполняем алгоритм Венгера\n",
        "    row_ind, col_ind = linear_sum_assignment(cost_matrix)\n",
        "\n",
        "    # Вычисляем максимальный урон\n",
        "    max_damage = damage_matrix[row_ind, col_ind].sum()\n",
        "\n",
        "    # Выводим распределение и общий урон\n",
        "    print(\"Оптимальное распределение вооружения по целям:\")\n",
        "    for r, c in zip(row_ind, col_ind):\n",
        "        print(f\"Вооружение {r + 1} назначено на цель {c + 1} с уроном {damage_matrix[r, c]}\")\n",
        "\n",
        "    print(f\"\\nМаксимальный общий урон: {max_damage}\")\n",
        "\n",
        "    # Визуализация\n",
        "    plt.figure(figsize=(10, 6))\n",
        "    plt.imshow(damage_matrix, cmap='Blues', alpha=0.5)\n",
        "    plt.colorbar(label='Урон')\n",
        "\n",
        "    # Добавление аннотаций\n",
        "    for i in range(damage_matrix.shape[0]):\n",
        "        for j in range(damage_matrix.shape[1]):\n",
        "            plt.text(j, i, damage_matrix[i, j], ha='center', va='center')\n",
        "\n",
        "    # Отображение назначений\n",
        "    for r, c in zip(row_ind, col_ind):\n",
        "        plt.plot(c, r, 'ro', markersize=12)  # Красные точки для каждой линии назначения\n",
        "        plt.text(c, r, ' →', color='red', fontsize=12, ha='left', va='center')\n",
        "\n",
        "    plt.xticks(np.arange(damage_matrix.shape[1]), [f'Цель {i + 1}' for i in range(damage_matrix.shape[1])])\n",
        "    plt.yticks(np.arange(damage_matrix.shape[0]), [f'Вооружение {i + 1}' for i in range(damage_matrix.shape[0])])\n",
        "    plt.title('Оптимальное распределение вооружения по целям')\n",
        "    plt.xlabel('Цели')\n",
        "    plt.ylabel('Вооружение')\n",
        "\n",
        "    plt.grid(False)  # Отключаем сетку для чистоты графика\n",
        "    plt.show()\n",
        "\n",
        "if __name__ == \"__main__\":\n",
        "    main()\n"
      ],
      "metadata": {
        "colab": {
          "base_uri": "https://localhost:8080/",
          "height": 668
        },
        "id": "egAT5_TDk6S1",
        "outputId": "b57b3df3-4d4e-4f44-e302-5873570c4c61"
      },
      "execution_count": 34,
      "outputs": [
        {
          "output_type": "stream",
          "name": "stdout",
          "text": [
            "Оптимальное распределение вооружения по целям:\n",
            "Вооружение 1 назначено на цель 2 с уроном 20\n",
            "Вооружение 2 назначено на цель 3 с уроном 30\n",
            "Вооружение 3 назначено на цель 1 с уроном 15\n",
            "\n",
            "Максимальный общий урон: 65\n"
          ]
        },
        {
          "output_type": "display_data",
          "data": {
            "text/plain": [
              "<Figure size 1000x600 with 2 Axes>"
            ],
            "image/png": "[encoded data removed]"
          },
          "metadata": {}
        }
      ]
    },
    {
      "cell_type": "markdown",
      "source": [
        "#Задача 8"
      ],
      "metadata": {
        "id": "UIVZWkgXjCXM"
      }
    },
    {
      "cell_type": "markdown",
      "source": [
        "8. Разработать программу решения задачи о загрузке (ранце).\n",
        "Из заданного множества предметов со свойствами «стоимость» и «вес» требуется отобрать некое число предметов таким образом, чтобы получить максимальную суммарную стоимость при одновременном соблюдении ограничения на суммарный вес.\n"
      ],
      "metadata": {
        "id": "JEE5KKtQhKR9"
      }
    },
    {
      "cell_type": "code",
      "source": [
        "def knapsack(weights, values, capacity):\n",
        "    n = len(values)\n",
        "    # Создаем таблицу для хранения максимальных значений\n",
        "    K = [[0 for _ in range(capacity + 1)] for _ in range(n + 1)]\n",
        "\n",
        "    # Заполняем таблицу\n",
        "    for i in range(1, n + 1):\n",
        "        for w in range(capacity + 1):\n",
        "            # Если вес текущего предмета больше, чем текущая вместимость, пропускаем его\n",
        "            if weights[i - 1] <= w:\n",
        "                # Берем максимум из 2 случаев:\n",
        "                # 1. Текущий предмет не включен\n",
        "                # 2. Текущий предмет включен\n",
        "                K[i][w] = max(K[i - 1][w], K[i - 1][w - weights[i - 1]] + values[i - 1])\n",
        "            else:\n",
        "                # Если предмет слишком тяжелый, он не может быть включен\n",
        "                K[i][w] = K[i - 1][w]\n",
        "\n",
        "    return K[n][capacity]\n",
        "\n",
        "# Пример использования\n",
        "if __name__ == \"__main__\":\n",
        "    # Примерные данные: вес и стоимость предметов\n",
        "    weights = [2, 3, 4, 5]\n",
        "    values = [3, 4, 5, 6]\n",
        "    capacity = 5\n",
        "\n",
        "    max_value = knapsack(weights, values, capacity)\n",
        "    print(f\"Максимальная стоимость, которую можно получить: {max_value}\")\n"
      ],
      "metadata": {
        "colab": {
          "base_uri": "https://localhost:8080/"
        },
        "id": "3E3Rt64HlPc2",
        "outputId": "8db7f43f-eaad-4b9d-def0-ebf8c9ba6413"
      },
      "execution_count": 35,
      "outputs": [
        {
          "output_type": "stream",
          "name": "stdout",
          "text": [
            "Максимальная стоимость, которую можно получить: 7\n"
          ]
        }
      ]
    },
    {
      "cell_type": "markdown",
      "source": [
        "#Задача 9"
      ],
      "metadata": {
        "id": "WGnU9Au-jDKA"
      }
    },
    {
      "cell_type": "markdown",
      "source": [
        "9. Разработать программу решения задачи о кратчайшем пути. Как кратчайшим путем (с наименьшим расходом топлива и времени, т.е. дешевле) попасть из пункта А в пункт Б?"
      ],
      "metadata": {
        "id": "ypTvPA6BhK-H"
      }
    },
    {
      "cell_type": "code",
      "source": [
        "import heapq\n",
        "\n",
        "def dijkstra(graph, start):\n",
        "    # Инициализация расстояний\n",
        "    distances = {node: float('inf') for node in graph}\n",
        "    distances[start] = 0\n",
        "    priority_queue = [(0, start)]\n",
        "\n",
        "    while priority_queue:\n",
        "        current_distance, current_node = heapq.heappop(priority_queue)\n",
        "\n",
        "        # Узел может быть уже обработан\n",
        "        if current_distance > distances[current_node]:\n",
        "            continue\n",
        "\n",
        "        # Обработка соседних узлов\n",
        "        for neighbor, weight in graph[current_node].items():\n",
        "            distance = current_distance + weight\n",
        "\n",
        "            # Если найдено более короткое расстояние\n",
        "            if distance < distances[neighbor]:\n",
        "                distances[neighbor] = distance\n",
        "                heapq.heappush(priority_queue, (distance, neighbor))\n",
        "\n",
        "    return distances\n",
        "\n",
        "# Пример графа в виде словаря\n",
        "graph = {\n",
        "    'A': {'B': 1, 'C': 4},\n",
        "    'B': {'A': 1, 'C': 2, 'D': 5},\n",
        "    'C': {'A': 4, 'B': 2, 'D': 1},\n",
        "    'D': {'B': 5, 'C': 1}\n",
        "}\n",
        "\n",
        "# Использование алгоритма\n",
        "start_node = 'A'\n",
        "distances = dijkstra(graph, start_node)\n",
        "\n",
        "# Вывод кратчайших расстояний от стартовой точки\n",
        "for node, distance in distances.items():\n",
        "    print(f\"Расстояние от {start_node} до {node}: {distance}\")\n"
      ],
      "metadata": {
        "colab": {
          "base_uri": "https://localhost:8080/"
        },
        "id": "Yx-Pww5OlcO-",
        "outputId": "9cfc97b1-54b6-4d79-ecea-b1281bedb570"
      },
      "execution_count": 39,
      "outputs": [
        {
          "output_type": "stream",
          "name": "stdout",
          "text": [
            "Расстояние от A до A: 0\n",
            "Расстояние от A до B: 1\n",
            "Расстояние от A до C: 3\n",
            "Расстояние от A до D: 4\n"
          ]
        }
      ]
    },
    {
      "cell_type": "markdown",
      "source": [
        "#Задача 10"
      ],
      "metadata": {
        "id": "HgKJT4KYjD8I"
      }
    },
    {
      "cell_type": "markdown",
      "source": [
        "10. Разработать программу размещения локальной сети. Найти оптимальную конфигурацию прокладки сетевого кабеля и коммутационного оборудования."
      ],
      "metadata": {
        "id": "WEBMzCaJhLuB"
      }
    },
    {
      "cell_type": "code",
      "source": [
        "import networkx as nx\n",
        "import matplotlib.pyplot as plt"
      ],
      "metadata": {
        "id": "lpF8SN1etZPu"
      },
      "execution_count": 40,
      "outputs": []
    },
    {
      "cell_type": "code",
      "source": [
        "def create_network(num_devices, connections):\n",
        "    G = nx.Graph()\n",
        "\n",
        "    # Добавляем узлы\n",
        "    for i in range(num_devices):\n",
        "        G.add_node(f'Device {i+1}')\n",
        "\n",
        "    # Создаем связи (сетевая топология)\n",
        "    for conn in connections:\n",
        "        G.add_edge(conn[0], conn[1], weight=1)  # weight может обозначать расстояние, стоимость и т.д.\n",
        "\n",
        "    return G"
      ],
      "metadata": {
        "id": "P80Z6lF6taWR"
      },
      "execution_count": 41,
      "outputs": []
    },
    {
      "cell_type": "code",
      "source": [
        "def draw_network(G):\n",
        "    pos = nx.spring_layout(G)  # Для расположения узлов\n",
        "    nx.draw(G, pos, with_labels=True, node_color='lightblue', node_size=1000, font_size=16)\n",
        "\n",
        "    edge_labels = nx.get_edge_attributes(G, 'weight')\n",
        "    nx.draw_networkx_edge_labels(G, pos, edge_labels=edge_labels, font_color='red')\n",
        "\n",
        "    plt.title(\"Схема локальной сети\")\n",
        "    plt.show()\n",
        "\n",
        "# Пример использования\n",
        "num_devices = 5  # Количество устройств\n",
        "connections = [('Device 1', 'Device 2'), ('Device 1', 'Device 3'), ('Device 2', 'Device 4'), ('Device 3', 'Device 5')]\n",
        "\n",
        "network = create_network(num_devices, connections)\n",
        "draw_network(network)\n"
      ],
      "metadata": {
        "colab": {
          "base_uri": "https://localhost:8080/",
          "height": 539
        },
        "id": "yUl-gczrl7UF",
        "outputId": "b042620d-6103-4bb4-a25e-1913f2948508"
      },
      "execution_count": 42,
      "outputs": [
        {
          "output_type": "display_data",
          "data": {
            "text/plain": [
              "<Figure size 640x480 with 1 Axes>"
            ],
            "image/png": "[encoded data removed]"
          },
          "metadata": {}
        }
      ]
    },
    {
      "cell_type": "code",
      "source": [],
      "metadata": {
        "id": "vOuaITzUl7m7"
      },
      "execution_count": null,
      "outputs": []
    }
  ]
}