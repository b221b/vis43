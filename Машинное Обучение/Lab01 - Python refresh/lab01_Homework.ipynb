{
  "cells": [
    {
      "cell_type": "markdown",
      "metadata": {
        "id": "eOivSghfGwy-"
      },
      "source": [
        "<h2 style=\"text-align: center;\"><b>Лабораторная работа №1. Python. Повторение основ</b></h2>"
      ]
    },
    {
      "cell_type": "markdown",
      "metadata": {
        "id": "qoHHrmtJGwzG"
      },
      "source": [
        "## Основы Python"
      ]
    },
    {
      "cell_type": "markdown",
      "metadata": {
        "id": "a2FsjLyrOUXE"
      },
      "source": [
        "### Сначала..."
      ]
    },
    {
      "cell_type": "markdown",
      "metadata": {
        "id": "2FV4mMNwOUXF"
      },
      "source": [
        "<img align=left src=\"python.png\" style=\"height:480px;\" />"
      ]
    },
    {
      "cell_type": "markdown",
      "metadata": {
        "id": "Io9jWt7LOUXF"
      },
      "source": [
        "### ...потом"
      ]
    },
    {
      "cell_type": "markdown",
      "metadata": {
        "id": "Zg6GniH-OUXG"
      },
      "source": [
        "<img align=left src=\"python_then.png\" style=\"height:480px;\" />"
      ]
    },
    {
      "cell_type": "markdown",
      "metadata": {
        "id": "EpMCDIheGwzH"
      },
      "source": [
        "Основные версии: **Python 2** и **Python 3**. Они похожи, но есть отличия, из-за которых они **не являются совместимыми** - программы, написанные на одной версии языка, могут не работать в другой.  \n",
        "\n",
        "В нашем курсе мы будем писать на **Python 3**.\n",
        "\n",
        "В Linux Python, скорее всего, уже установлен.\n",
        "\n",
        "Python - интерпретируемый язык.\n",
        "\n",
        "Попробуйте в терминале следующие команды для запуска интерактивного режима работы (интерпретатора):\n",
        "\n",
        "`python` или `python3`, или `python2`\n",
        "\n",
        "Выход: `Ctrl+D`\n",
        "\n",
        "Режим работы, в котором выполнится код из файла lab.py\n",
        "\n",
        "`python lab.py`\n",
        "\n",
        "Помощь: **`help(X)`**, где `X` — то, по чему нужна помощь.  \n",
        "Выход из помощи: `q`."
      ]
    },
    {
      "cell_type": "markdown",
      "metadata": {
        "id": "8N0y9NugGwzI"
      },
      "source": [
        "## Общая информация о языке\n",
        "\n",
        "**Название** - **«Питон» или «Пайтон»** (в честь комедийных серий BBC «Летающий цирк Монти-Пайтона»)  \n",
        "**Создатель** - **голландец Гвидо ван Россум (Guido van Rossum)** (в 1991 году)  \n",
        "\n",
        "**Особенности**:  \n",
        "- интерпретируемый\n",
        "- объектно-ориентированный\n",
        "- высокоуровневый язык\n",
        "- встроенные высокоуровневые структуры данных\n",
        "- динамическая типизация\n",
        "- синтаксис прост в изучении\n",
        "- поддержка модулей и пакетов (большинство библиотек\n",
        "бесплатны)\n",
        "- универсальный\n",
        "- интеграция с другими языками (C (Cython), C++, Java (JPython))  \n",
        "\n",
        "**Стиль оформления кода** - **PEP8** (если Вы хороший человек).  \n",
        "\n",
        "*Самое главное из PEP8:*  \n",
        "- отступ – 4 пробела\n",
        "- длина строки < 80 символов\n",
        "- переменные: var_recommended\n",
        "- константы: CONST_RECOMMENDED"
      ]
    },
    {
      "cell_type": "markdown",
      "metadata": {
        "id": "YfhDEhg_GwzM"
      },
      "source": [
        "### Типы"
      ]
    },
    {
      "cell_type": "markdown",
      "metadata": {
        "id": "PJA-KLzvGwzN"
      },
      "source": [
        "**Все типы данных** в Python относятся к одной из **2-х категорий**: **изменяемые (mutable)** и **неизменяемые (immutable)**.   \n",
        "\n",
        "*Неизменяемые (immutable) объекты*:  \n",
        "* числовые (int, float),\n",
        "* логический bool,\n",
        "* встроенный тип None,\n",
        "* символьные строки (class 'str'),\n",
        "* кортежи (tuple).  \n",
        "\n",
        "*Изменяемые (mutable) объекты*:  \n",
        "* списки (list),\n",
        "* множества (set),\n",
        "* словари (dict).  \n",
        "\n",
        "Вновь определяемые пользователем типы (классы) могут быть определены как неизменяемые или изменяемые. Изменяемость объектов определённого типа является принципиально важной характеристикой, определяющей, может ли объект такого типа **выступать в качестве ключа для словарей (dict)** или нет."
      ]
    },
    {
      "cell_type": "markdown",
      "metadata": {
        "id": "YbuXsGcgzM6P"
      },
      "source": [
        "----------"
      ]
    },
    {
      "cell_type": "markdown",
      "metadata": {
        "id": "6MGS0RGPzM6Q"
      },
      "source": [
        "# Примитивные типы"
      ]
    },
    {
      "cell_type": "markdown",
      "metadata": {
        "id": "mK5zNWQjOUXK"
      },
      "source": [
        "Тип переменной определяется в момент присваивания переменной значения.\n",
        "\n",
        "Типы объектные."
      ]
    },
    {
      "cell_type": "markdown",
      "metadata": {
        "id": "cmOupFvfOUXK"
      },
      "source": [
        "<img src=\"types1.png\" />"
      ]
    },
    {
      "cell_type": "markdown",
      "metadata": {
        "id": "-tXSqvRRGwzN"
      },
      "source": [
        "### int"
      ]
    },
    {
      "cell_type": "markdown",
      "metadata": {
        "id": "9SQmEOL6zM6T"
      },
      "source": [
        "**Целочисленный тип переменной в питоне**\n",
        "\n",
        "Создадим переменную, присвоим ей значение -- целое число, и выведем на экран ее значение и тип (type):"
      ]
    },
    {
      "cell_type": "code",
      "execution_count": null,
      "metadata": {
        "colab": {
          "base_uri": "https://localhost:8080/"
        },
        "id": "MN-lZNJ4GwzO",
        "outputId": "255dfa6d-3bec-4bb2-9c3d-759787eaa3c9"
      },
      "outputs": [
        {
          "output_type": "stream",
          "name": "stdout",
          "text": [
            "5 | <class 'int'> text <class 'str'>\n"
          ]
        }
      ],
      "source": [
        "x = 5\n",
        "y = \"text\"\n",
        "\n",
        "print(x, '|', type(x), y, type(y))"
      ]
    },
    {
      "cell_type": "markdown",
      "metadata": {
        "id": "SxxwaqB-zM6a"
      },
      "source": [
        "Как видно, тип получившейся переменной -- int.\n",
        "\n",
        "C int'овыми переменными можно производить стандартные матеатические операции -- сложение, вычитание, умножение, деление, возведение в степень, взятие остатка при делении на число\n",
        "\n",
        "Деление переменных типа int бывает двух типов -- целочисленное (как в языке C, но с помощью символа //) и нецелочисленное (символ /). Результатом первого типа деления будет целое число, второго -- дробное."
      ]
    },
    {
      "cell_type": "code",
      "execution_count": null,
      "metadata": {
        "id": "4fRsWXp7GwzS",
        "outputId": "0fdd0619-5206-4681-a707-ea4772963722"
      },
      "outputs": [
        {
          "name": "stdout",
          "output_type": "stream",
          "text": [
            "9 20 1 1.25 625 1\n"
          ]
        }
      ],
      "source": [
        "a = 4 + 5\n",
        "b = 4 * 5\n",
        "c = 5 // 4\n",
        "d = 5 / 4\n",
        "e = 5 ** 4\n",
        "f = 5 % 4\n",
        "\n",
        "print(a, b, c, d, e, f)"
      ]
    },
    {
      "cell_type": "markdown",
      "metadata": {
        "id": "XyZYWE9YzM6g"
      },
      "source": [
        "Также Python удобен в работе с большими числами: внутренняя реализация использует основание 2^30\n",
        "\n",
        "Давайте попробуем присвоить переменной число 5000000000000000000000000001:"
      ]
    },
    {
      "cell_type": "code",
      "execution_count": null,
      "metadata": {
        "colab": {
          "base_uri": "https://localhost:8080/"
        },
        "id": "FnsWAhPMGwza",
        "outputId": "2e091e94-69a6-4e81-f1b1-e9572d67a6f7"
      },
      "outputs": [
        {
          "output_type": "stream",
          "name": "stdout",
          "text": [
            "309375000000759375 | <class 'int'>\n"
          ]
        }
      ],
      "source": [
        "x = 15**5 + 50**8 * 80*99\n",
        "print(x, '|', type(x))"
      ]
    },
    {
      "cell_type": "markdown",
      "metadata": {
        "id": "4GTO4cU0zM6l"
      },
      "source": [
        "Как видите, все получилось: полученная переменная типа int и с ней можно работать как с обычными числами. Во многих других языках (например, С++) положить такое большое число в переменную бы не вышло -- возникло бы переполнение."
      ]
    },
    {
      "cell_type": "markdown",
      "metadata": {
        "id": "Hf0cK9ejGwzd"
      },
      "source": [
        "### float"
      ]
    },
    {
      "cell_type": "markdown",
      "metadata": {
        "id": "-ETlGwx6zM6n"
      },
      "source": [
        "**Тип переменной для хранения дробных чисел в Python**:"
      ]
    },
    {
      "cell_type": "code",
      "execution_count": null,
      "metadata": {
        "colab": {
          "base_uri": "https://localhost:8080/"
        },
        "id": "IJcKX6iPGwzd",
        "outputId": "12addbe8-cc60-44e6-f2d5-2fcc42ac1bda"
      },
      "outputs": [
        {
          "output_type": "stream",
          "name": "stdout",
          "text": [
            "12.345 | <class 'float'>\n"
          ]
        }
      ],
      "source": [
        "y = 12.345\n",
        "\n",
        "print(y, '|', type(y))"
      ]
    },
    {
      "cell_type": "markdown",
      "metadata": {
        "id": "hdrWEQ6OzM6p"
      },
      "source": [
        "С этим типом также можно выполнять арифметические операции (даже целочисленное деление):"
      ]
    },
    {
      "cell_type": "code",
      "execution_count": null,
      "metadata": {
        "colab": {
          "base_uri": "https://localhost:8080/"
        },
        "id": "qjBbYiC0Gwzg",
        "outputId": "b7209b60-c627-4572-deb3-e11c98fe128c"
      },
      "outputs": [
        {
          "output_type": "stream",
          "name": "stdout",
          "text": [
            "9.3 21.419999999999998 1.25 1.0 759.69140625\n"
          ]
        }
      ],
      "source": [
        "a = 4.2 + 5.1\n",
        "b = 4.2 * 5.1\n",
        "c = 5.0 / 4.0\n",
        "d = 5.25 // 4.25\n",
        "e = 5.25 ** 4.0\n",
        "\n",
        "print(a, b, c, d, e)"
      ]
    },
    {
      "cell_type": "markdown",
      "metadata": {
        "id": "7My0U1JSzM6t"
      },
      "source": [
        "Переменную типа int можно привести к типу float"
      ]
    },
    {
      "cell_type": "code",
      "execution_count": null,
      "metadata": {
        "colab": {
          "base_uri": "https://localhost:8080/"
        },
        "id": "dWjoVU9OGwzj",
        "outputId": "9de6cd4e-0c2a-4d00-9c52-a6df7e9f8195"
      },
      "outputs": [
        {
          "output_type": "stream",
          "name": "stdout",
          "text": [
            "5 | <class 'int'>\n",
            "5.0 | <class 'float'>\n"
          ]
        }
      ],
      "source": [
        "a = 5\n",
        "print(a, '|', type(a))\n",
        "a = float(a)\n",
        "print(a, '|', type(a))"
      ]
    },
    {
      "cell_type": "markdown",
      "metadata": {
        "id": "YFD8l2XuGwzq"
      },
      "source": [
        "### bool"
      ]
    },
    {
      "cell_type": "markdown",
      "metadata": {
        "id": "AnzNaVf8zM6w"
      },
      "source": [
        "**Логический тип переменной**:\n",
        "\n",
        "переменная типа bool может принимать два значения: `True` и `False`:"
      ]
    },
    {
      "cell_type": "code",
      "execution_count": null,
      "metadata": {
        "id": "f-kwu3wkGwzr",
        "outputId": "b6d95d45-a1e8-4364-ecf9-335467a21bfc"
      },
      "outputs": [
        {
          "name": "stdout",
          "output_type": "stream",
          "text": [
            "True | <class 'bool'>\n",
            "False | <class 'bool'>\n"
          ]
        }
      ],
      "source": [
        "a = True\n",
        "b = False\n",
        "\n",
        "print(a, '|', type(a))\n",
        "\n",
        "print(b, '|', type(b))"
      ]
    },
    {
      "cell_type": "markdown",
      "metadata": {
        "id": "c0fVpjYyzM60"
      },
      "source": [
        "У типа bool существует связь с типом int -- переменная со значением True может быть преобразована в значение int 1, а переменная со значением False -- int 0.\n",
        "\n",
        "Продемонстрируем на значениях переменных a и b:"
      ]
    },
    {
      "cell_type": "code",
      "execution_count": null,
      "metadata": {
        "id": "XOtoJKoOGwzu",
        "outputId": "cde3c008-f128-4165-f248-ed98ee431c72"
      },
      "outputs": [
        {
          "name": "stdout",
          "output_type": "stream",
          "text": [
            "1\n",
            "2\n",
            "0\n"
          ]
        }
      ],
      "source": [
        "print(a + b)\n",
        "print(a + a)\n",
        "print(b + b)"
      ]
    },
    {
      "cell_type": "markdown",
      "metadata": {
        "id": "h6cWbwGzzM65"
      },
      "source": [
        "Явно приведем a и b к типу int:"
      ]
    },
    {
      "cell_type": "code",
      "execution_count": null,
      "metadata": {
        "id": "bxaoc7p_Gwzw",
        "outputId": "b6a9209b-a291-4e4d-8068-d1af2c60aa8a"
      },
      "outputs": [
        {
          "name": "stdout",
          "output_type": "stream",
          "text": [
            "1 0\n"
          ]
        }
      ],
      "source": [
        "print(int(a), int(b))"
      ]
    },
    {
      "cell_type": "markdown",
      "metadata": {
        "id": "2E3YARdGzM67"
      },
      "source": [
        "Логические \"и\", \"или\", \"не\" в питоне обозначаюся ключевыми словами `and`, `or`, `not` соответственно:"
      ]
    },
    {
      "cell_type": "code",
      "execution_count": null,
      "metadata": {
        "id": "moSf59BmGwzz",
        "outputId": "ceef77aa-93da-4d8e-88cd-93fd2843c8a7"
      },
      "outputs": [
        {
          "name": "stdout",
          "output_type": "stream",
          "text": [
            "False \n",
            "\n",
            "True \n",
            "\n",
            "True \n",
            "\n"
          ]
        }
      ],
      "source": [
        "print(True and False, '\\n')\n",
        "\n",
        "print(True or True, '\\n')\n",
        "\n",
        "print(not False, '\\n')"
      ]
    },
    {
      "cell_type": "code",
      "execution_count": null,
      "metadata": {
        "id": "W4kBXsmazM6-",
        "outputId": "0eb173a3-6a45-4cda-e0cc-81324076e836"
      },
      "outputs": [
        {
          "name": "stdout",
          "output_type": "stream",
          "text": [
            "False | <class 'bool'>\n",
            "True | <class 'bool'>\n"
          ]
        }
      ],
      "source": [
        "# в переменную a будет записан результат сравнения 2 и 3. т.е. False, потому что (2==3) неверно.\n",
        "a = (2 == 3)\n",
        "b = (4 < 5)\n",
        "\n",
        "print(a, '|', type(a))\n",
        "print(b, '|', type(b))"
      ]
    },
    {
      "cell_type": "code",
      "execution_count": null,
      "metadata": {
        "id": "10QGSb6ezM7A",
        "outputId": "02171fab-d349-46e8-b61d-fced30d1e877"
      },
      "outputs": [
        {
          "data": {
            "text/plain": [
              "False"
            ]
          },
          "execution_count": 13,
          "metadata": {},
          "output_type": "execute_result"
        }
      ],
      "source": [
        "a or (a and not b)"
      ]
    },
    {
      "cell_type": "markdown",
      "metadata": {
        "id": "OhOh8Z0bOUXY"
      },
      "source": [
        "Небольшая особенность типа bool:"
      ]
    },
    {
      "cell_type": "code",
      "execution_count": null,
      "metadata": {
        "id": "JZgqRnZIOUXY",
        "outputId": "4e5db876-cf4d-4650-a0dc-51e3fcc60fc3"
      },
      "outputs": [
        {
          "data": {
            "text/plain": [
              "24"
            ]
          },
          "execution_count": 14,
          "metadata": {},
          "output_type": "execute_result"
        }
      ],
      "source": [
        "import sys\n",
        "sys.getsizeof(False)"
      ]
    },
    {
      "cell_type": "code",
      "execution_count": null,
      "metadata": {
        "id": "tnr6LjsdOUXZ",
        "outputId": "2632cb38-ea0f-4dde-8080-ee02d8c6c858"
      },
      "outputs": [
        {
          "data": {
            "text/plain": [
              "28"
            ]
          },
          "execution_count": 15,
          "metadata": {},
          "output_type": "execute_result"
        }
      ],
      "source": [
        "sys.getsizeof(True)"
      ]
    },
    {
      "cell_type": "markdown",
      "metadata": {
        "id": "Ra7b2HeOzM7C"
      },
      "source": [
        "### If"
      ]
    },
    {
      "cell_type": "markdown",
      "metadata": {
        "id": "oFKRUUbvzM7D"
      },
      "source": [
        "**Условный оператор**\n",
        "\n",
        "В коде часто приходится проверять выполнимость или невыполнимость каких-то условий. Синтаксис следующий\n",
        "\n",
        "```\n",
        "if <условие1 (булевское выражение)> :\n",
        "    <код, который выполнится, если условие верно>\n",
        "elif <условие2 (булевское выражение)>:\n",
        "    <код, который выполнится, если условие1 было неверно, а условие2 верно>\n",
        "else:\n",
        "    <код, который выполнится, если условие1 и условие2 были неверны>\n",
        "```\n",
        "\n",
        "Пример:"
      ]
    },
    {
      "cell_type": "code",
      "execution_count": null,
      "metadata": {
        "id": "zGSGj58YzM7E",
        "outputId": "91c34c41-c009-4d61-c20f-4ff807181f80"
      },
      "outputs": [
        {
          "name": "stdout",
          "output_type": "stream",
          "text": [
            "x положителен\n",
            "Done\n"
          ]
        }
      ],
      "source": [
        "x = 10\n",
        "\n",
        "if x<0:\n",
        "    print(\"x отрицателен\")\n",
        "elif x==0:\n",
        "    print(\"x равен нулю\")\n",
        "else:\n",
        "    print(\"x положителен\")\n",
        "\n",
        "# этот код уже не \"внутри\" else, потому что записан без отступа в 4 пробела. Поэтому он выполнится\n",
        "# в любом случае после отработки if-elif-else\n",
        "print(\"Done\")"
      ]
    },
    {
      "cell_type": "markdown",
      "metadata": {
        "id": "cdvOH6KDzM7G"
      },
      "source": [
        "Конечно, в `if` можно подставлять и более сложные булевские выражения:"
      ]
    },
    {
      "cell_type": "code",
      "execution_count": null,
      "metadata": {
        "id": "N40FqjChzM7H",
        "outputId": "96ce37f3-249f-41c2-ee90-b7a499332ada"
      },
      "outputs": [
        {
          "name": "stdout",
          "output_type": "stream",
          "text": [
            "10\n",
            "nice\n"
          ]
        }
      ],
      "source": [
        "if x>3 and x < 11 or x==5:\n",
        "    print(x)\n",
        "    # тоже выполнится при выполнения условия после if, так как этот код тоже записан с отступом в 4 пробела\n",
        "    print(\"nice\")"
      ]
    },
    {
      "cell_type": "code",
      "execution_count": null,
      "metadata": {
        "id": "G5QFZl5XzM7J",
        "outputId": "a0f70059-f15c-481f-c31d-389377febc72"
      },
      "outputs": [
        {
          "name": "stdout",
          "output_type": "stream",
          "text": [
            "y not grater than 6\n",
            "x is equal to 3\n"
          ]
        }
      ],
      "source": [
        "# if внутри if:\n",
        "x = 3\n",
        "y = 5\n",
        "if x == 3:\n",
        "    if y > 6:\n",
        "        # отступ в 4 пробела от внутреннего if\n",
        "        print(\"y greater than 6\")\n",
        "    else:\n",
        "        print(\"y not grater than 6\")\n",
        "\n",
        "    # отступ в 4 пробела от внешнего if, поэтому код выполнится если x==3 и при любом значении y\n",
        "    print(\"x is equal to 3\")"
      ]
    },
    {
      "cell_type": "markdown",
      "metadata": {
        "id": "sGGkrmM0Gwz1"
      },
      "source": [
        "### None"
      ]
    },
    {
      "cell_type": "markdown",
      "metadata": {
        "id": "pjXxEdFKzM7L"
      },
      "source": [
        "**ничего, null**"
      ]
    },
    {
      "cell_type": "markdown",
      "metadata": {
        "id": "at7Q5Ok8zM7M"
      },
      "source": [
        "Специальный тип в Python, который обозначает *ничего*\n",
        "\n",
        "Его нельзя привести ни к одному другому типу языка. Проверить, является ли переменная param типом None, можно так:\n",
        "\n",
        "```\n",
        "if param is None\n",
        "```\n",
        "\n",
        "С первого взгляда может быть непонятно, зачем он нужен, но на самом деле это оченб удобный тип. Например, если вы где-то в коде создаете объект (базу данных, например), обращаясь к внешнему коду и хотите проверить, создался ли он, вы можете осуществить эту проверку, сравнив переменную с None.\n",
        "\n",
        "Пример проверки успешности подключения к БД:\n",
        "\n",
        "```\n",
        "database = MyDatabase(db_host, db_user, db_password, db_database)\n",
        "\n",
        "if database is None:\n",
        "```"
      ]
    },
    {
      "cell_type": "code",
      "execution_count": null,
      "metadata": {
        "id": "BMIBkyzcGwz6",
        "outputId": "985a02cd-8250-4799-be34-07bb6c00e623"
      },
      "outputs": [
        {
          "name": "stdout",
          "output_type": "stream",
          "text": [
            "None | <class 'NoneType'>\n"
          ]
        }
      ],
      "source": [
        "z = None\n",
        "print(z, '|', type(z))"
      ]
    },
    {
      "cell_type": "markdown",
      "metadata": {
        "id": "K8JufXAxzM7O"
      },
      "source": [
        "Убедимся, что None нельзя привести к другому типу:"
      ]
    },
    {
      "cell_type": "code",
      "execution_count": null,
      "metadata": {
        "id": "KaBmiMneGwz8",
        "outputId": "4bebc352-151e-4e19-a8f2-902fc768eace"
      },
      "outputs": [
        {
          "ename": "TypeError",
          "evalue": "int() argument must be a string, a bytes-like object or a number, not 'NoneType'",
          "output_type": "error",
          "traceback": [
            "\u001b[1;31m---------------------------------------------------------------------------\u001b[0m",
            "\u001b[1;31mTypeError\u001b[0m                                 Traceback (most recent call last)",
            "\u001b[1;32m~\\AppData\\Local\\Temp/ipykernel_17856/3434479186.py\u001b[0m in \u001b[0;36m<module>\u001b[1;34m\u001b[0m\n\u001b[1;32m----> 1\u001b[1;33m \u001b[0mint\u001b[0m\u001b[1;33m(\u001b[0m\u001b[0mz\u001b[0m\u001b[1;33m)\u001b[0m\u001b[1;33m\u001b[0m\u001b[1;33m\u001b[0m\u001b[0m\n\u001b[0m",
            "\u001b[1;31mTypeError\u001b[0m: int() argument must be a string, a bytes-like object or a number, not 'NoneType'"
          ]
        }
      ],
      "source": [
        "int(z)"
      ]
    },
    {
      "cell_type": "markdown",
      "metadata": {
        "id": "ZqI8L0vrzM7R"
      },
      "source": [
        "Проверка переменной на None:"
      ]
    },
    {
      "cell_type": "code",
      "execution_count": null,
      "metadata": {
        "id": "8k4aCla1Gwz_",
        "outputId": "284471d3-441c-4a87-9f3a-1f21df1cae51"
      },
      "outputs": [
        {
          "data": {
            "text/plain": [
              "'I am None!'"
            ]
          },
          "execution_count": 21,
          "metadata": {},
          "output_type": "execute_result"
        }
      ],
      "source": [
        "if z is None:\n",
        "    z = 'I am None!'\n",
        "z"
      ]
    },
    {
      "cell_type": "markdown",
      "metadata": {
        "id": "r_y-TEM3Gw0A"
      },
      "source": [
        "### str"
      ]
    },
    {
      "cell_type": "markdown",
      "metadata": {
        "id": "lxN_IvU0zM7U"
      },
      "source": [
        "**строка**"
      ]
    },
    {
      "cell_type": "markdown",
      "metadata": {
        "id": "mmVRb6X3zM7V"
      },
      "source": [
        "Тип переменной \"строка\". Нужен для хранения и выполнения операций с строками -- наборами символов. В питоне строку можно задавать как с помощью одинарных кавычек, так и с помощью двойных, разницы нет (главное, чтобы в начале и конце одной строки стояли одинаковые кавычки):"
      ]
    },
    {
      "cell_type": "markdown",
      "metadata": {
        "id": "NYLe3wFlGw0C"
      },
      "source": [
        "В *python2.7* есть отдельный тип **unicode**. В *python3.5 (и выше)* (который будем использовать мы) всё это включено в тип **str**."
      ]
    },
    {
      "cell_type": "code",
      "execution_count": null,
      "metadata": {
        "id": "W5ZhY9r9Gw0C",
        "outputId": "2944ee51-bc6f-4f4b-ca31-cadd26b04fc7"
      },
      "outputs": [
        {
          "name": "stdout",
          "output_type": "stream",
          "text": [
            "abc | <class 'str'>\n",
            "xyz | <class 'str'>\n"
          ]
        }
      ],
      "source": [
        "x = \"abc\"\n",
        "y = 'xyz'\n",
        "print(x, '|', type(x))\n",
        "print(y, '|', type(y))"
      ]
    },
    {
      "cell_type": "markdown",
      "metadata": {
        "id": "wsjzmN8lzM7X"
      },
      "source": [
        "Со строками тоже можно выполнять некоторые операции. Например, можно сложить две строки -- тогда вторая припишется в конец первой:"
      ]
    },
    {
      "cell_type": "code",
      "execution_count": null,
      "metadata": {
        "id": "ZVTh7bPjGw0F",
        "outputId": "f725a7aa-67da-4d27-e59b-e0f7aeaf73cb"
      },
      "outputs": [
        {
          "name": "stdout",
          "output_type": "stream",
          "text": [
            "Андрей Михайлович\n"
          ]
        }
      ],
      "source": [
        "a = 'Андрей'\n",
        "b = \"Михайлович\"\n",
        "s = a + \" \" + b\n",
        "print(s)"
      ]
    },
    {
      "cell_type": "markdown",
      "metadata": {
        "id": "jU-tX-ZBzM7Z"
      },
      "source": [
        "Также у строк есть некоторое количество *методов*\n",
        "\n",
        "Метод -- это название для функций, которые вызываются от объекта. Например, у нас есть объект a -- строка, и у нее можно вызвать метод `.upper()`:\n",
        "\n",
        "```\n",
        "a.upper()\n",
        "```\n",
        "\n",
        "Методы деляится на те, которые изменяют сам объект, который их вызывает, и на те, которые возвращают результат, но не изменяют сам объект.\n",
        "\n",
        "Вот пример методов `.upper()` и `.lower()`, которые возвращают копию строки (не изменяя саму строку), от которой был вызван метод, приведенную к верхнему и нижнему регистру соответственно:"
      ]
    },
    {
      "cell_type": "markdown",
      "metadata": {
        "id": "dSyo8vW9Gw1K"
      },
      "source": [
        "P.S. При вызове метода какого-то класса (или функции какого-то модуля) можно написать его имя и через точку нажать **tab**:  \n",
        "\n",
        "<имя\\_объекта\\_класса(модуля)>**.[tab]**  \n",
        "\n",
        "Тогда всплывёт меню, в котором можно выбрать из всех существующих в этом классе методов (функций модуля)."
      ]
    },
    {
      "cell_type": "code",
      "execution_count": null,
      "metadata": {
        "id": "r3L343d5Gw0H",
        "outputId": "f07105f3-7827-43cf-8bf7-8afc5ca6a50f"
      },
      "outputs": [
        {
          "name": "stdout",
          "output_type": "stream",
          "text": [
            "АНДРЕЙ\n",
            "андрей\n"
          ]
        }
      ],
      "source": [
        "print(a.upper())\n",
        "print(a.lower())"
      ]
    },
    {
      "cell_type": "markdown",
      "metadata": {
        "id": "oGTyecPezM7c"
      },
      "source": [
        "Можно получить длину строки с помощью функции `len`:"
      ]
    },
    {
      "cell_type": "code",
      "execution_count": null,
      "metadata": {
        "colab": {
          "base_uri": "https://localhost:8080/",
          "height": 146
        },
        "id": "YiFvXOaIGw0K",
        "outputId": "e9fc66ff-ab01-4b14-ab8b-19833d17cc1c"
      },
      "outputs": [
        {
          "output_type": "error",
          "ename": "TypeError",
          "evalue": "object of type 'int' has no len()",
          "traceback": [
            "\u001b[0;31m---------------------------------------------------------------------------\u001b[0m",
            "\u001b[0;31mTypeError\u001b[0m                                 Traceback (most recent call last)",
            "\u001b[0;32m<ipython-input-12-60806578a051>\u001b[0m in \u001b[0;36m<cell line: 1>\u001b[0;34m()\u001b[0m\n\u001b[0;32m----> 1\u001b[0;31m \u001b[0mprint\u001b[0m\u001b[0;34m(\u001b[0m\u001b[0mlen\u001b[0m\u001b[0;34m(\u001b[0m\u001b[0ma\u001b[0m\u001b[0;34m)\u001b[0m\u001b[0;34m)\u001b[0m\u001b[0;34m\u001b[0m\u001b[0;34m\u001b[0m\u001b[0m\n\u001b[0m",
            "\u001b[0;31mTypeError\u001b[0m: object of type 'int' has no len()"
          ]
        }
      ],
      "source": [
        "print(len(a))"
      ]
    },
    {
      "cell_type": "markdown",
      "metadata": {
        "id": "iCBY7czmzM7e"
      },
      "source": [
        "Можно обращаться к отдельным элементам строки через индексы (индексация в питоне с 0):"
      ]
    },
    {
      "cell_type": "code",
      "execution_count": null,
      "metadata": {
        "colab": {
          "base_uri": "https://localhost:8080/",
          "height": 200
        },
        "id": "5eSIiAI_Gw0Q",
        "outputId": "076fce5a-1d6b-4680-b1d7-6aa5dc9a1886"
      },
      "outputs": [
        {
          "output_type": "stream",
          "name": "stdout",
          "text": [
            "123\n"
          ]
        },
        {
          "output_type": "error",
          "ename": "TypeError",
          "evalue": "'int' object is not subscriptable",
          "traceback": [
            "\u001b[0;31m---------------------------------------------------------------------------\u001b[0m",
            "\u001b[0;31mTypeError\u001b[0m                                 Traceback (most recent call last)",
            "\u001b[0;32m<ipython-input-13-21b92a9168e3>\u001b[0m in \u001b[0;36m<cell line: 2>\u001b[0;34m()\u001b[0m\n\u001b[1;32m      1\u001b[0m \u001b[0mprint\u001b[0m\u001b[0;34m(\u001b[0m\u001b[0ma\u001b[0m\u001b[0;34m)\u001b[0m\u001b[0;34m\u001b[0m\u001b[0;34m\u001b[0m\u001b[0m\n\u001b[0;32m----> 2\u001b[0;31m \u001b[0mprint\u001b[0m\u001b[0;34m(\u001b[0m\u001b[0ma\u001b[0m\u001b[0;34m[\u001b[0m\u001b[0;36m0\u001b[0m\u001b[0;34m]\u001b[0m\u001b[0;34m)\u001b[0m\u001b[0;34m\u001b[0m\u001b[0;34m\u001b[0m\u001b[0m\n\u001b[0m\u001b[1;32m      3\u001b[0m \u001b[0mprint\u001b[0m\u001b[0;34m(\u001b[0m\u001b[0ma\u001b[0m\u001b[0;34m[\u001b[0m\u001b[0;36m1\u001b[0m\u001b[0;34m]\u001b[0m\u001b[0;34m)\u001b[0m\u001b[0;34m\u001b[0m\u001b[0;34m\u001b[0m\u001b[0m\n",
            "\u001b[0;31mTypeError\u001b[0m: 'int' object is not subscriptable"
          ]
        }
      ],
      "source": [
        "print(a)\n",
        "print(a[0])\n",
        "print(a[1])\n"
      ]
    },
    {
      "cell_type": "markdown",
      "metadata": {
        "id": "oB9lbV_TzM7i"
      },
      "source": [
        "А также можно получить *слайс* строки -- кусок строки с i-ого символа по j-ый. Делается это следующим образом:"
      ]
    },
    {
      "cell_type": "code",
      "execution_count": null,
      "metadata": {
        "colab": {
          "base_uri": "https://localhost:8080/",
          "height": 182
        },
        "id": "6H-BHEmAzM7j",
        "outputId": "2314b573-42c9-4c95-8dbe-45063eef1c8e"
      },
      "outputs": [
        {
          "output_type": "error",
          "ename": "TypeError",
          "evalue": "'int' object is not subscriptable",
          "traceback": [
            "\u001b[0;31m---------------------------------------------------------------------------\u001b[0m",
            "\u001b[0;31mTypeError\u001b[0m                                 Traceback (most recent call last)",
            "\u001b[0;32m<ipython-input-14-663a1fb83d65>\u001b[0m in \u001b[0;36m<cell line: 3>\u001b[0;34m()\u001b[0m\n\u001b[1;32m      1\u001b[0m \u001b[0mi\u001b[0m \u001b[0;34m=\u001b[0m \u001b[0;36m2\u001b[0m\u001b[0;34m\u001b[0m\u001b[0;34m\u001b[0m\u001b[0m\n\u001b[1;32m      2\u001b[0m \u001b[0mj\u001b[0m \u001b[0;34m=\u001b[0m \u001b[0;36m4\u001b[0m\u001b[0;34m\u001b[0m\u001b[0;34m\u001b[0m\u001b[0m\n\u001b[0;32m----> 3\u001b[0;31m \u001b[0mprint\u001b[0m\u001b[0;34m(\u001b[0m\u001b[0ma\u001b[0m\u001b[0;34m[\u001b[0m\u001b[0mi\u001b[0m\u001b[0;34m:\u001b[0m\u001b[0mj\u001b[0m\u001b[0;34m]\u001b[0m\u001b[0;34m)\u001b[0m\u001b[0;34m\u001b[0m\u001b[0;34m\u001b[0m\u001b[0m\n\u001b[0m",
            "\u001b[0;31mTypeError\u001b[0m: 'int' object is not subscriptable"
          ]
        }
      ],
      "source": [
        "i = 2\n",
        "j = 4\n",
        "print(a[i:j])"
      ]
    },
    {
      "cell_type": "markdown",
      "metadata": {
        "id": "gaZcGIeezM7k"
      },
      "source": [
        "Можно проверять наличие подстроки в строке:"
      ]
    },
    {
      "cell_type": "code",
      "execution_count": null,
      "metadata": {
        "id": "bb4iUUSezM7l",
        "outputId": "43d7e0dd-43dd-4d30-86ac-c0433d653462"
      },
      "outputs": [
        {
          "name": "stdout",
          "output_type": "stream",
          "text": [
            "ya deistvitel'no stroka\n"
          ]
        }
      ],
      "source": [
        "s = 'ya stroka'\n",
        "if 'ya' in s:\n",
        "    print(\"ya deistvitel\\'no stroka\")"
      ]
    },
    {
      "cell_type": "markdown",
      "metadata": {
        "id": "Es1yXyp_zM7m"
      },
      "source": [
        "Строки - *immutable* тип, поэтому изменять их нельзя:"
      ]
    },
    {
      "cell_type": "code",
      "execution_count": null,
      "metadata": {
        "id": "E0jm8V7szM7n",
        "outputId": "57ee9b83-53a0-4d24-a314-391c06b219e4"
      },
      "outputs": [
        {
          "ename": "TypeError",
          "evalue": "'str' object does not support item assignment",
          "output_type": "error",
          "traceback": [
            "\u001b[1;31m---------------------------------------------------------------------------\u001b[0m",
            "\u001b[1;31mTypeError\u001b[0m                                 Traceback (most recent call last)",
            "\u001b[1;32m~\\AppData\\Local\\Temp/ipykernel_17856/2867219498.py\u001b[0m in \u001b[0;36m<module>\u001b[1;34m\u001b[0m\n\u001b[0;32m      1\u001b[0m \u001b[0ms\u001b[0m \u001b[1;33m=\u001b[0m \u001b[1;34m'ya stroka'\u001b[0m\u001b[1;33m\u001b[0m\u001b[1;33m\u001b[0m\u001b[0m\n\u001b[1;32m----> 2\u001b[1;33m \u001b[0ms\u001b[0m\u001b[1;33m[\u001b[0m\u001b[1;36m0\u001b[0m\u001b[1;33m]\u001b[0m \u001b[1;33m=\u001b[0m \u001b[1;34m'l'\u001b[0m\u001b[1;33m\u001b[0m\u001b[1;33m\u001b[0m\u001b[0m\n\u001b[0m",
            "\u001b[1;31mTypeError\u001b[0m: 'str' object does not support item assignment"
          ]
        }
      ],
      "source": [
        "s = 'ya stroka'\n",
        "s[0] = 'l'"
      ]
    },
    {
      "cell_type": "markdown",
      "metadata": {
        "id": "knjcsCbVGw0Z"
      },
      "source": [
        "### Метод `split()`:"
      ]
    },
    {
      "cell_type": "markdown",
      "metadata": {
        "id": "ZT-ofQOqzM7o"
      },
      "source": [
        "Очень полезный метод для токенизации (разбиения) строк. Указывается разделитель, но если этого не сделать, то строка делится по пробелам:"
      ]
    },
    {
      "cell_type": "code",
      "execution_count": null,
      "metadata": {
        "id": "TuEP17vFGw0Z",
        "outputId": "632ca657-8878-4fc1-c2f0-ea1c1da8a6f0"
      },
      "outputs": [
        {
          "name": "stdout",
          "output_type": "stream",
          "text": [
            "['Указывается', 'разделитель,', 'но', 'если', 'этого', 'не', 'сделать,', 'то', 'строка', 'делится', 'по', 'пробелам']\n"
          ]
        }
      ],
      "source": [
        "splitted_line = \"Указывается разделитель, но если этого не сделать, то строка делится по пробелам\".split()\n",
        "print(splitted_line)"
      ]
    },
    {
      "cell_type": "code",
      "execution_count": null,
      "metadata": {
        "id": "xG3_3t13zM7q",
        "outputId": "1226e973-ac2a-403b-f6c6-ad9d667d4724"
      },
      "outputs": [
        {
          "name": "stdout",
          "output_type": "stream",
          "text": [
            "['Указывается разделитель', ' но если этого не сделать', ' то строка делится по пробелам']\n"
          ]
        }
      ],
      "source": [
        "splitted_line = \"Указывается разделитель, но если этого не сделать, то строка делится по пробелам\".split(',')\n",
        "print(splitted_line)"
      ]
    },
    {
      "cell_type": "markdown",
      "metadata": {
        "id": "P7kqThRsGw1S"
      },
      "source": [
        "### Структуры данных и встроенные функции"
      ]
    },
    {
      "cell_type": "markdown",
      "metadata": {
        "id": "e6LOqPpYGw1T"
      },
      "source": [
        "### list"
      ]
    },
    {
      "cell_type": "markdown",
      "metadata": {
        "id": "oZDGb_E5zM7s"
      },
      "source": [
        "**массив, список**"
      ]
    },
    {
      "cell_type": "markdown",
      "metadata": {
        "id": "E949xtw7zM7t"
      },
      "source": [
        "list является *контейнером*, то есть, типом данных, который представляет собой хранилище для других типов данных.\n",
        "\n",
        "Это контейнер, куда можно положить сколько угодно других переменных, значений, и эти переменные даже могут быть разных типов и даже так же могут быть контейнерами! То есть, в list можно положить list.\n",
        "\n",
        "Чтобы задать list, надо в квадратных скобках `[]` указать нужные элементы. Пустые скобки задают пустой list. Пустой список также можно задать, написав `list()`:"
      ]
    },
    {
      "cell_type": "code",
      "execution_count": null,
      "metadata": {
        "id": "pGXNzuLsGw1U"
      },
      "outputs": [],
      "source": [
        "a = list()\n",
        "b = []\n",
        "\n",
        "# убедимся, что два варианта создания пустого массива эквивалентны:\n",
        "print(a == b)"
      ]
    },
    {
      "cell_type": "markdown",
      "metadata": {
        "id": "WkMcOR88OUXk"
      },
      "source": [
        "<img src=\"list.png\" />"
      ]
    },
    {
      "cell_type": "code",
      "execution_count": null,
      "metadata": {
        "id": "rWHlu6YgzM7v"
      },
      "outputs": [],
      "source": [
        "c = [2, 'a', [4, 'stroka', 6.56]]"
      ]
    },
    {
      "cell_type": "markdown",
      "metadata": {
        "id": "Yxs2uGIXzM7x"
      },
      "source": [
        "Что можно делать с list:"
      ]
    },
    {
      "cell_type": "markdown",
      "metadata": {
        "id": "bmEriyu4zM7y"
      },
      "source": [
        "Можно добавить элемент в конец списка:"
      ]
    },
    {
      "cell_type": "code",
      "execution_count": null,
      "metadata": {
        "id": "L-Vp7SanzM7y",
        "outputId": "bc807c42-58d6-4e80-c043-dcf317f160d3"
      },
      "outputs": [
        {
          "data": {
            "text/plain": [
              "[2, 'a', [4, 'stroka', 6.56], 4.67]"
            ]
          },
          "execution_count": 34,
          "metadata": {},
          "output_type": "execute_result"
        }
      ],
      "source": [
        "c.append(4.67)\n",
        "c"
      ]
    },
    {
      "cell_type": "markdown",
      "metadata": {
        "id": "LjkI3QWAzM70"
      },
      "source": [
        "можно удалить элемент с конца списка:"
      ]
    },
    {
      "cell_type": "code",
      "execution_count": null,
      "metadata": {
        "id": "UxkgZ0bezM70",
        "outputId": "69964dbd-6313-4234-ea11-2421c43473d1"
      },
      "outputs": [
        {
          "data": {
            "text/plain": [
              "[2, 'a', [4, 'stroka', 6.56]]"
            ]
          },
          "execution_count": 35,
          "metadata": {},
          "output_type": "execute_result"
        }
      ],
      "source": [
        "c.pop()\n",
        "c"
      ]
    },
    {
      "cell_type": "markdown",
      "metadata": {
        "id": "MRXHuVjPzM71"
      },
      "source": [
        "**Методы list, которые мы рассмотрим ниже, будут работать для всех iterable контейнеров **\n",
        "\n",
        "(что значит iterable, можно прочитать тут: http://pythonz.net/references/named/iterable/\n",
        "\n",
        "кратко -- это структуры данных, поддерживающие поочередный проход по своим элементам)"
      ]
    },
    {
      "cell_type": "markdown",
      "metadata": {
        "id": "kJ40tjpZzM72"
      },
      "source": [
        "По индексам можно получить доступ к элементам списка (индексация, как обычно, с 0):"
      ]
    },
    {
      "cell_type": "code",
      "execution_count": null,
      "metadata": {
        "id": "reuh72cxzM72",
        "outputId": "3b96fdc1-515e-48e4-d00e-59561899bda2"
      },
      "outputs": [
        {
          "name": "stdout",
          "output_type": "stream",
          "text": [
            "2\n",
            "[4, 'stroka', 6.56]\n",
            "[4, 'stroka', 6.56]\n"
          ]
        }
      ],
      "source": [
        "print(c[0])\n",
        "print(c[2])\n",
        "# да, индексы могут быть отрицательные: -i есть i-ый с конца элемент списка (в нумерации с 1)\n",
        "print(c[-1])"
      ]
    },
    {
      "cell_type": "markdown",
      "metadata": {
        "id": "bqiG7q_UzM74"
      },
      "source": [
        "Можно не только получать по 1 элементу массива, но и срез или *слайс* -- элементы массива с индексами между i (включительно) и j (не включительно):"
      ]
    },
    {
      "cell_type": "code",
      "execution_count": null,
      "metadata": {
        "id": "oRI6NY-azM74",
        "outputId": "7b7bb5ff-023a-4c27-e336-4b549b7d0760"
      },
      "outputs": [
        {
          "name": "stdout",
          "output_type": "stream",
          "text": [
            "['a', [4, 'stroka', 6.56]]\n"
          ]
        }
      ],
      "source": [
        "# в d будет записан новый список, в котором будут 1 и 2 элементы списка c\n",
        "d = c[1:3]\n",
        "print(d)"
      ]
    },
    {
      "cell_type": "markdown",
      "metadata": {
        "id": "GnG6b9m8zM76"
      },
      "source": [
        "А еще можно выполнить обратную операцию -- не по индексу получить элемент списка, а по элементу списка получить его индекс.\n",
        "\n",
        "`L.index(element)` - возвращает индекс элемента `element` в списке `L`, если он там присутствует.\n",
        "\n",
        "Иначе будет выброшено исключение ValueError"
      ]
    },
    {
      "cell_type": "code",
      "execution_count": null,
      "metadata": {
        "id": "UFv9nYtpzM77",
        "outputId": "dadcf7e8-2bee-4514-e9f8-9aa83ee42867"
      },
      "outputs": [
        {
          "data": {
            "text/plain": [
              "1"
            ]
          },
          "execution_count": 39,
          "metadata": {},
          "output_type": "execute_result"
        }
      ],
      "source": [
        "c.index('a')"
      ]
    },
    {
      "cell_type": "markdown",
      "metadata": {
        "id": "BP9nnUXnzM78"
      },
      "source": [
        "Можно проверять принадлежность элемента списку:"
      ]
    },
    {
      "cell_type": "code",
      "execution_count": null,
      "metadata": {
        "id": "O8IqdA3mzM79",
        "outputId": "1f0c23b3-ed58-4fce-c518-3bbc2fff10f2"
      },
      "outputs": [
        {
          "data": {
            "text/plain": [
              "False"
            ]
          },
          "execution_count": 40,
          "metadata": {},
          "output_type": "execute_result"
        }
      ],
      "source": [
        "5 in c"
      ]
    },
    {
      "cell_type": "code",
      "execution_count": null,
      "metadata": {
        "id": "Vp6eCldzzM7-",
        "outputId": "6f383171-6cbb-4a03-e2bb-3cf01c744679"
      },
      "outputs": [
        {
          "name": "stdout",
          "output_type": "stream",
          "text": [
            "element 'a' in c\n"
          ]
        }
      ],
      "source": [
        "if 'a' in c:\n",
        "    print(\"element \\'a\\' in c\")"
      ]
    },
    {
      "cell_type": "markdown",
      "metadata": {
        "id": "-JB5GFn9zM7_"
      },
      "source": [
        "Можно еще сложнее: получить каждый k-й элемент списка c, начиная с элемента с индексом i (включительно) и заканчивая элементом с индексом j (не включительно):"
      ]
    },
    {
      "cell_type": "code",
      "execution_count": null,
      "metadata": {
        "id": "z78Oct4EzM8A",
        "outputId": "60bd7d5c-16ab-499f-d0bc-586a0b9c1afd"
      },
      "outputs": [
        {
          "name": "stdout",
          "output_type": "stream",
          "text": [
            "[2, 4, 6]\n"
          ]
        }
      ],
      "source": [
        "c = [1, 2, 3, 4, 5, 6, 7, 8, 9]\n",
        "d = c[1:7:2]\n",
        "print(d)"
      ]
    },
    {
      "cell_type": "markdown",
      "metadata": {
        "id": "4fJ74N-uzM8B"
      },
      "source": [
        "С помощью слайсов можно перевернуть список, например:"
      ]
    },
    {
      "cell_type": "code",
      "execution_count": null,
      "metadata": {
        "id": "RSQ5v-yazM8C",
        "outputId": "284d7cef-ad21-4e3c-b6ec-e933a4c8935e"
      },
      "outputs": [
        {
          "name": "stdout",
          "output_type": "stream",
          "text": [
            "[1, 2, 3, 4, 5, 6, 7, 8, 9]\n",
            "[9, 8, 7, 6, 5, 4, 3, 2, 1]\n"
          ]
        }
      ],
      "source": [
        "print(c)\n",
        "# получим каждый минус первый элемент списка начиная с 0 индекса и заканчивая последним\n",
        "d = c[::-1]\n",
        "print(d)"
      ]
    },
    {
      "cell_type": "markdown",
      "metadata": {
        "id": "AU3Q3GyhzM8D"
      },
      "source": [
        "Элементы списка также можно изменять, обращаясь к ним по индексу или слайсу:"
      ]
    },
    {
      "cell_type": "code",
      "execution_count": null,
      "metadata": {
        "id": "NwFLWigrzM8E",
        "outputId": "e0cff8b6-7328-4c24-ff06-ac1bf5a46964"
      },
      "outputs": [
        {
          "name": "stdout",
          "output_type": "stream",
          "text": [
            "[1, 2, 3, 4, 5, 6, 7, 8, 9]\n",
            "[100500, 2, 3, 4, 5, 6, 7, 8, 9]\n"
          ]
        }
      ],
      "source": [
        "print(c)\n",
        "c[0] = 100500\n",
        "print(c)"
      ]
    },
    {
      "cell_type": "code",
      "execution_count": null,
      "metadata": {
        "id": "FA3BxaIBzM8F",
        "outputId": "d55c1dc6-0768-4209-d4b3-7b471b8b80eb"
      },
      "outputs": [
        {
          "name": "stdout",
          "output_type": "stream",
          "text": [
            "[100500, 2, 80, 6, 7, 8, 9]\n",
            "[100500, 2, 80, 90, 8, 9]\n"
          ]
        }
      ],
      "source": [
        "# вместо 2, 3 и 4 элементов списка запишем  число 80\n",
        "c[2:5] = [80]\n",
        "print(c)\n",
        "# вместо 2, 3 и 4 элементов списка запишем  числа 80, 90\n",
        "c[2:5] = [80, 90]\n",
        "print(c)"
      ]
    },
    {
      "cell_type": "markdown",
      "metadata": {
        "id": "VpIbWfF-zM8G"
      },
      "source": [
        "Также списка можно складывать. Результатом сложения двух списков будет новый список, в котором сначала будут записаны элементы первого списка, затем -- второго:"
      ]
    },
    {
      "cell_type": "code",
      "execution_count": null,
      "metadata": {
        "id": "a_z8So57zM8G",
        "outputId": "df8a1f11-2d92-4521-ce56-6b4058de8ce1"
      },
      "outputs": [
        {
          "data": {
            "text/plain": [
              "[100500, 2, 80, 90, 8, 9, 9, 0]"
            ]
          },
          "execution_count": 46,
          "metadata": {},
          "output_type": "execute_result"
        }
      ],
      "source": [
        "d = [9, 0]\n",
        "c+d"
      ]
    },
    {
      "cell_type": "markdown",
      "metadata": {
        "id": "VhaJ_zzlzM8I"
      },
      "source": [
        "А вот вычитать нельзя:"
      ]
    },
    {
      "cell_type": "code",
      "execution_count": null,
      "metadata": {
        "id": "JsmAsyn8zM8I",
        "outputId": "100cd7b9-ac67-4223-9083-fb7801494285"
      },
      "outputs": [
        {
          "ename": "TypeError",
          "evalue": "unsupported operand type(s) for -: 'list' and 'list'",
          "output_type": "error",
          "traceback": [
            "\u001b[1;31m---------------------------------------------------------------------------\u001b[0m",
            "\u001b[1;31mTypeError\u001b[0m                                 Traceback (most recent call last)",
            "\u001b[1;32m~\\AppData\\Local\\Temp/ipykernel_17856/3952187483.py\u001b[0m in \u001b[0;36m<module>\u001b[1;34m\u001b[0m\n\u001b[1;32m----> 1\u001b[1;33m \u001b[0mc\u001b[0m\u001b[1;33m-\u001b[0m\u001b[0md\u001b[0m\u001b[1;33m\u001b[0m\u001b[1;33m\u001b[0m\u001b[0m\n\u001b[0m",
            "\u001b[1;31mTypeError\u001b[0m: unsupported operand type(s) for -: 'list' and 'list'"
          ]
        }
      ],
      "source": [
        "c-d"
      ]
    },
    {
      "cell_type": "markdown",
      "metadata": {
        "id": "kDleFDsdzM8K"
      },
      "source": [
        "С помощью `len()` можно получить размер листа (и вообще любого iterable объекта):"
      ]
    },
    {
      "cell_type": "code",
      "execution_count": null,
      "metadata": {
        "id": "1Q9Pz4YYzM8K",
        "outputId": "d7551edb-5d7b-44f0-8090-560b1ec39f64"
      },
      "outputs": [
        {
          "data": {
            "text/plain": [
              "6"
            ]
          },
          "execution_count": 48,
          "metadata": {},
          "output_type": "execute_result"
        }
      ],
      "source": [
        "len(c)"
      ]
    },
    {
      "cell_type": "markdown",
      "metadata": {
        "id": "k2Ru4gCJzM8L"
      },
      "source": [
        "можно отсортировать элементы списка, вызвав метод .sort():"
      ]
    },
    {
      "cell_type": "code",
      "execution_count": null,
      "metadata": {
        "id": "fpo8b9g8zM8M",
        "outputId": "51955e21-056b-4d8a-8436-ba01e778355d"
      },
      "outputs": [
        {
          "data": {
            "text/plain": [
              "[2, 8, 9, 80, 90, 100500]"
            ]
          },
          "execution_count": 49,
          "metadata": {},
          "output_type": "execute_result"
        }
      ],
      "source": [
        "# вызов метода sort изменяет сам объект c, а не возвращает копию:\n",
        "c.sort()\n",
        "c"
      ]
    },
    {
      "cell_type": "markdown",
      "metadata": {
        "id": "2mnxxvHxGw0c"
      },
      "source": [
        "### tuple"
      ]
    },
    {
      "cell_type": "markdown",
      "metadata": {
        "id": "6o4C3V2AzM8R"
      },
      "source": [
        "**Кортеж**\n",
        "\n",
        "Этот тип данных очень похож на list, имеет ту же структуру, но отличается тем, что он неизменяемый\n",
        "\n",
        "Это нужно, например, чтобы `tuple` мог выступать в качестве ключей словаря (о них ниже). list в качестве ключей словаря выступать не может."
      ]
    },
    {
      "cell_type": "markdown",
      "metadata": {
        "id": "MsRtEw8IzM8R"
      },
      "source": [
        "Задать tuple можно круглыми скобками:"
      ]
    },
    {
      "cell_type": "code",
      "execution_count": null,
      "metadata": {
        "id": "pCgzsWT-Gw0d",
        "outputId": "2310c955-7abb-4c3c-8cd1-447bcd17b37e"
      },
      "outputs": [
        {
          "data": {
            "text/plain": [
              "('a', 5, 12.345, (2, 'b'))"
            ]
          },
          "execution_count": 50,
          "metadata": {},
          "output_type": "execute_result"
        }
      ],
      "source": [
        "t = ('a', 5, 12.345, (2, 'b'))\n",
        "t"
      ]
    },
    {
      "cell_type": "markdown",
      "metadata": {
        "id": "c3c0r0eVzM8S"
      },
      "source": [
        "Tuple нельзя изменять. Давайте в этом убедимся:"
      ]
    },
    {
      "cell_type": "code",
      "execution_count": null,
      "metadata": {
        "id": "dDtHlkzIGw0f",
        "outputId": "62848171-5412-44cf-95aa-295790b629f6"
      },
      "outputs": [
        {
          "ename": "AttributeError",
          "evalue": "'tuple' object has no attribute 'append'",
          "output_type": "error",
          "traceback": [
            "\u001b[1;31m---------------------------------------------------------------------------\u001b[0m",
            "\u001b[1;31mAttributeError\u001b[0m                            Traceback (most recent call last)",
            "\u001b[1;32m~\\AppData\\Local\\Temp/ipykernel_17856/1165891167.py\u001b[0m in \u001b[0;36m<module>\u001b[1;34m\u001b[0m\n\u001b[1;32m----> 1\u001b[1;33m \u001b[0mt\u001b[0m\u001b[1;33m.\u001b[0m\u001b[0mappend\u001b[0m\u001b[1;33m(\u001b[0m\u001b[1;36m5\u001b[0m\u001b[1;33m)\u001b[0m\u001b[1;33m\u001b[0m\u001b[1;33m\u001b[0m\u001b[0m\n\u001b[0m",
            "\u001b[1;31mAttributeError\u001b[0m: 'tuple' object has no attribute 'append'"
          ]
        }
      ],
      "source": [
        "t.append(5)"
      ]
    },
    {
      "cell_type": "code",
      "execution_count": null,
      "metadata": {
        "id": "F55yIy87zM8U",
        "outputId": "348af315-656f-4433-9c89-9dc2889e0281"
      },
      "outputs": [
        {
          "ename": "TypeError",
          "evalue": "'tuple' object does not support item assignment",
          "output_type": "error",
          "traceback": [
            "\u001b[1;31m---------------------------------------------------------------------------\u001b[0m",
            "\u001b[1;31mTypeError\u001b[0m                                 Traceback (most recent call last)",
            "\u001b[1;32m~\\AppData\\Local\\Temp/ipykernel_17856/2315850721.py\u001b[0m in \u001b[0;36m<module>\u001b[1;34m\u001b[0m\n\u001b[1;32m----> 1\u001b[1;33m \u001b[0mt\u001b[0m\u001b[1;33m[\u001b[0m\u001b[1;36m0\u001b[0m\u001b[1;33m]\u001b[0m \u001b[1;33m=\u001b[0m \u001b[1;36m9\u001b[0m\u001b[1;33m\u001b[0m\u001b[1;33m\u001b[0m\u001b[0m\n\u001b[0m",
            "\u001b[1;31mTypeError\u001b[0m: 'tuple' object does not support item assignment"
          ]
        }
      ],
      "source": [
        "t[0] = 9"
      ]
    },
    {
      "cell_type": "markdown",
      "metadata": {
        "id": "KPEftqeszM8V"
      },
      "source": [
        "Но получать элементы по индексу и слайсам, конечно, можно (tuple является iterable):"
      ]
    },
    {
      "cell_type": "code",
      "execution_count": null,
      "metadata": {
        "id": "p1Um9EKeGw0m",
        "outputId": "6ddb03c4-22f7-4008-abcc-2ecb0c173c79"
      },
      "outputs": [
        {
          "name": "stdout",
          "output_type": "stream",
          "text": [
            "12.345\n",
            "1\n",
            "('a', 5)\n"
          ]
        }
      ],
      "source": [
        "print(t[2])\n",
        "print(t.index(5))\n",
        "print(t[:2])"
      ]
    },
    {
      "cell_type": "markdown",
      "metadata": {
        "id": "HXhrxv8KzM8W"
      },
      "source": [
        "Как и list, кортежи можно складывать и работает сложение так же, как в list\n",
        "\n",
        "(вообще, с кортежами можно делать все, что можно делать с list, если это не изменяет кортеж)"
      ]
    },
    {
      "cell_type": "code",
      "execution_count": null,
      "metadata": {
        "id": "CIWPvGkiGw0p",
        "outputId": "9048599a-7fd1-4ecf-b4e8-c5c34b02728f"
      },
      "outputs": [
        {
          "name": "stdout",
          "output_type": "stream",
          "text": [
            "('a', 5, 12.345, (2, 'b'), 1, 2, 3)\n",
            "4\n",
            "True\n"
          ]
        }
      ],
      "source": [
        "m = (1, 2, 3)\n",
        "# складывать\n",
        "print(t + m)\n",
        "# узнать размер\n",
        "print(len(t))\n",
        "# проверить наличие элемента\n",
        "print(5 in t)"
      ]
    },
    {
      "cell_type": "markdown",
      "metadata": {
        "id": "hcaipS17Gw1I"
      },
      "source": [
        "---"
      ]
    },
    {
      "cell_type": "markdown",
      "metadata": {
        "id": "04VwiGfkGw3t"
      },
      "source": [
        "### Циклы - for и while"
      ]
    },
    {
      "cell_type": "markdown",
      "metadata": {
        "id": "MPzD7aIfzM8Z"
      },
      "source": [
        "iterable стректуры данных так называются, потому что по ним можно *итерировать* -- последовательно получать значения элементов этой структуры данных. Итерировать можно с помощью циклов `for` или `while` или сокращений.\n",
        "\n",
        "Синтаксис:\n",
        "\n",
        "```\n",
        "for element in iterable:\n",
        "    <code>\n",
        "```\n",
        "\n",
        "Код, который будет выполняться каждую итерацию цикла, записывается после двоеточия с отступом 4 пробела от строчки c `for`.\n",
        "\n",
        "Посмотрим на примере:"
      ]
    },
    {
      "cell_type": "code",
      "execution_count": null,
      "metadata": {
        "id": "RGyfjAhGGw3u",
        "outputId": "3ef962af-d316-42fd-bab6-c2950611400b"
      },
      "outputs": [
        {
          "name": "stdout",
          "output_type": "stream",
          "text": [
            "decision tree\n",
            "linear model\n",
            "svm\n",
            "ensemble\n",
            "Done\n"
          ]
        }
      ],
      "source": [
        "# создадим list элементов\n",
        "models = ['decision tree', 'linear model', 'svm', 'ensemble']\n",
        "\n",
        "# итерируем по названиям модели: каждую итерацию цикла в переменную model будет\n",
        "# записываться новое значение из models и оно будет использоваться для print(model)\n",
        "for model in models:\n",
        "    # тело цикла. Здесь с отступом в 4 пробела нужно описать код, который будет выполняться на каждой итерации цикла.\n",
        "    print(model)\n",
        "\n",
        "# этот код уже будет выполняться ПОСЛЕ цикла, потому что он записан без отступа в 4 пробела после for:\n",
        "print(\"Done\")"
      ]
    },
    {
      "cell_type": "markdown",
      "metadata": {
        "id": "ku2Q6dvvzjrE"
      },
      "source": [
        "**P.S.** Зметим, что каждую итерацию цикла в переменную model **копируется** очередное значение из models. Это значит, что если вы внутри цикла измените переменную model, соответствующее значение в массиве models изменено **не будет**"
      ]
    },
    {
      "cell_type": "markdown",
      "metadata": {
        "id": "GFRz-l-WzM8b"
      },
      "source": [
        "Синтаксис `while`:\n",
        "\n",
        "```\n",
        "while <условие (булевское выражение)>:\n",
        "    <code>\n",
        "```\n",
        "\n",
        "Здесь код, написанный вместо `code` будет выполняться каждую итерацию цикла, пока условие после `while` будет выполняться.\n",
        "\n",
        "Посмотрим на примере: Напишем цикл, в котором будем выводить переменную x и увеличивать x на 1, пока x не станет больше 10:"
      ]
    },
    {
      "cell_type": "code",
      "execution_count": null,
      "metadata": {
        "id": "qwWXAn2zGw3v",
        "outputId": "baf5f76a-8850-444c-b355-ba3986f6d998"
      },
      "outputs": [
        {
          "name": "stdout",
          "output_type": "stream",
          "text": [
            "1\n",
            "2\n",
            "3\n",
            "4\n",
            "5\n",
            "6\n",
            "7\n",
            "8\n",
            "9\n",
            "10\n"
          ]
        }
      ],
      "source": [
        "x = 1\n",
        "\n",
        "while x <= 10:\n",
        "    print(x)\n",
        "    # более удобный способ записи x = x + 1\n",
        "    x += 1"
      ]
    },
    {
      "cell_type": "markdown",
      "metadata": {
        "id": "LIeDwUhRzM8d"
      },
      "source": [
        "Иногда бывает нужно прервать выполнение цикла при выполнении какого-то условия\n",
        "\n",
        "Например, мы хотим итерировать по массиву строк, на каждой итерации выводить строку на экран и прервать цикл (перестать выводить строки), если мы встретили строку stop.\n",
        "\n",
        "Это делается с помощью ключевого слова `break`:"
      ]
    },
    {
      "cell_type": "code",
      "execution_count": null,
      "metadata": {
        "id": "-sXQ20WhzM8d",
        "outputId": "b04da21a-2e2a-4877-ede2-9ec491f04516"
      },
      "outputs": [
        {
          "name": "stdout",
          "output_type": "stream",
          "text": [
            "stroka1\n",
            "stroka2\n",
            "stroka3\n"
          ]
        }
      ],
      "source": [
        "mas = ['stroka1', 'stroka2', 'stroka3', 'stop', 'stroka4']\n",
        "\n",
        "for s in mas:\n",
        "    if s == 'stop':\n",
        "        break\n",
        "    print(s)"
      ]
    },
    {
      "cell_type": "markdown",
      "metadata": {
        "id": "mV0nKWbvzM8e"
      },
      "source": [
        "Иногда же хочется не прервать выполнение всего цикла, а прервать выполнение именно одной итерации цикла и продолжить цикл со следующей итерации.\n",
        "\n",
        "Например, мы так же, как в предыдущем примере, хотим итерировать по массиву строк и выводить строку на каждой итерации на экран, но не хотим выводить строку на экран, если эта строка равна 'null'.\n",
        "\n",
        "Это делается с помощью ключевого слова `continue`:"
      ]
    },
    {
      "cell_type": "code",
      "execution_count": null,
      "metadata": {
        "id": "vNZTe8fczM8f",
        "outputId": "fb1d83db-f31a-4ddc-af46-d3dda7832af7"
      },
      "outputs": [
        {
          "name": "stdout",
          "output_type": "stream",
          "text": [
            "stroka1\n",
            "stroka3\n",
            "stop\n"
          ]
        }
      ],
      "source": [
        "mas = ['stroka1', 'null', 'stroka3', 'stop', 'null']\n",
        "\n",
        "for s in mas:\n",
        "    if s == 'null':\n",
        "        continue\n",
        "    print(s)"
      ]
    },
    {
      "cell_type": "markdown",
      "metadata": {
        "id": "B2Y6F2QozM8g"
      },
      "source": [
        "#### range\n",
        "\n",
        "Для работы с циклами в питоне есть очень полезная функция `range()`. Допустим, вы хотите написать цикл, который бы отработал 100 раз. Можно сделать это следующим образом:\n",
        "\n",
        "```\n",
        "i = 0\n",
        "while i < 100:\n",
        "    i += 1\n",
        "    <code>\n",
        "```\n",
        "\n",
        "но это неудобно: нужно завести вспомогательную переменную i, написать лишние 2 строчки кода (i=0 и i+=1). Так код терядет в понятности и читабельности. Гораздо проще записать этот цикл с помощью range.\n",
        "\n",
        "`range()` принимает 3 аргумента: начало интервала begin, конец интервала end и шаг step, с которым будет двигаться по игтервалу, и возвращает iterable объект -- по сути, массив чисел начиная с begin включительно, заканчивая end не включительно, числа в массиве идут с шагом step.\n",
        "\n",
        "Посмотрим на пример:"
      ]
    },
    {
      "cell_type": "code",
      "execution_count": null,
      "metadata": {
        "id": "WjVT0aODzM8h",
        "outputId": "2f29851f-4f99-40bd-f65b-5a1e3ee71de1"
      },
      "outputs": [
        {
          "name": "stdout",
          "output_type": "stream",
          "text": [
            "[1, 2, 3, 4, 5, 6, 7, 8, 9, 10, 11, 12, 13, 14, 15, 16, 17, 18, 19, 20, 21, 22, 23, 24, 25, 26, 27, 28, 29, 30, 31, 32, 33, 34, 35, 36, 37, 38, 39, 40, 41, 42, 43, 44, 45, 46, 47, 48, 49, 50, 51, 52, 53, 54, 55, 56, 57, 58, 59, 60, 61, 62, 63, 64, 65, 66, 67, 68, 69, 70, 71, 72, 73, 74, 75, 76, 77, 78, 79, 80, 81, 82, 83, 84, 85, 86, 87, 88, 89, 90, 91, 92, 93, 94, 95, 96, 97, 98, 99, 100]\n"
          ]
        }
      ],
      "source": [
        "r = range(1, 101)\n",
        "#приведем возвращаемый iterable к list и выведем на экран:\n",
        "print(list(r))"
      ]
    },
    {
      "cell_type": "markdown",
      "metadata": {
        "id": "aKbCXQUjzM8i"
      },
      "source": [
        "Теперь легко записать цикл:"
      ]
    },
    {
      "cell_type": "code",
      "execution_count": null,
      "metadata": {
        "id": "zz-i2EOLzM8i",
        "outputId": "50e5a96e-4a3a-4bb1-d869-491dd863356d"
      },
      "outputs": [
        {
          "name": "stdout",
          "output_type": "stream",
          "text": [
            "1\n",
            "2\n",
            "3\n",
            "4\n",
            "5\n",
            "6\n",
            "7\n",
            "8\n",
            "9\n",
            "10\n",
            "11\n",
            "12\n",
            "13\n",
            "14\n",
            "15\n",
            "16\n",
            "17\n",
            "18\n",
            "19\n",
            "20\n",
            "21\n",
            "22\n",
            "23\n",
            "24\n",
            "25\n",
            "26\n",
            "27\n",
            "28\n",
            "29\n",
            "30\n",
            "31\n",
            "32\n",
            "33\n",
            "34\n",
            "35\n",
            "36\n",
            "37\n",
            "38\n",
            "39\n",
            "40\n",
            "41\n",
            "42\n",
            "43\n",
            "44\n",
            "45\n",
            "46\n",
            "47\n",
            "48\n",
            "49\n",
            "50\n",
            "51\n",
            "52\n",
            "53\n",
            "54\n",
            "55\n",
            "56\n",
            "57\n",
            "58\n",
            "59\n",
            "60\n",
            "61\n",
            "62\n",
            "63\n",
            "64\n",
            "65\n",
            "66\n",
            "67\n",
            "68\n",
            "69\n",
            "70\n",
            "71\n",
            "72\n",
            "73\n",
            "74\n",
            "75\n",
            "76\n",
            "77\n",
            "78\n",
            "79\n",
            "80\n",
            "81\n",
            "82\n",
            "83\n",
            "84\n",
            "85\n",
            "86\n",
            "87\n",
            "88\n",
            "89\n",
            "90\n",
            "91\n",
            "92\n",
            "93\n",
            "94\n",
            "95\n",
            "96\n",
            "97\n",
            "98\n",
            "99\n"
          ]
        }
      ],
      "source": [
        "for i in range(1, 100, 1):\n",
        "    print(i)"
      ]
    },
    {
      "cell_type": "markdown",
      "metadata": {
        "id": "6IJfBuVUzM8j"
      },
      "source": [
        "Если у range не указывать последний алгумент step, он по умолчанию будет 1.\n",
        "\n",
        "А если указать всего один аргумент, то range выдаст iterable с началом в 0 и концом в этом аргументе:"
      ]
    },
    {
      "cell_type": "code",
      "execution_count": null,
      "metadata": {
        "id": "mqFuX8aqzM8j",
        "outputId": "afc97de4-10e3-468a-f78d-c043704b05e9"
      },
      "outputs": [
        {
          "data": {
            "text/plain": [
              "[4, 5, 6, 7]"
            ]
          },
          "execution_count": 64,
          "metadata": {},
          "output_type": "execute_result"
        }
      ],
      "source": [
        "list(range(4, 8))"
      ]
    },
    {
      "cell_type": "code",
      "execution_count": null,
      "metadata": {
        "id": "-lBrG1q6zM8k",
        "outputId": "8213e9f7-9e4a-4292-804a-87f2b8095125"
      },
      "outputs": [
        {
          "data": {
            "text/plain": [
              "[0, 1, 2, 3, 4, 5, 6, 7]"
            ]
          },
          "execution_count": 65,
          "metadata": {},
          "output_type": "execute_result"
        }
      ],
      "source": [
        "list(range(8))"
      ]
    },
    {
      "cell_type": "markdown",
      "metadata": {
        "id": "ZJrtKwFu0Cam"
      },
      "source": [
        "С помощью range нетрудно переписать цикл, который мы писали выше, где итерировались по названиям моделей, так, чтобы элементы массива models  можно было изменять внутри цикла:"
      ]
    },
    {
      "cell_type": "code",
      "execution_count": null,
      "metadata": {
        "id": "GKD2yNLD0C_J",
        "outputId": "bdcb0c40-f525-4f12-b65a-de1d95ebdeac"
      },
      "outputs": [
        {
          "name": "stdout",
          "output_type": "stream",
          "text": [
            "decision tree\n",
            "linear model\n",
            "svm\n",
            "ensemble\n",
            "Done\n"
          ]
        }
      ],
      "source": [
        "# создадим list элементов\n",
        "models = ['decision tree', 'linear model', 'svm', 'ensemble']\n",
        "\n",
        "# итерируемся по индексам массива models\n",
        "for i in range(len(models)):\n",
        "    # тут если вы поменяете models[i], то значение в models тоже изменится\n",
        "    print(models[i])\n",
        "\n",
        "# этот код уже будет выполняться ПОСЛЕ цикла, потому что он записан без отступа в 4 пробела после for:\n",
        "print(\"Done\")"
      ]
    },
    {
      "cell_type": "markdown",
      "metadata": {
        "id": "USIIpRQeGw3N"
      },
      "source": [
        "---"
      ]
    },
    {
      "cell_type": "markdown",
      "metadata": {
        "id": "70QerwaDGw3y"
      },
      "source": [
        "### enumerate, zip"
      ]
    },
    {
      "cell_type": "markdown",
      "metadata": {
        "id": "__U7hz9izM8n"
      },
      "source": [
        "`zip()` принимает два iterable аргумента и возвращает iterable из пар соответствующих элементов этих двух iterable:"
      ]
    },
    {
      "cell_type": "code",
      "execution_count": null,
      "metadata": {
        "id": "Ywi776zAGw3y",
        "outputId": "7dfd02ab-5cf3-4c72-ec13-99dc753b1b06"
      },
      "outputs": [
        {
          "data": {
            "text/plain": [
              "[('a', '1'),\n",
              " ('b', '2'),\n",
              " ('c', '3'),\n",
              " ('d', '4'),\n",
              " ('e', '5'),\n",
              " ('f', '6'),\n",
              " ('g', '7')]"
            ]
          },
          "execution_count": 67,
          "metadata": {},
          "output_type": "execute_result"
        }
      ],
      "source": [
        "first = 'a b c d e f g'.split(' ')\n",
        "second = '1 2 3 4 5 6 7'.split(' ')\n",
        "\n",
        "list(zip(first, second))"
      ]
    },
    {
      "cell_type": "markdown",
      "metadata": {
        "id": "8eFmeb8rzM8o"
      },
      "source": [
        "Что будет, если один из iterable короче, чем другой:"
      ]
    },
    {
      "cell_type": "code",
      "execution_count": null,
      "metadata": {
        "id": "7L6rqFE1zM8o",
        "outputId": "f360f38f-b0a9-4dc1-ac01-6ee18ce55565"
      },
      "outputs": [
        {
          "data": {
            "text/plain": [
              "[('a', '1'), ('b', '2'), ('c', '3'), ('d', '4'), ('e', '5')]"
            ]
          },
          "execution_count": 68,
          "metadata": {},
          "output_type": "execute_result"
        }
      ],
      "source": [
        "first = 'a b c d e f g'.split(' ')\n",
        "second = '1 2 3 4 5'.split(' ')\n",
        "\n",
        "list(zip(first, second))"
      ]
    },
    {
      "cell_type": "markdown",
      "metadata": {
        "id": "2pqNxHMYzM8s"
      },
      "source": [
        "Это опять же полезно для использования в циклах:"
      ]
    },
    {
      "cell_type": "code",
      "execution_count": null,
      "metadata": {
        "id": "Pthn6bm4zM8t",
        "outputId": "3cfa9f31-b678-40f1-ab2d-f30d8d34fc2d"
      },
      "outputs": [
        {
          "name": "stdout",
          "output_type": "stream",
          "text": [
            "1's model is: decision tree\n",
            "2's model is: linear model\n",
            "3's model is: svm\n",
            "4's model is: ensemble\n"
          ]
        }
      ],
      "source": [
        "models = ['decision tree', 'linear model', 'svm', 'ensemble']\n",
        "\n",
        "# zip dвозвращает пару элементов, которые можно записать в 2 разные переменные в цикле for.\n",
        "# например, здесб мы записываем первый элемент пары в num, второй -- в model.\n",
        "for num, model in zip(range(len(models)), models):\n",
        "    print(str(num+1)+'\\'s model is:', model)"
      ]
    },
    {
      "cell_type": "markdown",
      "metadata": {
        "id": "CarxOU_dzM8u"
      },
      "source": [
        "Однако в этом коде мы хотели просто пронумеровать элементы списка models, но нам для этого пришлось писать zip(range(...))\n",
        "\n",
        "Именно для такого случая, когда надо пронумервать элементы какого-то iterable, существует функция `enumerate`:\n",
        "\n",
        "`enumerate(iterable)` возвращает пары номер-элемент iterable:"
      ]
    },
    {
      "cell_type": "code",
      "execution_count": null,
      "metadata": {
        "id": "M4xO9xWpzM8v",
        "outputId": "3fc63fbb-c004-4c5d-ea31-69ef0bef89c8"
      },
      "outputs": [
        {
          "name": "stdout",
          "output_type": "stream",
          "text": [
            "1's model is: decision tree\n",
            "2's model is: linear model\n",
            "3's model is: svm\n",
            "4's model is: ensemble\n"
          ]
        }
      ],
      "source": [
        "models = ['decision tree', 'linear model', 'svm', 'ensemble']\n",
        "\n",
        "# zip dвозвращает пару элементов, которые можно записать в 2 разные переменные в цикле for.\n",
        "# например, здесб мы записываем первый элемент пары в num, второй -- в model.\n",
        "for num, model in enumerate(models):\n",
        "    print(str(num+1)+'\\'s model is:', model)"
      ]
    },
    {
      "cell_type": "markdown",
      "metadata": {
        "id": "MJJxXLh2Gw37"
      },
      "source": [
        "---"
      ]
    },
    {
      "cell_type": "markdown",
      "metadata": {
        "id": "8RzblAoHOUX9"
      },
      "source": [
        "### Списковые включения (list comprehensions)"
      ]
    },
    {
      "cell_type": "code",
      "execution_count": null,
      "metadata": {
        "id": "RUi10yrgOUX9",
        "outputId": "15406a61-cf65-46de-c86c-1a66e8be757d"
      },
      "outputs": [
        {
          "data": {
            "text/plain": [
              "[1, 2, 3, 4, 5]"
            ]
          },
          "execution_count": 2,
          "metadata": {},
          "output_type": "execute_result"
        }
      ],
      "source": [
        "a = [1, 2, 3, 4, 5]\n",
        "a"
      ]
    },
    {
      "cell_type": "code",
      "execution_count": null,
      "metadata": {
        "id": "syfd-mCrOUX9",
        "outputId": "14bb178e-bb1d-42b0-e1f1-327035898f12"
      },
      "outputs": [
        {
          "data": {
            "text/plain": [
              "[1, 2, 3, 4, 5]"
            ]
          },
          "execution_count": 3,
          "metadata": {},
          "output_type": "execute_result"
        }
      ],
      "source": [
        "a = [x for x in range(1, 6)]\n",
        "a"
      ]
    },
    {
      "cell_type": "code",
      "execution_count": null,
      "metadata": {
        "id": "QhKskUNROUX9",
        "outputId": "d7f33078-103a-41f5-d6f8-9c730f264d71"
      },
      "outputs": [
        {
          "name": "stdout",
          "output_type": "stream",
          "text": [
            "[1, 4, 9, 16, 25, 36, 49, 64, 81] == [1, 4, 9, 16, 25, 36, 49, 64, 81]\n"
          ]
        }
      ],
      "source": [
        "def f(x):\n",
        "    return x ** 2\n",
        "\n",
        "b = [f(x) for x in range(1, 10)]\n",
        "c = [x ** 2 for x in range(1, 10)]\n",
        "print(b, '==', c)"
      ]
    },
    {
      "cell_type": "code",
      "execution_count": null,
      "metadata": {
        "id": "RxkHJ3NGOUX9",
        "outputId": "7844d4d6-766b-4387-8c54-7546f6c948c9"
      },
      "outputs": [
        {
          "data": {
            "text/plain": [
              "['a', '*', '*', '*', 'e']"
            ]
          },
          "execution_count": 6,
          "metadata": {},
          "output_type": "execute_result"
        }
      ],
      "source": [
        "[x if x in 'aeiou' else '*' for x in 'apple']"
      ]
    },
    {
      "cell_type": "code",
      "execution_count": null,
      "metadata": {
        "id": "Di41iSzMOUX-",
        "outputId": "6f5d646f-adc8-47df-b671-a7db28c99479"
      },
      "outputs": [
        {
          "name": "stdout",
          "output_type": "stream",
          "text": [
            "['0', '1']\n",
            "\n",
            "['0', '1', '1', '2']\n",
            "\n",
            "['0', '1', '1', '2', '2', '3']\n",
            "\n"
          ]
        },
        {
          "data": {
            "text/plain": [
              "['0', '1', '1', '2', '2', '3']"
            ]
          },
          "execution_count": 9,
          "metadata": {},
          "output_type": "execute_result"
        }
      ],
      "source": [
        "l = []\n",
        "for i in range(3):\n",
        "    for x in [i, i + 1]:\n",
        "        l.append(str(x))\n",
        "    print(l)\n",
        "    input() # Ждёт Enter\n",
        "l"
      ]
    },
    {
      "cell_type": "code",
      "execution_count": null,
      "metadata": {
        "id": "GK1jBusVOUX-",
        "outputId": "aade9784-6a21-412a-af68-ea374833cc9c"
      },
      "outputs": [
        {
          "data": {
            "text/plain": [
              "['0', '1', '1', '2', '2', '3']"
            ]
          },
          "execution_count": 10,
          "metadata": {},
          "output_type": "execute_result"
        }
      ],
      "source": [
        "l = [str(x) for i in range(3) for x in [i, i + 1]]\n",
        "l"
      ]
    },
    {
      "cell_type": "markdown",
      "metadata": {
        "id": "8f3c96Y3Gw4f"
      },
      "source": [
        "### set"
      ]
    },
    {
      "cell_type": "markdown",
      "metadata": {
        "id": "rtYFS6xgzM8y"
      },
      "source": [
        "**Множество**"
      ]
    },
    {
      "cell_type": "markdown",
      "metadata": {
        "id": "TqwLw40MzM8z"
      },
      "source": [
        "Множество -- это массив, в котором элементы не могут повторяться (то есть, как и в математическом определении множества)\n",
        "\n",
        "Внутри языка множество устроено совсем не так, как список или кортеж, элементы множества хранятся не последовательно, поэтому к элементам множества нельзя обрашаться по индексу.\n",
        "\n",
        "Пустое множество можно создать с помощью set():"
      ]
    },
    {
      "cell_type": "code",
      "execution_count": null,
      "metadata": {
        "id": "7FsYEdL-Gw4f",
        "outputId": "1dd16cc3-0f9b-4d76-8dd9-b1fc780d8894"
      },
      "outputs": [
        {
          "name": "stdout",
          "output_type": "stream",
          "text": [
            "set() | <class 'set'>\n"
          ]
        }
      ],
      "source": [
        "s = set()\n",
        "\n",
        "print(s, '|', type(s))"
      ]
    },
    {
      "cell_type": "markdown",
      "metadata": {
        "id": "HKeW3FtyzM80"
      },
      "source": [
        "Список можно привести к множеству при создании.\n",
        "\n",
        "Обратите внимание, что элементы set'а выводятся в отсортированном порядке!"
      ]
    },
    {
      "cell_type": "code",
      "execution_count": null,
      "metadata": {
        "id": "ILQAHDMVzM81",
        "outputId": "a421bd41-1261-4a6b-8740-423b1f17618c"
      },
      "outputs": [
        {
          "data": {
            "text/plain": [
              "{2, 3, 5}"
            ]
          },
          "execution_count": 72,
          "metadata": {},
          "output_type": "execute_result"
        }
      ],
      "source": [
        "s = set([5, 2, 3, 2])\n",
        "s"
      ]
    },
    {
      "cell_type": "markdown",
      "metadata": {
        "id": "Y2LfOQbdzM82"
      },
      "source": [
        "Можно добавлять элементы в множество с помощью метода `.add()`:"
      ]
    },
    {
      "cell_type": "code",
      "execution_count": null,
      "metadata": {
        "id": "nZ7OwvJoGw4m",
        "outputId": "fdbd2648-3276-49b5-f606-c7d8a94bfee1"
      },
      "outputs": [
        {
          "name": "stdout",
          "output_type": "stream",
          "text": [
            "{1, 2, 3, 5, 'bullet', None, 'a'}\n"
          ]
        }
      ],
      "source": [
        "s.add(1)\n",
        "s.add('a')\n",
        "# None тоже можно добавить =)\n",
        "s.add(None)\n",
        "s.add('bullet')\n",
        "print(s)"
      ]
    },
    {
      "cell_type": "markdown",
      "metadata": {
        "id": "S4ZNpCc_zM83"
      },
      "source": [
        "Метод .difference() позволяет получить элементы, которые есть в одном сете, но нет в другом:"
      ]
    },
    {
      "cell_type": "code",
      "execution_count": null,
      "metadata": {
        "id": "xuSORJBVGw4n",
        "outputId": "d64c4bfc-f71b-4fc7-8792-c53e130839e7"
      },
      "outputs": [
        {
          "name": "stdout",
          "output_type": "stream",
          "text": [
            "s1:  {0, 1, 2, 3, 4, 5, 6, 7, 8, 9} \n",
            "s2:  {5, 6, 7, 8, 9, 10, 11, 12, 13, 14}\n"
          ]
        }
      ],
      "source": [
        "s1 = set(range(0, 10))\n",
        "s2 = set(range(5, 15))\n",
        "\n",
        "print('s1: ', s1, '\\ns2: ', s2)"
      ]
    },
    {
      "cell_type": "code",
      "execution_count": null,
      "metadata": {
        "id": "XHt0SFi3Gw4o",
        "outputId": "616482e0-9b5d-4ce9-f0d0-4f00b9fe5a25"
      },
      "outputs": [
        {
          "name": "stdout",
          "output_type": "stream",
          "text": [
            "{0, 1, 2, 3, 4}\n",
            "\n",
            "{10, 11, 12, 13, 14}\n"
          ]
        }
      ],
      "source": [
        "# элементы, которые есть в s1, но нет в s2\n",
        "print(s1.difference(s2))\n",
        "print()\n",
        "# элементы, которые есть в s2, но нет в s1\n",
        "print(s2.difference(s1))"
      ]
    },
    {
      "cell_type": "code",
      "execution_count": null,
      "metadata": {
        "id": "tx1o8_2kGw4p",
        "outputId": "78c47520-4612-41c4-f1a1-1262ea2532d4"
      },
      "outputs": [
        {
          "name": "stdout",
          "output_type": "stream",
          "text": [
            "{5, 6, 7, 8, 9}\n",
            "{5, 6, 7, 8, 9}\n"
          ]
        }
      ],
      "source": [
        "# пересечение множеств s1 и s2 можно записать двумя способами:\n",
        "print(s1.intersection(s2))\n",
        "print(s1 & s2)"
      ]
    },
    {
      "cell_type": "code",
      "execution_count": null,
      "metadata": {
        "id": "SgxbKT7KGw4p",
        "outputId": "5602d730-60d9-4f1c-bdaf-3e4230c9b622"
      },
      "outputs": [
        {
          "name": "stdout",
          "output_type": "stream",
          "text": [
            "{0, 1, 2, 3, 4, 5, 6, 7, 8, 9, 10, 11, 12, 13, 14}\n",
            "{0, 1, 2, 3, 4, 5, 6, 7, 8, 9, 10, 11, 12, 13, 14}\n"
          ]
        }
      ],
      "source": [
        "# объединение множеств s1 и s2 тоже можно записать двумя способами:\n",
        "print(s1.union(s2))\n",
        "print(s1 | s2)"
      ]
    },
    {
      "cell_type": "markdown",
      "metadata": {
        "id": "FF2LsBh8zM87"
      },
      "source": [
        "Из сета можно удалить элемент по значению:"
      ]
    },
    {
      "cell_type": "code",
      "execution_count": null,
      "metadata": {
        "id": "dUA5ljbpzM88",
        "outputId": "9d5137e7-1f4a-47ad-f0f8-365e8b5d2caa"
      },
      "outputs": [
        {
          "data": {
            "text/plain": [
              "{1, 2, 3, 4, 5, 6, 7, 8, 9}"
            ]
          },
          "execution_count": 78,
          "metadata": {},
          "output_type": "execute_result"
        }
      ],
      "source": [
        "s1.discard(0)\n",
        "s1"
      ]
    },
    {
      "cell_type": "markdown",
      "metadata": {
        "id": "i0xyAzGiGw4s"
      },
      "source": [
        "### dict"
      ]
    },
    {
      "cell_type": "markdown",
      "metadata": {
        "id": "EVTS3oSEzM89"
      },
      "source": [
        "**Словарь, ассоциативный массив**"
      ]
    },
    {
      "cell_type": "markdown",
      "metadata": {
        "id": "7yd8E4ojzM89"
      },
      "source": [
        "Словарь -- это структура данных, которая представляет отображение из одного типа данных в другой. Представляет собой набор пар ключ-значение, в качестве ключа могут выступать immutable типы данных (int, str, tuple, ...)\n",
        "\n",
        "Массивы, которые мы до этого рассматривали, были отображением непрерывного отрезка [0, n] в другой тип данных. `dict` может быть гораздо удобнее, когда нужно использовать в качестве ключа другой тип данных (например, сопоставить именам людей (str) их даты рождения) или когда в качестве ключа хочется использовать int, но не все значения из промежутка [0, n] нужны. Например, если хочется сопоставить года рождения великих писателей их именам."
      ]
    },
    {
      "cell_type": "markdown",
      "metadata": {
        "id": "h959mSWOzM89"
      },
      "source": [
        "Пустой словарь можно создать либо с помощью `{}`, либо с `dict()`:"
      ]
    },
    {
      "cell_type": "code",
      "execution_count": null,
      "metadata": {
        "id": "8mGEtp7BGw4s",
        "outputId": "241cba51-0b69-497e-debd-ff96731d0d79"
      },
      "outputs": [
        {
          "name": "stdout",
          "output_type": "stream",
          "text": [
            "True | <class 'dict'>\n"
          ]
        }
      ],
      "source": [
        "d = {}\n",
        "dd = dict()\n",
        "\n",
        "print(d == dd, '|', type(d))"
      ]
    },
    {
      "cell_type": "markdown",
      "metadata": {
        "id": "hqVj1lbjzM8-"
      },
      "source": [
        "Добавим значение value по ключу key в словарь:"
      ]
    },
    {
      "cell_type": "code",
      "execution_count": null,
      "metadata": {
        "id": "Tasup1rwGw4w",
        "outputId": "f0dc2033-6d82-4332-f14b-9e4b1844d98b"
      },
      "outputs": [
        {
          "data": {
            "text/plain": [
              "{'a': 100}"
            ]
          },
          "execution_count": 80,
          "metadata": {},
          "output_type": "execute_result"
        }
      ],
      "source": [
        "key = 'a'\n",
        "value = 100\n",
        "\n",
        "d[key] = value\n",
        "d"
      ]
    },
    {
      "cell_type": "markdown",
      "metadata": {
        "id": "f0V06tdwzM8_"
      },
      "source": [
        "Непустой словарь можно создать несколькими способами:"
      ]
    },
    {
      "cell_type": "code",
      "execution_count": null,
      "metadata": {
        "id": "teTfaLXAzM9A",
        "outputId": "ca385a11-704f-47eb-f27e-d7cf7483ff8c"
      },
      "outputs": [
        {
          "data": {
            "text/plain": [
              "{'short': 'dict', 'long': 'dictionary'}"
            ]
          },
          "execution_count": 81,
          "metadata": {},
          "output_type": "execute_result"
        }
      ],
      "source": [
        "d = {\n",
        "    'short': 'dict',\n",
        "    'long': 'dictionary'\n",
        "}\n",
        "d"
      ]
    },
    {
      "cell_type": "code",
      "execution_count": null,
      "metadata": {
        "id": "V4PNtLrtGw4y",
        "outputId": "cd918876-b7ae-4466-d51f-6ce360dda2b5"
      },
      "outputs": [
        {
          "data": {
            "text/plain": [
              "{'short': 'dict', 'long': 'dictionary'}"
            ]
          },
          "execution_count": 82,
          "metadata": {},
          "output_type": "execute_result"
        }
      ],
      "source": [
        "d = dict(short='dict', long='dictionary')\n",
        "d"
      ]
    },
    {
      "cell_type": "code",
      "execution_count": null,
      "metadata": {
        "id": "SiejuQPWGw41",
        "outputId": "dc283bf6-4796-4a0d-a926-0c5cba084344"
      },
      "outputs": [
        {
          "data": {
            "text/plain": [
              "{1: 1, 2: 4}"
            ]
          },
          "execution_count": 83,
          "metadata": {},
          "output_type": "execute_result"
        }
      ],
      "source": [
        "d = dict([(1, 1), (2, 4)])\n",
        "d"
      ]
    },
    {
      "cell_type": "markdown",
      "metadata": {
        "id": "jKrmEdzZzM9C"
      },
      "source": [
        "Создать дефолтный словарь с ключами из списка, значениями None:"
      ]
    },
    {
      "cell_type": "code",
      "execution_count": null,
      "metadata": {
        "id": "hKzBkSEPGw44",
        "outputId": "5ed078dd-4e12-474d-8f5b-f223e1637fd3"
      },
      "outputs": [
        {
          "data": {
            "text/plain": [
              "{'a': None, 'b': None}"
            ]
          },
          "execution_count": 84,
          "metadata": {},
          "output_type": "execute_result"
        }
      ],
      "source": [
        "d = dict.fromkeys(['a', 'b'])\n",
        "d"
      ]
    },
    {
      "cell_type": "markdown",
      "metadata": {
        "id": "-ymWrpRHzM9D"
      },
      "source": [
        "Создать дефолтный словарь с ключами из списка, всеми значениями по умолчанию 100:"
      ]
    },
    {
      "cell_type": "code",
      "execution_count": null,
      "metadata": {
        "id": "ul5ln-nHGw46",
        "outputId": "af8582b9-007d-493e-94e2-4f3bc8171be8"
      },
      "outputs": [
        {
          "data": {
            "text/plain": [
              "{'a': 100, 'b': 100}"
            ]
          },
          "execution_count": 85,
          "metadata": {},
          "output_type": "execute_result"
        }
      ],
      "source": [
        "d = dict.fromkeys(['a', 'b'], 100)\n",
        "d"
      ]
    },
    {
      "cell_type": "markdown",
      "metadata": {
        "id": "YwySNULzGw4_"
      },
      "source": [
        "**dict comprehensions**"
      ]
    },
    {
      "cell_type": "markdown",
      "metadata": {
        "id": "k-w8FqD4zM9E"
      },
      "source": [
        "Еще один способ объявления словаря: создадим словарь, где каждому целому числу от 0 до 6 поставим в соответствие квадрат этого числа:"
      ]
    },
    {
      "cell_type": "code",
      "execution_count": null,
      "metadata": {
        "id": "WYE28ZQcGw4_",
        "outputId": "84757d45-708f-4589-ef2a-78a1c2a6f48d"
      },
      "outputs": [
        {
          "data": {
            "text/plain": [
              "{0: 0, 1: 1, 2: 4, 3: 9, 4: 16, 5: 25, 6: 36}"
            ]
          },
          "execution_count": 86,
          "metadata": {},
          "output_type": "execute_result"
        }
      ],
      "source": [
        "d = {a: a ** 2 for a in range(7)}\n",
        "d"
      ]
    },
    {
      "cell_type": "markdown",
      "metadata": {
        "id": "79dYvUBLGw5A"
      },
      "source": [
        "### !"
      ]
    },
    {
      "cell_type": "markdown",
      "metadata": {
        "id": "BacZFsy-Gw5A"
      },
      "source": [
        "Будьте осторожны, если ключа, по которому поступил запрос, нет в словаре, то выбросит исключение:"
      ]
    },
    {
      "cell_type": "code",
      "execution_count": null,
      "metadata": {
        "id": "m9Z8UVuHGw5A",
        "outputId": "1d5863a6-4b5e-44bf-d854-f4728d26d706"
      },
      "outputs": [
        {
          "ename": "KeyError",
          "evalue": "'a'",
          "output_type": "error",
          "traceback": [
            "\u001b[1;31m---------------------------------------------------------------------------\u001b[0m",
            "\u001b[1;31mKeyError\u001b[0m                                  Traceback (most recent call last)",
            "\u001b[1;32m~\\AppData\\Local\\Temp/ipykernel_17856/92849081.py\u001b[0m in \u001b[0;36m<module>\u001b[1;34m\u001b[0m\n\u001b[0;32m      1\u001b[0m \u001b[0md\u001b[0m \u001b[1;33m=\u001b[0m \u001b[1;33m{\u001b[0m\u001b[1;36m1\u001b[0m\u001b[1;33m:\u001b[0m \u001b[1;36m100\u001b[0m\u001b[1;33m,\u001b[0m \u001b[1;36m2\u001b[0m\u001b[1;33m:\u001b[0m \u001b[1;36m200\u001b[0m\u001b[1;33m,\u001b[0m \u001b[1;36m3\u001b[0m\u001b[1;33m:\u001b[0m \u001b[1;36m300\u001b[0m\u001b[1;33m}\u001b[0m\u001b[1;33m\u001b[0m\u001b[1;33m\u001b[0m\u001b[0m\n\u001b[1;32m----> 2\u001b[1;33m \u001b[0md\u001b[0m\u001b[1;33m[\u001b[0m\u001b[1;34m'a'\u001b[0m\u001b[1;33m]\u001b[0m\u001b[1;33m\u001b[0m\u001b[1;33m\u001b[0m\u001b[0m\n\u001b[0m",
            "\u001b[1;31mKeyError\u001b[0m: 'a'"
          ]
        }
      ],
      "source": [
        "d = {1: 100, 2: 200, 3: 300}\n",
        "d['a']"
      ]
    },
    {
      "cell_type": "markdown",
      "metadata": {
        "id": "ldTDId4IGw5B"
      },
      "source": [
        "Поэтому безопаснее использовать **get(key)**. Тогда, если нужно, можно проверить на **None**:"
      ]
    },
    {
      "cell_type": "code",
      "execution_count": null,
      "metadata": {
        "id": "-sz0nIsXGw5B",
        "outputId": "804a5482-e562-4a3a-fd9e-0260931cfdb8"
      },
      "outputs": [
        {
          "data": {
            "text/plain": [
              "100"
            ]
          },
          "execution_count": 88,
          "metadata": {},
          "output_type": "execute_result"
        }
      ],
      "source": [
        "d.get(1)"
      ]
    },
    {
      "cell_type": "code",
      "execution_count": null,
      "metadata": {
        "id": "IB7VemHiGw5D",
        "outputId": "819fa057-84ee-4e54-8007-a59521e3f827"
      },
      "outputs": [
        {
          "data": {
            "text/plain": [
              "True"
            ]
          },
          "execution_count": 89,
          "metadata": {},
          "output_type": "execute_result"
        }
      ],
      "source": [
        "d.get('a') == None"
      ]
    },
    {
      "cell_type": "markdown",
      "metadata": {
        "id": "nU8c9PouGw5E"
      },
      "source": [
        "Самое часто используемое - получение ключей, получение значений и получение всего вместе:"
      ]
    },
    {
      "cell_type": "code",
      "execution_count": null,
      "metadata": {
        "id": "_cC8rqn-Gw5E",
        "outputId": "91afc380-eb7c-4365-bfb6-82126db6f09c"
      },
      "outputs": [
        {
          "name": "stdout",
          "output_type": "stream",
          "text": [
            "dict_keys([1, 2, 3]) | <class 'dict_keys'>\n",
            "[1, 2, 3]\n"
          ]
        }
      ],
      "source": [
        "# получить список ключей\n",
        "print(d.keys(), '|', type(d.keys()))\n",
        "\n",
        "# чтобы вывести ключи, нужно привести d.keys() к списку\n",
        "print(list(d.keys()))"
      ]
    },
    {
      "cell_type": "code",
      "execution_count": null,
      "metadata": {
        "id": "pvh7EPaQGw5E",
        "outputId": "84cd84b0-0818-4e99-97c0-04a04c53471f"
      },
      "outputs": [
        {
          "name": "stdout",
          "output_type": "stream",
          "text": [
            "dict_values([100, 200, 300]) | <class 'dict_values'>\n",
            "[100, 200, 300]\n"
          ]
        }
      ],
      "source": [
        "# получить список значений\n",
        "print(d.values(), '|', type(d.values()))\n",
        "\n",
        "# то же самое -- чтобы вывести значения, нужно привести d.values() к списку\n",
        "print(list(d.values()))"
      ]
    },
    {
      "cell_type": "code",
      "execution_count": null,
      "metadata": {
        "id": "sz6vs1_nGw5F",
        "outputId": "e9b8583a-d551-46b3-8fcb-a9a661a8ab37"
      },
      "outputs": [
        {
          "name": "stdout",
          "output_type": "stream",
          "text": [
            "dict_items([(1, 100), (2, 200), (3, 300)]) | <class 'dict_items'>\n",
            "[(1, 100), (2, 200), (3, 300)]\n"
          ]
        }
      ],
      "source": [
        "# получить список пар ключ-значение\n",
        "print(d.items(), '|', type(d.items()))\n",
        "\n",
        "# то же самое -- чтобы вывести пары ключ-значения, нужно привести d.items() к списку\n",
        "print(list(d.items()))"
      ]
    },
    {
      "cell_type": "code",
      "execution_count": null,
      "metadata": {
        "id": "eLi473W8B131"
      },
      "outputs": [],
      "source": []
    },
    {
      "cell_type": "markdown",
      "metadata": {
        "id": "-kYdwvhLGw5F"
      },
      "source": [
        "### modules"
      ]
    },
    {
      "cell_type": "markdown",
      "metadata": {
        "id": "i8oVrMMOGw5G"
      },
      "source": [
        "**Модули** - это \"библиотеки\" Python. То есть это самостоятельные, объединённые технически и логически, именованные части Python кода\n",
        "\n",
        "Можно рассматривать их как код, функции, записанные в других файлах (модулях), и чтобы использовать их в своем коде, нужно подключить эти файлы (модули)"
      ]
    },
    {
      "cell_type": "markdown",
      "metadata": {
        "id": "8VsaBB8CGw5G"
      },
      "source": [
        "* О модулях необходимо знать только одно - как их импортировать:"
      ]
    },
    {
      "cell_type": "code",
      "execution_count": null,
      "metadata": {
        "id": "HyDhkTUYGw5H"
      },
      "outputs": [],
      "source": [
        "import collections"
      ]
    },
    {
      "cell_type": "markdown",
      "metadata": {
        "id": "KCOahn9JGw5H"
      },
      "source": [
        "* Импортировать только какой-то компонент из модуля:"
      ]
    },
    {
      "cell_type": "code",
      "execution_count": null,
      "metadata": {
        "id": "GFTwj3EEGw5H"
      },
      "outputs": [],
      "source": [
        "# импортируем структуру данных Counter из библиотеки collections\n",
        "from collections import Counter"
      ]
    },
    {
      "cell_type": "markdown",
      "metadata": {
        "id": "VXFVpvqwGw5I"
      },
      "source": [
        "* Импортировать с другим именем (чаще всего используется для локаничности кода):"
      ]
    },
    {
      "cell_type": "code",
      "execution_count": null,
      "metadata": {
        "id": "pDR1RfkAGw5I"
      },
      "outputs": [],
      "source": [
        "import collections as cool_lib"
      ]
    },
    {
      "cell_type": "code",
      "execution_count": null,
      "metadata": {
        "id": "NXIY7m_zGw5J"
      },
      "outputs": [],
      "source": [
        "count = cool_lib.Counter()"
      ]
    },
    {
      "cell_type": "markdown",
      "metadata": {
        "id": "YxuJA1qgGw5K"
      },
      "source": [
        "Жизненный пример:"
      ]
    },
    {
      "cell_type": "code",
      "execution_count": null,
      "metadata": {
        "id": "db7fca4LGw5K"
      },
      "outputs": [],
      "source": [
        "import numpy as np"
      ]
    },
    {
      "cell_type": "code",
      "execution_count": null,
      "metadata": {
        "id": "EpxasdTIEJLs"
      },
      "outputs": [],
      "source": [
        "import pandas as pd"
      ]
    },
    {
      "cell_type": "markdown",
      "metadata": {
        "id": "mJCtGUlhOUYL"
      },
      "source": [
        "# Домашнее задание"
      ]
    },
    {
      "cell_type": "markdown",
      "metadata": {
        "id": "mYZ1mfONOUYL"
      },
      "source": [
        "## Списки"
      ]
    },
    {
      "cell_type": "markdown",
      "metadata": {
        "id": "RuqVCfNeOUYL"
      },
      "source": [
        "* **Задание 1:** Создайте список, который бы содержал слова ```\"машинное\"```, ```\"обучение\"```, ```\"реально\"```, ```\"крутое\"```\n",
        "* **Задание 2:** Выведите на экран весь список целиком с использованием функции print\n",
        "* **Задание 3:** Выведите список с использованием цикла ```for```\n",
        "* **Задание 4:** Воспользуйтесь механизмом срезов, чтобы получить из исходного новый список, который содержит слова ```\"машинное\"```, ```\"обучение\"```, выведите его\n",
        "* **Задание 5:** Воспользуйтесь индексом, чтобы вывести слово ```\"крутое\"``` из списка как строку\n",
        "* **Задание 6:** С использованием присваивания срезу замените ```\"машинное\"```, ```\"обучение\"``` на ```\"прикладная\"```, ```\"ветеринария\"```\n",
        "* **Задание 7:** Используя метод ```append``` добавьте ```\"временами\"``` в конец списка\n",
        "* **Задание 8:** Создайте список, который содержит числа от $1$ до $5$ и список, который содержит символы 'a', 'b', и 'c'. Поэкспериментируйте с присваиванием списков, попробуйте различные размеры среза, который присваивается и среза, которому выполняется присваивание. Попробуйте присваивать срезы текущеко списка другим его же срезам. Что произойдёт, если эти диапазоны пересекутся?"
      ]
    },
    {
      "cell_type": "markdown",
      "metadata": {
        "id": "8LBPgSZMOUYL"
      },
      "source": [
        "## Списковые включения"
      ]
    },
    {
      "cell_type": "markdown",
      "metadata": {
        "id": "19qJMyuQOUYL"
      },
      "source": [
        "**Задание 1:** Создайте список из чисел от $1$ до $100$, которые удовлетворяют условию $n^2 \\text{ mod } 7 = 3$. Используйте:\n",
        "* Цикл и вложенный if\n",
        "* Списковые включения (в полной форме с использованием for и if)\n",
        "\n",
        "**Задание 2:** *Выведите* список из 100 чисел *через запятую*. **Чистыми циклами пользоваться нельзя.** (list comprehensions можно)"
      ]
    },
    {
      "cell_type": "code",
      "source": [
        "# Задание 1\n",
        "\n",
        "# Создание пустого списка для хранения результатов\n",
        "result = []\n",
        "\n",
        "# Цикл от 1 до 100\n",
        "for n in range(1, 101):\n",
        "    # Проверяем условие\n",
        "    if (n**2 % 7) == 3:\n",
        "        # Добавляем число в список, если условие выполнено\n",
        "        result.append(n)\n",
        "\n",
        "print(\"Результат с использованием цикла и вложенного if:\")\n",
        "print(result)\n"
      ],
      "metadata": {
        "colab": {
          "base_uri": "https://localhost:8080/"
        },
        "id": "SDtPzYbmyGL-",
        "outputId": "02da6dba-1225-42b6-cdbe-2d67f804bdf4"
      },
      "execution_count": 16,
      "outputs": [
        {
          "output_type": "stream",
          "name": "stdout",
          "text": [
            "Результат с использованием цикла и вложенного if:\n",
            "[]\n"
          ]
        }
      ]
    },
    {
      "cell_type": "code",
      "source": [
        "# Задание 2\n",
        "\n",
        "# Создаем список из 100 чисел от 1 до 100\n",
        "numbers = []\n",
        "for n in range(1, 101):\n",
        "    numbers.append(n)\n",
        "\n",
        "# Преобразуем числа в строку и создаем результат\n",
        "result = \"\"\n",
        "for i in range(len(numbers)):\n",
        "    if i == len(numbers) - 1:\n",
        "        result += str(numbers[i])\n",
        "    else:\n",
        "        result += str(numbers[i]) + \", \"\n",
        "\n",
        "# Выводим результат\n",
        "print(result)\n"
      ],
      "metadata": {
        "colab": {
          "base_uri": "https://localhost:8080/"
        },
        "id": "XtlQ1ye1zIwF",
        "outputId": "c5e3aa0d-bee7-4afd-c0be-bcc9f16afadb"
      },
      "execution_count": 18,
      "outputs": [
        {
          "output_type": "stream",
          "name": "stdout",
          "text": [
            "1, 2, 3, 4, 5, 6, 7, 8, 9, 10, 11, 12, 13, 14, 15, 16, 17, 18, 19, 20, 21, 22, 23, 24, 25, 26, 27, 28, 29, 30, 31, 32, 33, 34, 35, 36, 37, 38, 39, 40, 41, 42, 43, 44, 45, 46, 47, 48, 49, 50, 51, 52, 53, 54, 55, 56, 57, 58, 59, 60, 61, 62, 63, 64, 65, 66, 67, 68, 69, 70, 71, 72, 73, 74, 75, 76, 77, 78, 79, 80, 81, 82, 83, 84, 85, 86, 87, 88, 89, 90, 91, 92, 93, 94, 95, 96, 97, 98, 99, 100\n"
          ]
        }
      ]
    },
    {
      "cell_type": "markdown",
      "metadata": {
        "id": "NnsUKbMPOUYM"
      },
      "source": [
        "## Кортежи\n",
        "\n",
        "1. Создайте список `a`, состоящий из каких-то элементов.\n",
        "2. Создайте список `b` такого же размера, как `a`, состоящий из каких-то элементов.\n",
        "3. Выведите нумерованный список пар из элементов списков `a` и `b`."
      ]
    },
    {
      "cell_type": "code",
      "source": [
        "# Кортежи\n",
        "\n",
        "a = ['элемент 1', 'элемент 2', 'элемент 3']\n",
        "b = ['пара 1', 'пара 2', 'пара 3']\n",
        "\n",
        "if len(a) != len(b):\n",
        "  print('Списки должны быть одной длины')\n",
        "else:\n",
        "    # Выводим нумерованный список пар\n",
        "    for index in range(len(a)):\n",
        "        # Формируем строку для вывода без использования f-строк\n",
        "        number = str(index + 1)\n",
        "        item_a = a[index]\n",
        "        item_b = b[index]\n",
        "        result = number + \". (\" + item_a + \", \" + item_b + \")\"\n",
        "        print(result)"
      ],
      "metadata": {
        "colab": {
          "base_uri": "https://localhost:8080/"
        },
        "id": "KOh89AJpz4ee",
        "outputId": "d28f93e1-99a6-46da-cb70-d8724061bae1"
      },
      "execution_count": 33,
      "outputs": [
        {
          "output_type": "stream",
          "name": "stdout",
          "text": [
            "1. (элемент 1, пара 1)\n",
            "2. (элемент 2, пара 2)\n",
            "3. (элемент 3, пара 3)\n"
          ]
        }
      ]
    },
    {
      "cell_type": "markdown",
      "metadata": {
        "id": "7dcZ8k19OUYM"
      },
      "source": [
        "## Обработка текста\n",
        "**Задание 1:** Дан список текстов, слова в которых разделены пробелами (можно не учитывать знаки препинания). Часть слов является \"испорченными\": в них присутствуют цифры и спецсимволы. Отфильтруйте такие слова из каждого текста. Используйте функции ``str.split``, ``str.isalpha``, ``str.join``, а также [генератор filter](http://pythonicway.com/python-functinal-programming).\n",
        "\n",
        "Не используйте циклы! Вместо этого фильтрацию выполните с испольованием списковых включений (list comprehesions).\n",
        "\n",
        "**Задание 2:** Дан массив строк: `['agfkd.,f', 'Qksdf;sb&..', 'asdoo*', 'bgf...d', 're54()kj[]].'] `\n",
        "1. Создайте список, состоящий из количества точек в каждой строке. Выведите его\n",
        "2. Создайте новый список, в котором будут **только строки, в которых более 2-х точек**. Выведите его  \n",
        "\n",
        "Циклами пользоваться нельзя."
      ]
    },
    {
      "cell_type": "code",
      "source": [
        "def filter_texts(texts):\n",
        "    # Функция для фильтрации слов, оставляя только те, которые состоят из букв\n",
        "    def filter_words(text):\n",
        "        words = text.split()  # Разделяем текст на слова\n",
        "        filtered_words = [word for word in words if word.isalpha()]  # Фильтруем слова\n",
        "        return ' '.join(filtered_words)  # Объединяем слова обратно в строку\n",
        "\n",
        "    # Применяем фильтрацию ко всем текстам\n",
        "    return [filter_words(text) for text in texts]\n",
        "\n",
        "# Пример использования\n",
        "texts = [\n",
        "    \"Hello world! This is a test123.\",\n",
        "    \"Another text with special@characters and123 numbers!\",\n",
        "    \"Clean text without any issues.\"\n",
        "]\n",
        "\n",
        "filtered_texts = filter_texts(texts)\n",
        "for text in filtered_texts:\n",
        "    print(text)\n"
      ],
      "metadata": {
        "colab": {
          "base_uri": "https://localhost:8080/"
        },
        "id": "VUbDst-r1kG0",
        "outputId": "8daf40e1-20ec-4f5a-8204-64581384126e"
      },
      "execution_count": 34,
      "outputs": [
        {
          "output_type": "stream",
          "name": "stdout",
          "text": [
            "Hello This is a\n",
            "Another text with\n",
            "Clean text without any\n"
          ]
        }
      ]
    },
    {
      "cell_type": "code",
      "source": [
        "# Данный массив строк\n",
        "strings = ['agfkd.,f', 'Qksdf;sb&..', 'asdoo*', 'bgf...d', 're54()kj[]].']\n",
        "\n",
        "# Задача 1: Создать список, состоящий из количества точек в каждой строке\n",
        "dots_count = [s.count('.') for s in strings]\n",
        "print(\"Количество точек в каждой строке:\", dots_count)\n",
        "\n",
        "# Задача 2: Создать новый список, в котором будут только строки с более чем 2 точками\n",
        "strings_with_more_than_two_dots = [s for s in strings if s.count('.') > 2]\n",
        "print(\"Строки с более чем 2 точками:\", strings_with_more_than_two_dots)\n"
      ],
      "metadata": {
        "colab": {
          "base_uri": "https://localhost:8080/"
        },
        "id": "qzFySjtt2OZy",
        "outputId": "4e5dedbc-36ae-4049-eff4-ebbbf2e72517"
      },
      "execution_count": 35,
      "outputs": [
        {
          "output_type": "stream",
          "name": "stdout",
          "text": [
            "Количество точек в каждой строке: [1, 2, 0, 3, 1]\n",
            "Строки с более чем 2 точками: ['bgf...d']\n"
          ]
        }
      ]
    },
    {
      "cell_type": "markdown",
      "source": [
        "Задание 1,2\n"
      ],
      "metadata": {
        "id": "CwXYe-EbT-wC"
      }
    },
    {
      "cell_type": "code",
      "source": [
        "list = [\"машинное\", \"обучение\", \"реально\", \"крутое\"]\n",
        "print (list)"
      ],
      "metadata": {
        "colab": {
          "base_uri": "https://localhost:8080/"
        },
        "id": "puCBYZ8lUHlb",
        "outputId": "2d8c2908-3874-4648-ff4a-88d29eb808b3"
      },
      "execution_count": null,
      "outputs": [
        {
          "output_type": "stream",
          "name": "stdout",
          "text": [
            "['машинное', 'обучение', 'реально', 'крутое']\n"
          ]
        }
      ]
    },
    {
      "cell_type": "markdown",
      "source": [
        "Задание 3"
      ],
      "metadata": {
        "id": "yWBI_hj5Vg0M"
      }
    },
    {
      "cell_type": "code",
      "source": [
        "list = [\"машинное\", \"обучение\", \"реально\", \"крутое\"]\n",
        "\n",
        "for words in list:\n",
        "    print(words)\n"
      ],
      "metadata": {
        "colab": {
          "base_uri": "https://localhost:8080/"
        },
        "id": "I-SvfZJeVJqP",
        "outputId": "973a42ef-9e8d-4463-f213-0796c5f75d13"
      },
      "execution_count": null,
      "outputs": [
        {
          "output_type": "stream",
          "name": "stdout",
          "text": [
            "машинное\n",
            "обучение\n",
            "реально\n",
            "крутое\n"
          ]
        }
      ]
    },
    {
      "cell_type": "markdown",
      "source": [
        "Задание 4"
      ],
      "metadata": {
        "id": "UfLuwEJXWFaw"
      }
    },
    {
      "cell_type": "code",
      "source": [
        "list = [\"машинное\", \"обучение\", \"реально\", \"крутое\"]\n",
        "new_list = list[:2]\n",
        "print(new_list)"
      ],
      "metadata": {
        "colab": {
          "base_uri": "https://localhost:8080/"
        },
        "id": "nrZKmHnuWHrF",
        "outputId": "6c5ae028-21ce-4809-e4a7-4f9caa5fdee4"
      },
      "execution_count": null,
      "outputs": [
        {
          "output_type": "stream",
          "name": "stdout",
          "text": [
            "['машинное', 'обучение']\n"
          ]
        }
      ]
    },
    {
      "cell_type": "markdown",
      "source": [
        "Задание 5"
      ],
      "metadata": {
        "id": "PntotXCpWbaq"
      }
    },
    {
      "cell_type": "code",
      "source": [
        "list = [\"машинное\", \"обучение\", \"реально\", \"крутое\"]\n",
        "print(list[3])\n"
      ],
      "metadata": {
        "colab": {
          "base_uri": "https://localhost:8080/"
        },
        "id": "OF1PYa59WdU_",
        "outputId": "4319560e-0671-4f4a-906c-9315119f75fe"
      },
      "execution_count": null,
      "outputs": [
        {
          "output_type": "stream",
          "name": "stdout",
          "text": [
            "крутое\n"
          ]
        }
      ]
    },
    {
      "cell_type": "markdown",
      "source": [
        "Задание 6"
      ],
      "metadata": {
        "id": "V8yunKoAW-57"
      }
    },
    {
      "cell_type": "code",
      "source": [
        "list = [\"машинное\", \"обучение\", \"реально\", \"крутое\"]\n",
        "list[:2] = [\"прикладная\", \"ветеринария\"]\n",
        "print(list)"
      ],
      "metadata": {
        "colab": {
          "base_uri": "https://localhost:8080/"
        },
        "id": "ZT6nDT0pXA8g",
        "outputId": "2dda395e-428c-4ff2-8ba0-f720900f59e6"
      },
      "execution_count": null,
      "outputs": [
        {
          "output_type": "stream",
          "name": "stdout",
          "text": [
            "['прикладная', 'ветеринария', 'реально', 'крутое']\n"
          ]
        }
      ]
    },
    {
      "cell_type": "markdown",
      "source": [
        "Задание 7"
      ],
      "metadata": {
        "id": "ri8HQuKwXjos"
      }
    },
    {
      "cell_type": "code",
      "source": [
        "list = [\"машинное\", \"обучение\", \"реально\", \"крутое\"]\n",
        "list.append (\"временами\")\n",
        "print(list)"
      ],
      "metadata": {
        "colab": {
          "base_uri": "https://localhost:8080/"
        },
        "id": "rwc47bvpXlWL",
        "outputId": "2d58e966-5c3b-42ea-9a0c-706850e070d1"
      },
      "execution_count": null,
      "outputs": [
        {
          "output_type": "stream",
          "name": "stdout",
          "text": [
            "['машинное', 'обучение', 'реально', 'крутое', 'временами']\n"
          ]
        }
      ]
    },
    {
      "cell_type": "markdown",
      "source": [
        "Задание 8: Создайте список, который содержит числа от  1  до  5  и список, который содержит символы 'a', 'b', и 'c'. Поэкспериментируйте с присваиванием списков, попробуйте различные размеры среза, который присваивается и среза, которому выполняется присваивание. Попробуйте присваивать срезы текущеко списка другим его же срезам. Что произойдёт, если эти диапазоны пересекутся?"
      ],
      "metadata": {
        "id": "cxS8zksGYt-z"
      }
    },
    {
      "cell_type": "code",
      "source": [
        "nums = [1,2,3,4,5]\n",
        "letters = ['a','b','c']\n",
        "\n",
        "print(\"Изначальные списки:\")\n",
        "print(\"nums:\", nums)\n",
        "print(\"letters:\", letters)\n",
        "\n",
        "# Присваиваем срезы\n",
        "nums[1:3] = [10, 20, 30]\n",
        "print(\"\\nПосле присваивания среза nums[1:3] = [10, 20, 30]:\")\n",
        "print(\"nums:\", nums)\n",
        "\n",
        "letters[0:2] = ['x', 'y']\n",
        "print(\"\\nПосле присваивания среза letters[0:2] = ['x', 'y']:\")\n",
        "print(\"letters:\", letters)\n",
        "\n",
        "# Присваивание срезов другим срезам\n",
        "nums[2:4] = nums[1:3]\n",
        "print(\"\\nПосле присваивания среза numbers[2:4] = numbers[1:3]:\")\n",
        "print(\"nums:\", nums)\n",
        "\n",
        "# Присваивание срезов с пересекающимися диапазонами\n",
        "nums[1:4] = [100, 200]\n",
        "print(\"\\nПосле присваивания среза numbers[1:4] = [100, 200]:\")\n",
        "print(\"nums:\", nums)\n",
        "\n",
        "# Присваивание срезов себе\n",
        "nums[1:3] = nums[2:]\n",
        "print(\"\\nПосле присваивания среза numbers[1:3] = numbers[2:]:\")\n",
        "print(\"nums:\", nums)"
      ],
      "metadata": {
        "colab": {
          "base_uri": "https://localhost:8080/"
        },
        "id": "p1awnCQLYvO9",
        "outputId": "56f50fb3-6f42-47ba-aade-399108ff1dc4"
      },
      "execution_count": 6,
      "outputs": [
        {
          "output_type": "stream",
          "name": "stdout",
          "text": [
            "Изначальные списки:\n",
            "nums: [1, 2, 3, 4, 5]\n",
            "letters: ['a', 'b', 'c']\n",
            "\n",
            "После присваивания среза nums[1:3] = [10, 20, 30]:\n",
            "nums: [1, 10, 20, 30, 4, 5]\n",
            "\n",
            "После присваивания среза letters[0:2] = ['x', 'y']:\n",
            "letters: ['x', 'y', 'c']\n",
            "\n",
            "После присваивания среза numbers[2:4] = numbers[1:3]:\n",
            "nums: [1, 10, 10, 20, 4, 5]\n",
            "\n",
            "После присваивания среза numbers[1:4] = [100, 200]:\n",
            "nums: [1, 100, 200, 4, 5]\n",
            "\n",
            "После присваивания среза numbers[1:3] = numbers[2:]:\n",
            "nums: [1, 200, 4, 5, 4, 5]\n"
          ]
        }
      ]
    }
  ],
  "metadata": {
    "colab": {
      "collapsed_sections": [
        "qoHHrmtJGwzG",
        "YfhDEhg_GwzM",
        "-tXSqvRRGwzN",
        "Hf0cK9ejGwzd",
        "YFD8l2XuGwzq",
        "Ra7b2HeOzM7C",
        "sGGkrmM0Gwz1",
        "r_y-TEM3Gw0A",
        "knjcsCbVGw0Z",
        "P7kqThRsGw1S",
        "e6LOqPpYGw1T",
        "KgSZ7GuFzM8N",
        "TE6KBa0HzM8P",
        "2mnxxvHxGw0c",
        "04VwiGfkGw3t",
        "25O4dyOezM8l",
        "70QerwaDGw3y",
        "ZPIwoJneGw37",
        "8f3c96Y3Gw4f",
        "i0xyAzGiGw4s",
        "79dYvUBLGw5A",
        "Ka2gG8QizM9L",
        "-kYdwvhLGw5F"
      ],
      "provenance": [],
      "toc_visible": true
    },
    "kernelspec": {
      "display_name": "Python 3",
      "language": "python",
      "name": "python3"
    },
    "language_info": {
      "codemirror_mode": {
        "name": "ipython",
        "version": 3
      },
      "file_extension": ".py",
      "mimetype": "text/x-python",
      "name": "python",
      "nbconvert_exporter": "python",
      "pygments_lexer": "ipython3",
      "version": "3.9.16"
    }
  },
  "nbformat": 4,
  "nbformat_minor": 0
}