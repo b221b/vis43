{
  "cells": [
    {
      "cell_type": "markdown",
      "id": "166905b5",
      "metadata": {
        "id": "166905b5"
      },
      "source": [
        "<h2 style=\"text-align: center;\"><b>Нейронная сеть из одного нейрона</b></h3>"
      ]
    },
    {
      "cell_type": "markdown",
      "id": "01cfa8cc",
      "metadata": {
        "id": "01cfa8cc"
      },
      "source": [
        "---"
      ]
    },
    {
      "cell_type": "markdown",
      "id": "2204f127",
      "metadata": {
        "id": "2204f127"
      },
      "source": [
        "<h3 style=\"text-align: center;\"><b>Компоненты нейросети</b></h3>"
      ]
    },
    {
      "cell_type": "markdown",
      "id": "d97ff733",
      "metadata": {
        "id": "d97ff733"
      },
      "source": [
        "Принципиальную роль в построении любой ***нейронной сети*** играют следующие вещи:\n",
        "\n",
        "- непосредственно, сама **архитектура** нейросети (сюда входят типы функций активации у каждого нейрона);\n",
        "- начальная **инициализация** весов каждого слоя;\n",
        "- метод **оптимизации** нейросети (сюда ещё входит метод изменения `learning_rate`);\n",
        "- размер **батчей** (`batch_size`);\n",
        "- количество итераций обучения (`num_epochs`);\n",
        "- **функция потерь** (`loss`);  \n",
        "- тип **регуляризации** нейросети (для каждого слоя можно свой);  \n",
        "\n",
        "Всё вышеперечисленное мы задаём *руками*, самостоятельно.\n",
        "\n",
        "То, что связано с ***данными и задачей*** также имеет существенное влияние:  \n",
        "- само **качество** выборки (непротиворечивость, чистота, корректность постановки задачи);  \n",
        "- **размер** выборки;  "
      ]
    },
    {
      "cell_type": "markdown",
      "id": "028843ec",
      "metadata": {
        "id": "028843ec"
      },
      "source": [
        "<h3 style=\"text-align: center;\"><b>Один нейрон на Keras</b></h3>"
      ]
    },
    {
      "cell_type": "markdown",
      "id": "a5d70756",
      "metadata": {
        "id": "a5d70756"
      },
      "source": [
        "В качестве примера возьмём простой набор данных для классификации -- датасет \"яблоки и груши\":"
      ]
    },
    {
      "cell_type": "code",
      "execution_count": 11,
      "id": "27c96295",
      "metadata": {
        "id": "27c96295"
      },
      "outputs": [],
      "source": [
        "import numpy as np\n",
        "import pandas as pd\n",
        "import matplotlib.pyplot as plt"
      ]
    },
    {
      "cell_type": "code",
      "execution_count": 12,
      "id": "c051f4fb",
      "metadata": {
        "id": "c051f4fb",
        "colab": {
          "base_uri": "https://localhost:8080/",
          "height": 304
        },
        "outputId": "652f2664-5184-4351-c4d9-57a0ae3e08f5"
      },
      "outputs": [
        {
          "output_type": "error",
          "ename": "FileNotFoundError",
          "evalue": "[Errno 2] No such file or directory: 'apples_pears.csv'",
          "traceback": [
            "\u001b[0;31m---------------------------------------------------------------------------\u001b[0m",
            "\u001b[0;31mFileNotFoundError\u001b[0m                         Traceback (most recent call last)",
            "\u001b[0;32m<ipython-input-12-1310aa4f2c2b>\u001b[0m in \u001b[0;36m<cell line: 1>\u001b[0;34m()\u001b[0m\n\u001b[0;32m----> 1\u001b[0;31m \u001b[0mdata\u001b[0m \u001b[0;34m=\u001b[0m \u001b[0mpd\u001b[0m\u001b[0;34m.\u001b[0m\u001b[0mread_csv\u001b[0m\u001b[0;34m(\u001b[0m\u001b[0;34m\"apples_pears.csv\"\u001b[0m\u001b[0;34m)\u001b[0m\u001b[0;34m\u001b[0m\u001b[0;34m\u001b[0m\u001b[0m\n\u001b[0m",
            "\u001b[0;32m/usr/local/lib/python3.10/dist-packages/pandas/io/parsers/readers.py\u001b[0m in \u001b[0;36mread_csv\u001b[0;34m(filepath_or_buffer, sep, delimiter, header, names, index_col, usecols, dtype, engine, converters, true_values, false_values, skipinitialspace, skiprows, skipfooter, nrows, na_values, keep_default_na, na_filter, verbose, skip_blank_lines, parse_dates, infer_datetime_format, keep_date_col, date_parser, date_format, dayfirst, cache_dates, iterator, chunksize, compression, thousands, decimal, lineterminator, quotechar, quoting, doublequote, escapechar, comment, encoding, encoding_errors, dialect, on_bad_lines, delim_whitespace, low_memory, memory_map, float_precision, storage_options, dtype_backend)\u001b[0m\n\u001b[1;32m   1024\u001b[0m     \u001b[0mkwds\u001b[0m\u001b[0;34m.\u001b[0m\u001b[0mupdate\u001b[0m\u001b[0;34m(\u001b[0m\u001b[0mkwds_defaults\u001b[0m\u001b[0;34m)\u001b[0m\u001b[0;34m\u001b[0m\u001b[0;34m\u001b[0m\u001b[0m\n\u001b[1;32m   1025\u001b[0m \u001b[0;34m\u001b[0m\u001b[0m\n\u001b[0;32m-> 1026\u001b[0;31m     \u001b[0;32mreturn\u001b[0m \u001b[0m_read\u001b[0m\u001b[0;34m(\u001b[0m\u001b[0mfilepath_or_buffer\u001b[0m\u001b[0;34m,\u001b[0m \u001b[0mkwds\u001b[0m\u001b[0;34m)\u001b[0m\u001b[0;34m\u001b[0m\u001b[0;34m\u001b[0m\u001b[0m\n\u001b[0m\u001b[1;32m   1027\u001b[0m \u001b[0;34m\u001b[0m\u001b[0m\n\u001b[1;32m   1028\u001b[0m \u001b[0;34m\u001b[0m\u001b[0m\n",
            "\u001b[0;32m/usr/local/lib/python3.10/dist-packages/pandas/io/parsers/readers.py\u001b[0m in \u001b[0;36m_read\u001b[0;34m(filepath_or_buffer, kwds)\u001b[0m\n\u001b[1;32m    618\u001b[0m \u001b[0;34m\u001b[0m\u001b[0m\n\u001b[1;32m    619\u001b[0m     \u001b[0;31m# Create the parser.\u001b[0m\u001b[0;34m\u001b[0m\u001b[0;34m\u001b[0m\u001b[0m\n\u001b[0;32m--> 620\u001b[0;31m     \u001b[0mparser\u001b[0m \u001b[0;34m=\u001b[0m \u001b[0mTextFileReader\u001b[0m\u001b[0;34m(\u001b[0m\u001b[0mfilepath_or_buffer\u001b[0m\u001b[0;34m,\u001b[0m \u001b[0;34m**\u001b[0m\u001b[0mkwds\u001b[0m\u001b[0;34m)\u001b[0m\u001b[0;34m\u001b[0m\u001b[0;34m\u001b[0m\u001b[0m\n\u001b[0m\u001b[1;32m    621\u001b[0m \u001b[0;34m\u001b[0m\u001b[0m\n\u001b[1;32m    622\u001b[0m     \u001b[0;32mif\u001b[0m \u001b[0mchunksize\u001b[0m \u001b[0;32mor\u001b[0m \u001b[0miterator\u001b[0m\u001b[0;34m:\u001b[0m\u001b[0;34m\u001b[0m\u001b[0;34m\u001b[0m\u001b[0m\n",
            "\u001b[0;32m/usr/local/lib/python3.10/dist-packages/pandas/io/parsers/readers.py\u001b[0m in \u001b[0;36m__init__\u001b[0;34m(self, f, engine, **kwds)\u001b[0m\n\u001b[1;32m   1618\u001b[0m \u001b[0;34m\u001b[0m\u001b[0m\n\u001b[1;32m   1619\u001b[0m         \u001b[0mself\u001b[0m\u001b[0;34m.\u001b[0m\u001b[0mhandles\u001b[0m\u001b[0;34m:\u001b[0m \u001b[0mIOHandles\u001b[0m \u001b[0;34m|\u001b[0m \u001b[0;32mNone\u001b[0m \u001b[0;34m=\u001b[0m \u001b[0;32mNone\u001b[0m\u001b[0;34m\u001b[0m\u001b[0;34m\u001b[0m\u001b[0m\n\u001b[0;32m-> 1620\u001b[0;31m         \u001b[0mself\u001b[0m\u001b[0;34m.\u001b[0m\u001b[0m_engine\u001b[0m \u001b[0;34m=\u001b[0m \u001b[0mself\u001b[0m\u001b[0;34m.\u001b[0m\u001b[0m_make_engine\u001b[0m\u001b[0;34m(\u001b[0m\u001b[0mf\u001b[0m\u001b[0;34m,\u001b[0m \u001b[0mself\u001b[0m\u001b[0;34m.\u001b[0m\u001b[0mengine\u001b[0m\u001b[0;34m)\u001b[0m\u001b[0;34m\u001b[0m\u001b[0;34m\u001b[0m\u001b[0m\n\u001b[0m\u001b[1;32m   1621\u001b[0m \u001b[0;34m\u001b[0m\u001b[0m\n\u001b[1;32m   1622\u001b[0m     \u001b[0;32mdef\u001b[0m \u001b[0mclose\u001b[0m\u001b[0;34m(\u001b[0m\u001b[0mself\u001b[0m\u001b[0;34m)\u001b[0m \u001b[0;34m->\u001b[0m \u001b[0;32mNone\u001b[0m\u001b[0;34m:\u001b[0m\u001b[0;34m\u001b[0m\u001b[0;34m\u001b[0m\u001b[0m\n",
            "\u001b[0;32m/usr/local/lib/python3.10/dist-packages/pandas/io/parsers/readers.py\u001b[0m in \u001b[0;36m_make_engine\u001b[0;34m(self, f, engine)\u001b[0m\n\u001b[1;32m   1878\u001b[0m                 \u001b[0;32mif\u001b[0m \u001b[0;34m\"b\"\u001b[0m \u001b[0;32mnot\u001b[0m \u001b[0;32min\u001b[0m \u001b[0mmode\u001b[0m\u001b[0;34m:\u001b[0m\u001b[0;34m\u001b[0m\u001b[0;34m\u001b[0m\u001b[0m\n\u001b[1;32m   1879\u001b[0m                     \u001b[0mmode\u001b[0m \u001b[0;34m+=\u001b[0m \u001b[0;34m\"b\"\u001b[0m\u001b[0;34m\u001b[0m\u001b[0;34m\u001b[0m\u001b[0m\n\u001b[0;32m-> 1880\u001b[0;31m             self.handles = get_handle(\n\u001b[0m\u001b[1;32m   1881\u001b[0m                 \u001b[0mf\u001b[0m\u001b[0;34m,\u001b[0m\u001b[0;34m\u001b[0m\u001b[0;34m\u001b[0m\u001b[0m\n\u001b[1;32m   1882\u001b[0m                 \u001b[0mmode\u001b[0m\u001b[0;34m,\u001b[0m\u001b[0;34m\u001b[0m\u001b[0;34m\u001b[0m\u001b[0m\n",
            "\u001b[0;32m/usr/local/lib/python3.10/dist-packages/pandas/io/common.py\u001b[0m in \u001b[0;36mget_handle\u001b[0;34m(path_or_buf, mode, encoding, compression, memory_map, is_text, errors, storage_options)\u001b[0m\n\u001b[1;32m    871\u001b[0m         \u001b[0;32mif\u001b[0m \u001b[0mioargs\u001b[0m\u001b[0;34m.\u001b[0m\u001b[0mencoding\u001b[0m \u001b[0;32mand\u001b[0m \u001b[0;34m\"b\"\u001b[0m \u001b[0;32mnot\u001b[0m \u001b[0;32min\u001b[0m \u001b[0mioargs\u001b[0m\u001b[0;34m.\u001b[0m\u001b[0mmode\u001b[0m\u001b[0;34m:\u001b[0m\u001b[0;34m\u001b[0m\u001b[0;34m\u001b[0m\u001b[0m\n\u001b[1;32m    872\u001b[0m             \u001b[0;31m# Encoding\u001b[0m\u001b[0;34m\u001b[0m\u001b[0;34m\u001b[0m\u001b[0m\n\u001b[0;32m--> 873\u001b[0;31m             handle = open(\n\u001b[0m\u001b[1;32m    874\u001b[0m                 \u001b[0mhandle\u001b[0m\u001b[0;34m,\u001b[0m\u001b[0;34m\u001b[0m\u001b[0;34m\u001b[0m\u001b[0m\n\u001b[1;32m    875\u001b[0m                 \u001b[0mioargs\u001b[0m\u001b[0;34m.\u001b[0m\u001b[0mmode\u001b[0m\u001b[0;34m,\u001b[0m\u001b[0;34m\u001b[0m\u001b[0;34m\u001b[0m\u001b[0m\n",
            "\u001b[0;31mFileNotFoundError\u001b[0m: [Errno 2] No such file or directory: 'apples_pears.csv'"
          ]
        }
      ],
      "source": [
        "data = pd.read_csv(\"apples_pears.csv\")"
      ]
    },
    {
      "cell_type": "code",
      "execution_count": null,
      "id": "f9da8ee8",
      "metadata": {
        "id": "f9da8ee8"
      },
      "outputs": [],
      "source": [
        "plt.figure(figsize=(10, 8))\n",
        "plt.scatter(data.iloc[:, 0], data.iloc[:, 1], c=data['target'], cmap='rainbow')\n",
        "plt.title('Яблоки и груши', fontsize=15)\n",
        "plt.xlabel('симметричность', fontsize=14)\n",
        "plt.ylabel('желтизна', fontsize=14)\n",
        "plt.show();"
      ]
    },
    {
      "cell_type": "code",
      "execution_count": null,
      "id": "ea4e4fcf",
      "metadata": {
        "id": "ea4e4fcf"
      },
      "outputs": [],
      "source": [
        "X = data.iloc[:,:2].values  # матрица объекты-признаки\n",
        "y = data['target'].values.reshape((-1, 1))  # классы (столбец из нулей и единиц)"
      ]
    },
    {
      "cell_type": "code",
      "execution_count": null,
      "id": "8975fdb6",
      "metadata": {
        "id": "8975fdb6"
      },
      "outputs": [],
      "source": [
        "from tensorflow.keras.models import Sequential\n",
        "from tensorflow.keras.layers import Dense\n",
        "from tensorflow.keras.activations import sigmoid"
      ]
    },
    {
      "cell_type": "code",
      "execution_count": null,
      "id": "8f2fe1e5",
      "metadata": {
        "id": "8f2fe1e5"
      },
      "outputs": [],
      "source": [
        "X[:,:10]"
      ]
    },
    {
      "cell_type": "code",
      "execution_count": null,
      "id": "ba082bec",
      "metadata": {
        "id": "ba082bec"
      },
      "outputs": [],
      "source": [
        "num_features = X.shape[1]\n",
        "\n",
        "neuron = Sequential()\n",
        "neuron.add(Dense(1, input_shape=(num_features,), activation=sigmoid))"
      ]
    },
    {
      "cell_type": "code",
      "execution_count": null,
      "id": "6a95113d",
      "metadata": {
        "id": "6a95113d"
      },
      "outputs": [],
      "source": [
        "neuron"
      ]
    },
    {
      "cell_type": "markdown",
      "id": "1b53315f",
      "metadata": {
        "id": "1b53315f"
      },
      "source": [
        "Пока что мы просто создали объект класса `Sequential`, который состоит из одного линейного входного слоя размерности (num_features, 1) и 1 нейрона с сигмоидой в качестве активационной функции. Но уже сейчас его можно применить к объекту (тензору), просто веса в начале инициализирутся случайно и при forward_pass'е мы получим какой-то ответ пока что необученного нейрона:"
      ]
    },
    {
      "cell_type": "code",
      "execution_count": null,
      "id": "7c67f4df",
      "metadata": {
        "id": "7c67f4df"
      },
      "outputs": [],
      "source": [
        "neuron.predict([[1,1]])"
      ]
    },
    {
      "cell_type": "markdown",
      "id": "e0f3898d",
      "metadata": {
        "id": "e0f3898d"
      },
      "source": [
        "Выполним предсказания по всем данным с помощью ещё не обученного нейрона:"
      ]
    },
    {
      "cell_type": "code",
      "execution_count": null,
      "id": "3483ddb6",
      "metadata": {
        "id": "3483ddb6"
      },
      "outputs": [],
      "source": [
        "proba_pred = neuron.predict(X)\n",
        "y_pred = proba_pred > 0.5\n",
        "print(y_pred[:5])\n",
        "y_pred = y_pred.reshape(-1)\n",
        "\n",
        "plt.figure(figsize=(10, 8))\n",
        "plt.scatter(data.iloc[:, 0], data.iloc[:, 1], c=y_pred, cmap='spring')\n",
        "plt.title('Яблоки и груши', fontsize=15)\n",
        "plt.xlabel('симметричность', fontsize=14)\n",
        "plt.ylabel('желтизна', fontsize=14)\n",
        "plt.show();"
      ]
    },
    {
      "cell_type": "markdown",
      "id": "026cfaeb",
      "metadata": {
        "id": "026cfaeb"
      },
      "source": [
        "Как и ожидалось, ошибка существенная, по сути, модель не умеет различать классы. Давайте научим нейрон отличать груши от яблок по их симметричности и желтизне!"
      ]
    },
    {
      "cell_type": "markdown",
      "id": "f90ff061",
      "metadata": {
        "id": "f90ff061"
      },
      "source": [
        "## Код обучения одного нейрона на Keras:"
      ]
    },
    {
      "cell_type": "markdown",
      "id": "57622621",
      "metadata": {
        "id": "57622621"
      },
      "source": [
        "Обучим нейрон с использованием метода SGD (стохастический градиентный спуск).\n",
        "Нам понадобится пакет Keras.optimizers, который содержит различные алгоритмы оптимизации.\n",
        "\n",
        "Зададим параметры:\n",
        "- затухание весов 1e-6\n",
        "- момент 0.9\n",
        "- включим поддержку ускоренного градиента Нестерова (http://proceedings.mlr.press/v28/sutskever13.pdf)\n",
        "- шаг обучения установим равным 0.1\n",
        "\n",
        "Не забываем накапливать историю обучения - понадобится для построения графиков"
      ]
    },
    {
      "cell_type": "code",
      "execution_count": null,
      "id": "eac7ece0",
      "metadata": {
        "id": "eac7ece0"
      },
      "outputs": [],
      "source": [
        "import tensorflow as tf\n",
        "from tensorflow.keras import optimizers\n",
        "sgd = optimizers.SGD(decay=1e-6, momentum=0.9, nesterov=True, learning_rate=0.01)\n",
        "neuron.compile(loss='mean_squared_error', optimizer=sgd, metrics=['accuracy'])\n",
        "history=neuron.fit(X, y, epochs=100, batch_size=25, verbose=1, validation_split=0.2)"
      ]
    },
    {
      "cell_type": "code",
      "execution_count": null,
      "id": "d0c70c67",
      "metadata": {
        "id": "d0c70c67"
      },
      "outputs": [],
      "source": [
        "plt.plot(history.history['accuracy'])\n",
        "plt.plot(history.history['val_accuracy'])\n",
        "plt.title('Model accuracy')\n",
        "plt.ylabel('Accuracy')\n",
        "plt.xlabel('Epoch')\n",
        "#plt.legend(['train','test'])\n",
        "plt.show()\n",
        "\n",
        "\n"
      ]
    },
    {
      "cell_type": "code",
      "execution_count": null,
      "id": "3c810585",
      "metadata": {
        "id": "3c810585"
      },
      "outputs": [],
      "source": [
        "plt.plot(history.history['loss'])\n",
        "plt.plot(history.history['val_loss'])\n",
        "plt.title('Model loss')\n",
        "plt.ylabel('Loss')\n",
        "plt.xlabel('Epoch')\n",
        "#plt.legend(['Train', 'Test'], loc='upper left')\n",
        "plt.show()"
      ]
    },
    {
      "cell_type": "markdown",
      "id": "dc29e1d6",
      "metadata": {
        "id": "dc29e1d6"
      },
      "source": [
        "Обучили. Снова выполним предсказания, но уже с помощью обученной модели."
      ]
    },
    {
      "cell_type": "code",
      "execution_count": null,
      "id": "2349e0b9",
      "metadata": {
        "id": "2349e0b9",
        "scrolled": true
      },
      "outputs": [],
      "source": [
        "proba_pred = neuron.predict(X)\n",
        "y_pred = proba_pred > 0.5\n",
        "y_pred = y_pred.reshape(-1)\n",
        "\n",
        "plt.figure(figsize=(10, 8))\n",
        "plt.scatter(data.iloc[:, 0], data.iloc[:, 1], c=y_pred, cmap='spring')\n",
        "plt.title('Яблоки и груши', fontsize=15)\n",
        "plt.xlabel('симметричность', fontsize=14)\n",
        "plt.ylabel('желтизна', fontsize=14)\n",
        "plt.show();"
      ]
    },
    {
      "cell_type": "markdown",
      "id": "b82e535f",
      "metadata": {
        "id": "b82e535f"
      },
      "source": [
        "<h2 style=\"text-align: center;\"><b>Многослойная сеть на Keras</b></h3>"
      ]
    },
    {
      "cell_type": "markdown",
      "id": "ecdb98a5",
      "metadata": {
        "id": "ecdb98a5"
      },
      "source": [
        "---"
      ]
    },
    {
      "cell_type": "markdown",
      "id": "de64b4a2",
      "metadata": {
        "id": "de64b4a2"
      },
      "source": [
        "## Многослойная нейронная сеть"
      ]
    },
    {
      "cell_type": "markdown",
      "id": "7042d8c3",
      "metadata": {
        "id": "7042d8c3"
      },
      "source": [
        "Как можно понять из названия, многослойная нейросеть состоит из нескольких **слоёв**. Ещё такую многослойную нейросеть, у которой каждый нейрон на предыдущем уровне соединён с нейроном на следующем уровне, называют ***Fully-Connected-сетью*** (или ***Dense-сетью***).  \n",
        "\n",
        "Расмотрим их устройство более подробно:"
      ]
    },
    {
      "cell_type": "markdown",
      "id": "3b630b36",
      "metadata": {
        "id": "3b630b36"
      },
      "source": [
        "* Вот так выглядит двухслойная нейросеть (первый слой - input layer - не считается, потому что это, по сути, не слой):"
      ]
    },
    {
      "cell_type": "markdown",
      "id": "b998a317",
      "metadata": {
        "id": "b998a317"
      },
      "source": [
        "<img src=\"http://cs231n.github.io/assets/nn1/neural_net.jpeg\" width=300, height=200>"
      ]
    },
    {
      "cell_type": "markdown",
      "id": "7e227e34",
      "metadata": {
        "id": "7e227e34"
      },
      "source": [
        "* Так выглядит трёхслойная нейросеть:"
      ]
    },
    {
      "cell_type": "markdown",
      "id": "9f605b76",
      "metadata": {
        "id": "9f605b76"
      },
      "source": [
        "<img src=\"http://cs231n.github.io/assets/nn1/neural_net2.jpeg\" width=400, height=300>"
      ]
    },
    {
      "cell_type": "markdown",
      "id": "99020184",
      "metadata": {
        "id": "99020184"
      },
      "source": [
        ".. и так далее для большего случая слоёв."
      ]
    },
    {
      "cell_type": "markdown",
      "id": "f7c6e9eb",
      "metadata": {
        "id": "f7c6e9eb"
      },
      "source": [
        "**Обратите внимание:** связи есть от каждого нейрона слоя $L_{i-1}$ к каждому нейрону слоя $L_{i}$, но между нейронами в одном слое связей **нет**."
      ]
    },
    {
      "cell_type": "markdown",
      "id": "19e50bf8",
      "metadata": {
        "id": "19e50bf8"
      },
      "source": [
        "**Входной слой** -- это данные (матрица $(n, m)$)."
      ]
    },
    {
      "cell_type": "markdown",
      "id": "2617a286",
      "metadata": {
        "id": "2617a286"
      },
      "source": [
        "Слои, которые не являются входными или выходными, называются **скрытыми слоями (hidden layers)**."
      ]
    },
    {
      "cell_type": "markdown",
      "id": "a0e4e69c",
      "metadata": {
        "id": "a0e4e69c"
      },
      "source": [
        "При решении ***задачи регрессии*** в **выходном слое** есть только один нейрон, который возвращает предсказанные числа (для каждого объекта по числу).  \n",
        "\n",
        "В случае решения ***задачи классификации*** в **выходном слое** может быть как один, так и несколько нейронов. Если решается задача бинарной классификации, то слой содержит один нейрон и $K$ нейронов, если решается задача $K$-класовой классификации."
      ]
    },
    {
      "cell_type": "markdown",
      "id": "00c2ab31",
      "metadata": {
        "id": "00c2ab31"
      },
      "source": [
        "#### Прямое распространение"
      ]
    },
    {
      "cell_type": "markdown",
      "id": "80a5b5b9",
      "metadata": {
        "id": "80a5b5b9"
      },
      "source": [
        "Каждый слой многослойной нейросети - это матрица весов, столбцы которой -- это нейроны (один столбец - один нейрон). То есть один столбец -- это веса одного нейрона."
      ]
    },
    {
      "cell_type": "markdown",
      "id": "72a85e3f",
      "metadata": {
        "collapsed": true,
        "id": "72a85e3f",
        "jupyter": {
          "outputs_hidden": true
        }
      },
      "source": [
        "Допустим, мы решаем задачу $K$-классовой классификации (на последнем слое $K$ нейронов). Рассмотрим, как в таком случае выглядит `forward_pass` нейросети:"
      ]
    },
    {
      "cell_type": "markdown",
      "id": "0650577d",
      "metadata": {
        "id": "0650577d"
      },
      "source": [
        "* Вход: $$X =\n",
        "\\left(\n",
        "\\begin{matrix}\n",
        "x_{11} & ... & x_{1M} \\\\\n",
        "... & \\ddots  & ...\\\\\n",
        "x_{N1} & ... & x_{NM}\n",
        "\\end{matrix}\n",
        "\\right)\n",
        "$$\n",
        "\n",
        "-- матрица $(N, M)$"
      ]
    },
    {
      "cell_type": "markdown",
      "id": "0d423365",
      "metadata": {
        "collapsed": true,
        "id": "0d423365",
        "jupyter": {
          "outputs_hidden": true
        }
      },
      "source": [
        "* Структура сети - много слоёв, в слоях много нейронов. Первый слой (после входного) выглядит так:"
      ]
    },
    {
      "cell_type": "markdown",
      "id": "1b54da54",
      "metadata": {
        "id": "1b54da54"
      },
      "source": [
        "$$ W^1 =\n",
        "\\left(\n",
        "\\begin{matrix}\n",
        "w_{11} & ... & w_{1L_1} \\\\\n",
        "... & \\ddots  & ...\\\\\n",
        "w_{M1} & ... & w_{ML_1}\n",
        "\\end{matrix}\n",
        "\\right)\n",
        "$$\n",
        "\n",
        "-- матрица $(M, L_1)$"
      ]
    },
    {
      "cell_type": "markdown",
      "id": "0bcd8e8c",
      "metadata": {
        "id": "0bcd8e8c"
      },
      "source": [
        "То есть это в точности $L_1$ нейронов, каждый имеет свои собственные веса, их $M$ штук."
      ]
    },
    {
      "cell_type": "markdown",
      "id": "034cd7bc",
      "metadata": {
        "id": "034cd7bc"
      },
      "source": [
        "Мы помним, что нейрон - это линейное преобразование и потом нелинейная функция активации от этого преобразования. Однако в многослойных нейростеях часто отделяют `Linear` часть и `Activation`, то есть слоем считаем набор весов нейронов, а следующий слой всегда функция активации (у всех нейронов из слоя она одна и та же, обычно фреймворки не позволяют задавать конкретному нейрону в слое отличную от других нейронов в этом слое функцию активации, однако это легко сделать, объявив слой из одного нейрона)."
      ]
    },
    {
      "cell_type": "markdown",
      "id": "0f3daef8",
      "metadata": {
        "id": "0f3daef8"
      },
      "source": [
        "* Другие слои выглядит точно так же, как первый слой. Например, второй слой будет такой:"
      ]
    },
    {
      "cell_type": "markdown",
      "id": "8f4167fc",
      "metadata": {
        "id": "8f4167fc"
      },
      "source": [
        "$$ W^2 =\n",
        "\\left(\n",
        "\\begin{matrix}\n",
        "w_{11} & ... & w_{1L_2} \\\\\n",
        "... & \\ddots  & ...\\\\\n",
        "w_{L_11} & ... & w_{L_1L_2}\n",
        "\\end{matrix}\n",
        "\\right)\n",
        "$$\n",
        "\n",
        "-- матрица $(L_1, L_2)$"
      ]
    },
    {
      "cell_type": "markdown",
      "id": "687a4c60",
      "metadata": {
        "id": "687a4c60"
      },
      "source": [
        "То есть это в точности $L_2$ нейронов, каждый имеет свои собственные веса, их $L_1$ штук."
      ]
    },
    {
      "cell_type": "markdown",
      "id": "71daadf8",
      "metadata": {
        "id": "71daadf8"
      },
      "source": [
        "* Выходной слой:  \n",
        "\n",
        "Пусть в нейросети до выходного слоя идут $t$ слоёв. Тогда выходной слой имеет форму:"
      ]
    },
    {
      "cell_type": "markdown",
      "id": "3fff1fe7",
      "metadata": {
        "id": "3fff1fe7"
      },
      "source": [
        "$$ W^{out} =\n",
        "\\left(\n",
        "\\begin{matrix}\n",
        "w_{11} & ... & w_{1K} \\\\\n",
        "... & \\ddots  & ...\\\\\n",
        "w_{L_t1} & ... & w_{L_tK}\n",
        "\\end{matrix}\n",
        "\\right)\n",
        "$$\n",
        "\n",
        "-- матрица $(L_t, K)$, где $L_t$ - количество нейронов в $t$-ом слое, а $K$ -- количество классов."
      ]
    },
    {
      "cell_type": "markdown",
      "id": "0bcf12ec",
      "metadata": {
        "id": "0bcf12ec"
      },
      "source": [
        "В итоге *для `forward_pass` нам нужно просто последовтельно перемножить матрицы друг за другом, применяя после каждого умножения соответсвующую функцию активации*."
      ]
    },
    {
      "cell_type": "markdown",
      "id": "bb0cff41",
      "metadata": {
        "id": "bb0cff41"
      },
      "source": [
        "*Примечание*: можно думать об умножении на очередную матрицу весов как на переход в **новое признаковое пространство**. Действительно, когда подаём матрицу $X$ и умножаем на матрицу первого слоя, мы получаем матрицу размера $(N, L_1)$, то есть как будто $L_1$ \"новых\" признаков (построенных как линейная комбинация старых до применения функции активации, и уже как нелинейная комбинация после активации). Здесь уместно вспомнить, что Deep Learning является пообластью Representation Learning, то есть позволяет выучивает новые представляения данных."
      ]
    },
    {
      "cell_type": "markdown",
      "id": "68846453",
      "metadata": {
        "id": "68846453"
      },
      "source": [
        "**Обратное распространение**"
      ]
    },
    {
      "cell_type": "markdown",
      "id": "2a12a1d2",
      "metadata": {
        "id": "2a12a1d2"
      },
      "source": [
        "Обучается с помощью метода \"Error Backpropagation\" - [\"Обратное распространение ошибки\"](https://ru.wikipedia.org/wiki/%D0%9C%D0%B5%D1%82%D0%BE%D0%B4_%D0%BE%D0%B1%D1%80%D0%B0%D1%82%D0%BD%D0%BE%D0%B3%D0%BE_%D1%80%D0%B0%D1%81%D0%BF%D1%80%D0%BE%D1%81%D1%82%D1%80%D0%B0%D0%BD%D0%B5%D0%BD%D0%B8%D1%8F_%D0%BE%D1%88%D0%B8%D0%B1%D0%BA%D0%B8), принцип распространения очень похож на то, как мы обучали один нейрон - это градиентный спуск, но по \"всей нейросети\" сразу.  "
      ]
    },
    {
      "cell_type": "markdown",
      "id": "dd7d293d",
      "metadata": {
        "collapsed": true,
        "id": "dd7d293d",
        "jupyter": {
          "outputs_hidden": true
        }
      },
      "source": [
        "Backpropagation работает корректно благодаря ***chain rule*** (=правилу взятия производной сложной функции):  \n",
        "\n",
        "Если $f(x) = f(g(x))$, то:  \n",
        "\n",
        "$$\\frac{\\partial{f}}{\\partial{x}} = \\frac{\\partial{f}}{\\partial{g}} \\frac{\\partial{g}}{\\partial{x}}$$"
      ]
    },
    {
      "cell_type": "markdown",
      "id": "05256472",
      "metadata": {
        "collapsed": true,
        "id": "05256472",
        "jupyter": {
          "outputs_hidden": true
        }
      },
      "source": [
        "Более подробно про backpropagation можно прочитать здесь (на английском):  https://mattmazur.com/2015/03/17/a-step-by-step-backpropagation-example/"
      ]
    },
    {
      "cell_type": "markdown",
      "id": "a8a4697c",
      "metadata": {
        "id": "a8a4697c"
      },
      "source": [
        "# Создание двухслойной нейросети\n",
        "Cоздадим двухслойную нейросеть из 100 нейронов:"
      ]
    },
    {
      "cell_type": "code",
      "execution_count": null,
      "id": "3c5d2cdc",
      "metadata": {
        "id": "3c5d2cdc"
      },
      "outputs": [],
      "source": [
        "import matplotlib.pyplot as plt\n",
        "import numpy as np\n",
        "\n",
        "import keras"
      ]
    },
    {
      "cell_type": "markdown",
      "id": "5bdb1514",
      "metadata": {
        "id": "5bdb1514"
      },
      "source": [
        "Генерация датасета:"
      ]
    },
    {
      "cell_type": "code",
      "execution_count": null,
      "id": "c5071b51",
      "metadata": {
        "id": "c5071b51"
      },
      "outputs": [],
      "source": [
        "N = 100\n",
        "D = 2\n",
        "K = 3\n",
        "X = np.zeros((N * K, D))\n",
        "y = np.zeros(N * K, dtype='uint8')\n",
        "\n",
        "for j in range(K):\n",
        "    ix = range(N * j,N * (j + 1))\n",
        "    r = np.linspace(0.0, 1, N)\n",
        "    t = np.linspace(j * 4, (j + 1) * 4,N) + np.random.randn(N) * 0.2 # theta\n",
        "    X[ix] = np.c_[r * np.sin(t), r * np.cos(t)]\n",
        "    y[ix] = j"
      ]
    },
    {
      "cell_type": "code",
      "execution_count": null,
      "id": "21df3fc5",
      "metadata": {
        "id": "21df3fc5"
      },
      "outputs": [],
      "source": [
        "plt.figure(figsize=(10, 8))\n",
        "plt.scatter(X[:, 0], X[:, 1], c=y, s=40, cmap=plt.cm.rainbow)\n",
        "plt.title('Спираль', fontsize=15)\n",
        "plt.xlabel('$x$', fontsize=14)\n",
        "plt.ylabel('$y$', fontsize=14)\n",
        "plt.show();"
      ]
    },
    {
      "cell_type": "code",
      "execution_count": null,
      "id": "9c2dd3c4",
      "metadata": {
        "id": "9c2dd3c4"
      },
      "outputs": [],
      "source": [
        "print(X.data.shape, y.data.shape)"
      ]
    },
    {
      "cell_type": "code",
      "execution_count": null,
      "id": "e97c5427",
      "metadata": {
        "id": "e97c5427"
      },
      "outputs": [],
      "source": [
        "from keras.utils import np_utils\n",
        "y = keras.utils.np_utils.to_categorical(y, 3)\n"
      ]
    },
    {
      "cell_type": "code",
      "execution_count": null,
      "id": "d15c2321",
      "metadata": {
        "id": "d15c2321"
      },
      "outputs": [],
      "source": [
        "from keras import optimizers\n",
        "two_layer_net=keras.models.Sequential()\n",
        "two_layer_net.add(keras.layers.Dense(100, input_shape=(X.shape[1],), activation='relu'))\n",
        "two_layer_net.add(keras.layers.Dense(3, activation='softmax'))\n",
        "print(two_layer_net.summary())\n"
      ]
    },
    {
      "cell_type": "code",
      "execution_count": null,
      "id": "97173b61",
      "metadata": {
        "id": "97173b61"
      },
      "outputs": [],
      "source": [
        "#визуализация модели\n",
        "from keras.utils.vis_utils import plot_model\n",
        "plot_model(two_layer_net, to_file='model_plot.png', show_shapes=True, show_layer_names=True)"
      ]
    },
    {
      "cell_type": "code",
      "execution_count": null,
      "id": "631ff164",
      "metadata": {
        "id": "631ff164"
      },
      "outputs": [],
      "source": [
        "from tensorflow.keras import optimizers\n",
        "sgd = optimizers.SGD(decay=1e-6, momentum=0.9, nesterov=True, learning_rate=0.01)\n",
        "two_layer_net.compile(loss='categorical_crossentropy', optimizer=sgd, metrics=['accuracy'])\n",
        "history=two_layer_net.fit(X, y, epochs=150, batch_size=64, verbose=1, validation_split=0.2)\n"
      ]
    },
    {
      "cell_type": "code",
      "execution_count": null,
      "id": "e0fa7e72",
      "metadata": {
        "id": "e0fa7e72"
      },
      "outputs": [],
      "source": [
        "plt.plot(history.history['accuracy'])\n",
        "plt.title('Model accuracy')\n",
        "plt.ylabel('Accuracy')\n",
        "plt.xlabel('Epoch')\n",
        "#plt.legend(['train','test'])\n",
        "plt.show()"
      ]
    },
    {
      "cell_type": "markdown",
      "id": "5d5c843b",
      "metadata": {
        "id": "5d5c843b"
      },
      "source": [
        "# Создание многослойной нейросети\n",
        "Усложним архитектуру нейронной сети прямого распространения:"
      ]
    },
    {
      "cell_type": "code",
      "execution_count": null,
      "id": "d6a2fd46",
      "metadata": {
        "id": "d6a2fd46"
      },
      "outputs": [],
      "source": [
        "many_layer_net=keras.models.Sequential()\n",
        "two_layer_net.add(keras.layers.Dense(100, input_shape=(X.shape[1],), activation='relu'))\n",
        "two_layer_net.add(keras.layers.Dense(100, activation='relu'))\n",
        "\n",
        "two_layer_net.add(keras.layers.Dense(100, activation='relu'))\n",
        "two_layer_net.add(keras.layers.Dense(3, activation='softmax'))\n",
        "sgd = optimizers.SGD(decay=1e-6, momentum=0.9, nesterov=True, learning_rate=0.001)\n",
        "two_layer_net.compile(loss='categorical_crossentropy', optimizer=sgd, metrics=['accuracy'])\n",
        "history=two_layer_net.fit(X, y, epochs=150, batch_size=64, verbose=1, validation_split=0.2)\n"
      ]
    },
    {
      "cell_type": "code",
      "execution_count": null,
      "id": "847b96d4",
      "metadata": {
        "id": "847b96d4"
      },
      "outputs": [],
      "source": [
        "plt.plot(history.history['accuracy'])\n",
        "plt.title('Model accuracy')\n",
        "plt.ylabel('Accuracy')\n",
        "plt.xlabel('Epoch')\n",
        "plt.show()"
      ]
    },
    {
      "cell_type": "markdown",
      "id": "d15de6c5",
      "metadata": {
        "id": "d15de6c5"
      },
      "source": [
        "# Создание многослойной нейросети для классификации рукописных цифр"
      ]
    },
    {
      "cell_type": "code",
      "execution_count": null,
      "id": "f4f1177e",
      "metadata": {
        "id": "f4f1177e"
      },
      "outputs": [],
      "source": [
        "import keras\n",
        "\n",
        "from keras.datasets import mnist\n",
        "from keras.layers import Dense\n",
        "from keras.layers import Dropout\n",
        "from keras.layers import Flatten\n",
        "from keras.models import Sequential\n",
        "from keras.optimizers import adam_v2\n",
        "from keras.utils import np_utils\n",
        "from keras.utils import np_utils\n",
        "\n",
        "import matplotlib.pyplot as plt\n",
        "import numpy as np\n",
        "from PIL import Image\n",
        "\n",
        "number_of_classes = 10"
      ]
    },
    {
      "cell_type": "code",
      "execution_count": null,
      "id": "1d1778e6",
      "metadata": {
        "id": "1d1778e6"
      },
      "outputs": [],
      "source": [
        "(X_train, y_train), (X_test, y_test) = mnist.load_data()\n",
        "\n",
        "plt.figure()\n",
        "plt.imshow(X_train[0])\n",
        "plt.colorbar()\n",
        "plt.grid(False)\n"
      ]
    },
    {
      "cell_type": "code",
      "execution_count": null,
      "id": "eb80fbf0",
      "metadata": {
        "id": "eb80fbf0"
      },
      "outputs": [],
      "source": [
        "plt.figure(figsize=(10,10))\n",
        "for i in range(25):\n",
        "    plt.subplot(5,5,i+1)\n",
        "    plt.xticks([])\n",
        "    plt.yticks([])\n",
        "    plt.grid(False)\n",
        "    plt.imshow(X_train[i], cmap=plt.cm.binary)\n"
      ]
    },
    {
      "cell_type": "code",
      "execution_count": null,
      "id": "d0efe54a",
      "metadata": {
        "id": "d0efe54a"
      },
      "outputs": [],
      "source": [
        "X_train = X_train.reshape(X_train.shape[0], X_train.shape[1]*X_train.shape[2]).astype('float32')\n",
        "X_test = X_test.reshape(X_test.shape[0], X_test.shape[1]*X_test.shape[2]).astype('float32')\n",
        "\n",
        "#для преобразования двумерных данных в одномерные в нейронной сети можно использовать слой Flatten(input_shape=(28,28))\n",
        "\n",
        "X_train/=255\n",
        "X_test/=255\n",
        "\n",
        "y_train = np_utils.to_categorical(y_train, number_of_classes)\n",
        "y_test = np_utils.to_categorical(y_test, number_of_classes)"
      ]
    },
    {
      "cell_type": "code",
      "execution_count": null,
      "id": "42e78403",
      "metadata": {
        "id": "42e78403"
      },
      "outputs": [],
      "source": [
        "X_train.shape"
      ]
    },
    {
      "cell_type": "code",
      "execution_count": null,
      "id": "e19d4352",
      "metadata": {
        "id": "e19d4352"
      },
      "outputs": [],
      "source": [
        "model = keras.models.Sequential()\n",
        "model.add(keras.layers.Dense(512, input_dim=(X_train.shape[1]), activation='relu'))\n",
        "model.add(keras.layers.Dense(number_of_classes, activation='softmax'))\n",
        "print(model.summary())\n"
      ]
    },
    {
      "cell_type": "code",
      "execution_count": null,
      "id": "3dbca98d",
      "metadata": {
        "id": "3dbca98d"
      },
      "outputs": [],
      "source": [
        "model.compile(loss='categorical_crossentropy', optimizer='adam', metrics=['accuracy'])\n",
        "history=model.fit(X_train, y_train, validation_data=(X_test, y_test), epochs=5, batch_size=200)\n"
      ]
    },
    {
      "cell_type": "code",
      "execution_count": null,
      "id": "6530dec9",
      "metadata": {
        "id": "6530dec9"
      },
      "outputs": [],
      "source": [
        "#оценка точности\n",
        "test_loss, test_acc = model.evaluate(X_test, y_test)\n",
        "print('Test accuracy:', test_acc)\n",
        "print('Test loss:', test_loss)"
      ]
    },
    {
      "cell_type": "code",
      "execution_count": null,
      "id": "dd532477",
      "metadata": {
        "id": "dd532477"
      },
      "outputs": [],
      "source": [
        "fig = plt.figure()\n",
        "ax1 = fig.add_subplot(1,2,1)\n",
        "ax1.plot(history.history['accuracy'])\n",
        "ax1.plot(history.history['val_accuracy'])\n",
        "ax1.set(title='model accuracy')\n",
        "ax1.set(ylabel='accuracy')\n",
        "ax1.set(xlabel='epoch')\n",
        "ax1.legend(['train', 'test'], loc='upper left')\n",
        "ax2 = fig.add_subplot(1,2,2)\n",
        "ax2.plot(history.history['loss'])\n",
        "ax2.plot(history.history['val_loss'])\n",
        "ax2.set(title='model loss')\n",
        "ax2.set(ylabel='loss')\n",
        "ax2.set(xlabel='epoch')\n",
        "ax2.legend(['train', 'test'], loc='upper left')\n",
        "plt.show()\n"
      ]
    },
    {
      "cell_type": "markdown",
      "id": "f4a152f2",
      "metadata": {
        "id": "f4a152f2"
      },
      "source": [
        "# Инициализация сети\n",
        "Важным моментом при конструировании сети является начальная инициализация весов. Удачно выбранный способ инициализации весов может значительно влиять на способность модели к обучению.\n",
        "\n",
        "Существует различные подходы к начальной инициализации весов.\n",
        "\n",
        "Например, метод Завьера. Основная идея этого метода — упростить прохождение сигнала через слой во время как прямого, так и обратного распространения ошибки для линейной функции активации (этот метод также хорошо работает для сигмоидной функции, так как участок, где она ненасыщена, также имеет линейный характер). При вычислении весов этот метод опирается на вероятностное распределение.\n",
        "\n",
        "Метод инициализации Ге (He) — это вариация метода Завьера, больше подходящая функции активации ReLU, компенсирующая тот факт, что эта функция возвращает нуль для половины области определения.\n",
        "\n",
        "Выделяют также метод ортогональной инициализации."
      ]
    },
    {
      "cell_type": "code",
      "execution_count": null,
      "id": "b1c9d009",
      "metadata": {
        "id": "b1c9d009"
      },
      "outputs": [],
      "source": [
        "model_reg = keras.models.Sequential()\n",
        "model_reg.add(keras.layers.Dense(512, input_dim=(X_train.shape[1]), activation='relu', kernel_initializer='he_uniform'))\n",
        "model_reg.add(keras.layers.Dense(number_of_classes, activation='softmax', kernel_initializer='glorot_uniform'))"
      ]
    },
    {
      "cell_type": "markdown",
      "id": "db3e026b",
      "metadata": {
        "id": "db3e026b"
      },
      "source": [
        "# L2-регуляризация\n",
        "Одной из основных проблем машинного обучения является проблема переобучения (overfitting), когда модель в погоне за минимизацией затрат на обучение теряет способность к обобщению.\n",
        "\n",
        "Существует простой способ держать переобучение под контролем — метод dropout.\n",
        "\n",
        "Но есть и другие регуляризаторы, которые можно применить к сети. Один из них — L_2-регуляризация (также называемая сокращением весов, англ. weight decay), которая использует более прямой подход к регуляризации, чем dropout. Обычно первопричиной переобучения является сложность модели (в смысле количества ее параметров), слишком высокая для решаемой задачи и имеющегося обучающего множества. В некотором смысле, задача регуляризатора — понизить сложность модели, сохранив количество ее параметров.\n",
        "\n",
        "L_2-регуляризация выполняется посредством наложения штрафов (penalising) на веса с наибольшими значениями, минимизируя их L_2-норму с использованием параметра λ — коэффициент регуляризации, выражающий предпочтение минимизации нормы относительно минимизации потерь на обучающем множестве.\n",
        "\n",
        "Крайне важно правильно выбрать λ. Если коэффициент слишком мал, то эффект от регуляризации будет ничтожен, если же слишком велик — модель обнулит все веса."
      ]
    },
    {
      "cell_type": "code",
      "execution_count": null,
      "id": "8cb050ce",
      "metadata": {
        "id": "8cb050ce"
      },
      "outputs": [],
      "source": [
        "from keras.regularizers import l2\n",
        "l2_lambda = 0.0001\n",
        "model_reg = keras.models.Sequential()\n",
        "model_reg.add(keras.layers.Dense(512, input_dim=(X_train.shape[1]), activation='relu',kernel_initializer='he_uniform', bias_regularizer=l2(l2_lambda)))\n",
        "model_reg.add(keras.layers.Dense(number_of_classes, activation='softmax', kernel_initializer='glorot_uniform'))"
      ]
    },
    {
      "cell_type": "code",
      "execution_count": null,
      "id": "a666606d",
      "metadata": {
        "id": "a666606d"
      },
      "outputs": [],
      "source": [
        "model_reg.compile(loss='categorical_crossentropy', optimizer='adam', metrics=['accuracy'])\n",
        "history=model_reg.fit(X_train, y_train, validation_data=(X_test, y_test), epochs=5, batch_size=200)"
      ]
    },
    {
      "cell_type": "markdown",
      "id": "f2c575b6",
      "metadata": {
        "id": "f2c575b6"
      },
      "source": [
        "## Применение обученной нейронной сети\n",
        "Необходимо нарисовать цифру (например в Paint) или скачать из Интернета"
      ]
    },
    {
      "cell_type": "code",
      "execution_count": null,
      "id": "04de1ff6",
      "metadata": {
        "id": "04de1ff6"
      },
      "outputs": [],
      "source": [
        "#выполняем преобразование картинки с цифрой\n",
        "from PIL import Image\n",
        "#преобразование входного изображения в формат набора MNIS\n",
        "image=Image.open(\"cifra-2.png\").resize((28,28))\n",
        "img = np.invert(image.convert('L')).ravel()\n",
        "im2arr = img.reshape(1, 28* 28).astype('float32')/255\n",
        "#plt.imshow(image, cmap=plt.cm.binary)\n",
        "#использование обученной модели\n",
        "y_pred = model.predict(im2arr)\n",
        "print(y_pred[0])\n",
        "plt.bar(range(10), y_pred[0])\n",
        "plt.show()\n",
        "print(np.argmax(y_pred))"
      ]
    },
    {
      "cell_type": "code",
      "execution_count": null,
      "id": "067cfa05",
      "metadata": {
        "id": "067cfa05"
      },
      "outputs": [],
      "source": [
        "#сохранение модели\n",
        "model.save('model.h5')\n",
        "\n",
        "#загрузка модели\n",
        "#model_load=keras.models.load_model('model.h5')"
      ]
    },
    {
      "cell_type": "markdown",
      "id": "372daddb",
      "metadata": {
        "id": "372daddb"
      },
      "source": [
        "## Задание 1\n",
        "\n",
        "Для набора данных \"Спираль\"\n",
        "1. Попробуйте улучшить результат классификации за счет изменения следующих параметров: скорость обучения, количество эпох, виды оптимизаторов, количество нейронов, количество слоев. Результаты анализа представьте в виде графиков (диаграмм).\n",
        "2. Добавьте слой (слои) Dropout (model.add(keras.layers.Dropout(0.5))), посмотрите, как изменится результат.\n",
        "3. Добавьте слой нормализации (keras.layers.BatchNormalization) и оцените его влияние на качество обучения. Сделайте выводы."
      ]
    },
    {
      "cell_type": "code",
      "source": [
        "import numpy as np\n",
        "import matplotlib.pyplot as plt\n",
        "\n",
        "# Генерация спирального набора данных\n",
        "def make_spiral(n_samples=1000, noise=0.1):\n",
        "    theta = np.linspace(0, 4 * np.pi, n_samples)\n",
        "    r = theta + np.random.randn(n_samples) * noise\n",
        "    x = r * np.sin(theta)\n",
        "    y = r * np.cos(theta)\n",
        "    return np.column_stack((x, y)), (theta > 2 * np.pi).astype(int)\n",
        "\n",
        "# Создание спирального набора данных\n",
        "X, y = make_spiral()\n",
        "plt.scatter(X[:, 0], X[:, 1], c=y)\n",
        "plt.title('Спиральный набор данных')\n",
        "plt.xlabel('Ось X')\n",
        "plt.ylabel('Ось Y')\n",
        "plt.show()\n"
      ],
      "metadata": {
        "colab": {
          "base_uri": "https://localhost:8080/",
          "height": 472
        },
        "id": "E8okdVbdGTHR",
        "outputId": "a1c1d714-f7d4-45ee-b1f3-1b7a80927ae5"
      },
      "id": "E8okdVbdGTHR",
      "execution_count": 13,
      "outputs": [
        {
          "output_type": "display_data",
          "data": {
            "text/plain": [
              "<Figure size 640x480 with 1 Axes>"
            ],
            "image/png": "[encoded data removed]"
          },
          "metadata": {}
        }
      ]
    },
    {
      "cell_type": "code",
      "source": [
        "import keras\n",
        "from keras.models import Sequential\n",
        "from keras.layers import Dense, Dropout, BatchNormalization\n",
        "from keras.optimizers import Adam, SGD\n",
        "\n",
        "def create_model(learning_rate=0.01, neurons=64, layers=2, dropout_rate=0.0, use_batch_norm=False):\n",
        "    model = Sequential()\n",
        "    model.add(Dense(neurons, activation='relu', input_shape=(2,)))\n",
        "\n",
        "    if use_batch_norm:\n",
        "        model.add(BatchNormalization())\n",
        "\n",
        "    for _ in range(layers - 1):\n",
        "        model.add(Dense(neurons, activation='relu'))\n",
        "        if use_batch_norm:\n",
        "            model.add(BatchNormalization())\n",
        "\n",
        "    if dropout_rate > 0:\n",
        "        model.add(Dropout(dropout_rate))\n",
        "\n",
        "    model.add(Dense(1, activation='sigmoid'))\n",
        "\n",
        "    optimizer = Adam(learning_rate=learning_rate)\n",
        "    model.compile(optimizer=optimizer, loss='binary_crossentropy', metrics=['accuracy'])\n",
        "\n",
        "    return model\n"
      ],
      "metadata": {
        "id": "H3LecGe3Ga9M"
      },
      "id": "H3LecGe3Ga9M",
      "execution_count": 14,
      "outputs": []
    },
    {
      "cell_type": "code",
      "source": [
        "def train_model(model, X, y, epochs=20, batch_size=32):\n",
        "    history = model.fit(X, y, epochs=epochs, batch_size=batch_size, verbose=0)\n",
        "    return history\n"
      ],
      "metadata": {
        "id": "QrBIPVqwGo-s"
      },
      "id": "QrBIPVqwGo-s",
      "execution_count": 15,
      "outputs": []
    },
    {
      "cell_type": "code",
      "source": [
        "# Параметры для экспериментов\n",
        "learning_rates = [0.001]\n",
        "neurons_list = [32]\n",
        "layers_list = [2]\n",
        "dropout_rates = [0.0]\n",
        "batch_norm_options = [False]\n",
        "\n",
        "\n",
        "results = {}\n",
        "\n",
        "for lr in learning_rates:\n",
        "    for neurons in neurons_list:\n",
        "        for layers in layers_list:\n",
        "            for dropout in dropout_rates:\n",
        "                for batch_norm in batch_norm_options:\n",
        "                    model = create_model(learning_rate=lr, neurons=neurons, layers=layers, dropout_rate=dropout, use_batch_norm=batch_norm)\n",
        "                    history = train_model(model, X, y, epochs=100)\n",
        "                    results[(lr, neurons, layers, dropout, batch_norm)] = history.history['accuracy']\n"
      ],
      "metadata": {
        "id": "oRvt7gppGp2I"
      },
      "id": "oRvt7gppGp2I",
      "execution_count": 16,
      "outputs": []
    },
    {
      "cell_type": "code",
      "source": [
        "for key, accuracy in results.items():\n",
        "    plt.plot(accuracy, label=str(key))\n",
        "\n",
        "plt.title('Точность модели')\n",
        "plt.xlabel('Epochs')\n",
        "plt.ylabel('Accuracy')\n",
        "plt.legend()\n",
        "plt.show()\n"
      ],
      "metadata": {
        "colab": {
          "base_uri": "https://localhost:8080/",
          "height": 472
        },
        "id": "OC00eZWnGr9R",
        "outputId": "f562cdfb-cd9c-4703-a764-eb34e8deaa9a"
      },
      "id": "OC00eZWnGr9R",
      "execution_count": 17,
      "outputs": [
        {
          "output_type": "display_data",
          "data": {
            "text/plain": [
              "<Figure size 640x480 with 1 Axes>"
            ],
            "image/png": "[encoded data removed]"
          },
          "metadata": {}
        }
      ]
    },
    {
      "cell_type": "markdown",
      "id": "8ee35de0",
      "metadata": {
        "id": "8ee35de0"
      },
      "source": [
        "## Задание 2\n",
        "Для набора данных MNIST\n",
        "1. Между двух слоев нейронной сети добавить слой Dropout\n",
        "model.add(keras.layers.Dropout(0.5)), переобучить модель, оценить качество обучения.\n",
        "Объяснить полученные результаты\n",
        "2. Добавить еще один скрытый слой и проанализировать его влияние на качество обучения модели."
      ]
    },
    {
      "cell_type": "code",
      "source": [
        "import numpy as np\n",
        "import matplotlib.pyplot as plt\n",
        "from tensorflow import keras\n",
        "from tensorflow.keras import layers\n",
        "\n",
        "# Загрузка набора данных MNIST\n",
        "(X_train, y_train), (X_test, y_test) = keras.datasets.mnist.load_data()\n",
        "X_train = X_train.astype('float32') / 255.0\n",
        "X_test = X_test.astype('float32') / 255.0\n",
        "\n",
        "# Преобразование данных\n",
        "X_train = X_train.reshape((X_train.shape[0], 28 * 28))\n",
        "X_test = X_test.reshape((X_test.shape[0], 28 * 28))\n"
      ],
      "metadata": {
        "colab": {
          "base_uri": "https://localhost:8080/"
        },
        "id": "BR5y8nSrKefd",
        "outputId": "407f0ea4-69a9-45bf-9beb-2138064f17ca"
      },
      "id": "BR5y8nSrKefd",
      "execution_count": 18,
      "outputs": [
        {
          "output_type": "stream",
          "name": "stdout",
          "text": [
            "Downloading data from https://storage.googleapis.com/tensorflow/tf-keras-datasets/mnist.npz\n",
            "\u001b[1m11490434/11490434\u001b[0m \u001b[32m━━━━━━━━━━━━━━━━━━━━\u001b[0m\u001b[37m\u001b[0m \u001b[1m0s\u001b[0m 0us/step\n"
          ]
        }
      ]
    },
    {
      "cell_type": "code",
      "source": [
        "def create_model_with_dropout():\n",
        "    model = keras.Sequential()\n",
        "    model.add(layers.Dense(128, activation='relu', input_shape=(28 * 28,)))\n",
        "    model.add(layers.Dropout(0.5))  # Добавляем слой Dropout\n",
        "    model.add(layers.Dense(64, activation='relu'))\n",
        "    model.add(layers.Dense(10, activation='softmax'))\n",
        "\n",
        "    model.compile(optimizer='adam', loss='sparse_categorical_crossentropy', metrics=['accuracy'])\n",
        "    return model\n",
        "\n",
        "# Создание и обучение модели\n",
        "model_with_dropout = create_model_with_dropout()\n",
        "history_with_dropout = model_with_dropout.fit(X_train, y_train, epochs=10, validation_split=0.2, batch_size=32)\n"
      ],
      "metadata": {
        "colab": {
          "base_uri": "https://localhost:8080/"
        },
        "id": "GK0-raH5KgOG",
        "outputId": "0fad1aff-4a9a-4333-aebe-5ccf936c8a2b"
      },
      "id": "GK0-raH5KgOG",
      "execution_count": 19,
      "outputs": [
        {
          "output_type": "stream",
          "name": "stdout",
          "text": [
            "Epoch 1/10\n",
            "\u001b[1m1500/1500\u001b[0m \u001b[32m━━━━━━━━━━━━━━━━━━━━\u001b[0m\u001b[37m\u001b[0m \u001b[1m8s\u001b[0m 4ms/step - accuracy: 0.7857 - loss: 0.6746 - val_accuracy: 0.9503 - val_loss: 0.1694\n",
            "Epoch 2/10\n",
            "\u001b[1m1500/1500\u001b[0m \u001b[32m━━━━━━━━━━━━━━━━━━━━\u001b[0m\u001b[37m\u001b[0m \u001b[1m12s\u001b[0m 6ms/step - accuracy: 0.9256 - loss: 0.2483 - val_accuracy: 0.9600 - val_loss: 0.1358\n",
            "Epoch 3/10\n",
            "\u001b[1m1500/1500\u001b[0m \u001b[32m━━━━━━━━━━━━━━━━━━━━\u001b[0m\u001b[37m\u001b[0m \u001b[1m13s\u001b[0m 8ms/step - accuracy: 0.9411 - loss: 0.2029 - val_accuracy: 0.9653 - val_loss: 0.1195\n",
            "Epoch 4/10\n",
            "\u001b[1m1500/1500\u001b[0m \u001b[32m━━━━━━━━━━━━━━━━━━━━\u001b[0m\u001b[37m\u001b[0m \u001b[1m16s\u001b[0m 11ms/step - accuracy: 0.9432 - loss: 0.1869 - val_accuracy: 0.9680 - val_loss: 0.1107\n",
            "Epoch 5/10\n",
            "\u001b[1m1500/1500\u001b[0m \u001b[32m━━━━━━━━━━━━━━━━━━━━\u001b[0m\u001b[37m\u001b[0m \u001b[1m13s\u001b[0m 9ms/step - accuracy: 0.9498 - loss: 0.1600 - val_accuracy: 0.9697 - val_loss: 0.1067\n",
            "Epoch 6/10\n",
            "\u001b[1m1500/1500\u001b[0m \u001b[32m━━━━━━━━━━━━━━━━━━━━\u001b[0m\u001b[37m\u001b[0m \u001b[1m18s\u001b[0m 7ms/step - accuracy: 0.9520 - loss: 0.1541 - val_accuracy: 0.9702 - val_loss: 0.1060\n",
            "Epoch 7/10\n",
            "\u001b[1m1500/1500\u001b[0m \u001b[32m━━━━━━━━━━━━━━━━━━━━\u001b[0m\u001b[37m\u001b[0m \u001b[1m17s\u001b[0m 5ms/step - accuracy: 0.9541 - loss: 0.1468 - val_accuracy: 0.9720 - val_loss: 0.1036\n",
            "Epoch 8/10\n",
            "\u001b[1m1500/1500\u001b[0m \u001b[32m━━━━━━━━━━━━━━━━━━━━\u001b[0m\u001b[37m\u001b[0m \u001b[1m11s\u001b[0m 6ms/step - accuracy: 0.9564 - loss: 0.1360 - val_accuracy: 0.9720 - val_loss: 0.1022\n",
            "Epoch 9/10\n",
            "\u001b[1m1500/1500\u001b[0m \u001b[32m━━━━━━━━━━━━━━━━━━━━\u001b[0m\u001b[37m\u001b[0m \u001b[1m6s\u001b[0m 4ms/step - accuracy: 0.9584 - loss: 0.1294 - val_accuracy: 0.9743 - val_loss: 0.0977\n",
            "Epoch 10/10\n",
            "\u001b[1m1500/1500\u001b[0m \u001b[32m━━━━━━━━━━━━━━━━━━━━\u001b[0m\u001b[37m\u001b[0m \u001b[1m11s\u001b[0m 4ms/step - accuracy: 0.9607 - loss: 0.1218 - val_accuracy: 0.9737 - val_loss: 0.0960\n"
          ]
        }
      ]
    },
    {
      "cell_type": "code",
      "source": [
        "# Оценка модели\n",
        "test_loss, test_accuracy = model_with_dropout.evaluate(X_test, y_test)\n",
        "print(f\"Тестовая точность с Dropout: {test_accuracy:.4f}\")\n",
        "\n",
        "# Визуализация истории обучения\n",
        "plt.plot(history_with_dropout.history['accuracy'], label='Train Accuracy')\n",
        "plt.plot(history_with_dropout.history['val_accuracy'], label='Validation Accuracy')\n",
        "plt.title('Точность модели с Dropout')\n",
        "plt.xlabel('Epoch')\n",
        "plt.ylabel('Accuracy')\n",
        "plt.legend()\n",
        "plt.show()\n"
      ],
      "metadata": {
        "colab": {
          "base_uri": "https://localhost:8080/",
          "height": 507
        },
        "id": "Z23iUU3MKhak",
        "outputId": "2301c60a-6426-4ee5-9989-3770ad687091"
      },
      "id": "Z23iUU3MKhak",
      "execution_count": 20,
      "outputs": [
        {
          "output_type": "stream",
          "name": "stdout",
          "text": [
            "\u001b[1m313/313\u001b[0m \u001b[32m━━━━━━━━━━━━━━━━━━━━\u001b[0m\u001b[37m\u001b[0m \u001b[1m1s\u001b[0m 2ms/step - accuracy: 0.9685 - loss: 0.1062\n",
            "Test accuracy with Dropout: 0.9735\n"
          ]
        },
        {
          "output_type": "display_data",
          "data": {
            "text/plain": [
              "<Figure size 640x480 with 1 Axes>"
            ],
            "image/png": "[encoded data removed]"
          },
          "metadata": {}
        }
      ]
    },
    {
      "cell_type": "code",
      "source": [
        "def create_model_with_additional_layer():\n",
        "    model = keras.Sequential()\n",
        "    model.add(layers.Dense(128, activation='relu', input_shape=(28 * 28,)))\n",
        "    model.add(layers.Dropout(0.5))\n",
        "    model.add(layers.Dense(64, activation='relu'))\n",
        "    model.add(layers.Dense(32, activation='relu'))  # Новый скрытый слой\n",
        "    model.add(layers.Dense(10, activation='softmax'))\n",
        "\n",
        "    model.compile(optimizer='adam', loss='sparse_categorical_crossentropy', metrics=['accuracy'])\n",
        "    return model\n",
        "\n",
        "# Создание и обучение модели с дополнительным слоем\n",
        "model_with_additional_layer = create_model_with_additional_layer()\n",
        "history_with_additional_layer = model_with_additional_layer.fit(X_train, y_train, epochs=10, validation_split=0.2, batch_size=32)\n"
      ],
      "metadata": {
        "colab": {
          "base_uri": "https://localhost:8080/"
        },
        "id": "Z_zXS8ZjKjjk",
        "outputId": "e75656f2-f0a6-4305-d8a6-47c0617411a5"
      },
      "id": "Z_zXS8ZjKjjk",
      "execution_count": 21,
      "outputs": [
        {
          "output_type": "stream",
          "name": "stdout",
          "text": [
            "Epoch 1/10\n",
            "\u001b[1m1500/1500\u001b[0m \u001b[32m━━━━━━━━━━━━━━━━━━━━\u001b[0m\u001b[37m\u001b[0m \u001b[1m9s\u001b[0m 5ms/step - accuracy: 0.7645 - loss: 0.7387 - val_accuracy: 0.9498 - val_loss: 0.1718\n",
            "Epoch 2/10\n",
            "\u001b[1m1500/1500\u001b[0m \u001b[32m━━━━━━━━━━━━━━━━━━━━\u001b[0m\u001b[37m\u001b[0m \u001b[1m11s\u001b[0m 6ms/step - accuracy: 0.9242 - loss: 0.2554 - val_accuracy: 0.9612 - val_loss: 0.1299\n",
            "Epoch 3/10\n",
            "\u001b[1m1500/1500\u001b[0m \u001b[32m━━━━━━━━━━━━━━━━━━━━\u001b[0m\u001b[37m\u001b[0m \u001b[1m6s\u001b[0m 4ms/step - accuracy: 0.9351 - loss: 0.2099 - val_accuracy: 0.9663 - val_loss: 0.1120\n",
            "Epoch 4/10\n",
            "\u001b[1m1500/1500\u001b[0m \u001b[32m━━━━━━━━━━━━━━━━━━━━\u001b[0m\u001b[37m\u001b[0m \u001b[1m8s\u001b[0m 5ms/step - accuracy: 0.9425 - loss: 0.1861 - val_accuracy: 0.9686 - val_loss: 0.1077\n",
            "Epoch 5/10\n",
            "\u001b[1m1500/1500\u001b[0m \u001b[32m━━━━━━━━━━━━━━━━━━━━\u001b[0m\u001b[37m\u001b[0m \u001b[1m9s\u001b[0m 5ms/step - accuracy: 0.9465 - loss: 0.1684 - val_accuracy: 0.9682 - val_loss: 0.1059\n",
            "Epoch 6/10\n",
            "\u001b[1m1500/1500\u001b[0m \u001b[32m━━━━━━━━━━━━━━━━━━━━\u001b[0m\u001b[37m\u001b[0m \u001b[1m7s\u001b[0m 5ms/step - accuracy: 0.9501 - loss: 0.1581 - val_accuracy: 0.9698 - val_loss: 0.1016\n",
            "Epoch 7/10\n",
            "\u001b[1m1500/1500\u001b[0m \u001b[32m━━━━━━━━━━━━━━━━━━━━\u001b[0m\u001b[37m\u001b[0m \u001b[1m12s\u001b[0m 6ms/step - accuracy: 0.9538 - loss: 0.1495 - val_accuracy: 0.9714 - val_loss: 0.0959\n",
            "Epoch 8/10\n",
            "\u001b[1m1500/1500\u001b[0m \u001b[32m━━━━━━━━━━━━━━━━━━━━\u001b[0m\u001b[37m\u001b[0m \u001b[1m6s\u001b[0m 4ms/step - accuracy: 0.9563 - loss: 0.1407 - val_accuracy: 0.9741 - val_loss: 0.0881\n",
            "Epoch 9/10\n",
            "\u001b[1m1500/1500\u001b[0m \u001b[32m━━━━━━━━━━━━━━━━━━━━\u001b[0m\u001b[37m\u001b[0m \u001b[1m8s\u001b[0m 5ms/step - accuracy: 0.9567 - loss: 0.1349 - val_accuracy: 0.9722 - val_loss: 0.0947\n",
            "Epoch 10/10\n",
            "\u001b[1m1500/1500\u001b[0m \u001b[32m━━━━━━━━━━━━━━━━━━━━\u001b[0m\u001b[37m\u001b[0m \u001b[1m10s\u001b[0m 5ms/step - accuracy: 0.9592 - loss: 0.1311 - val_accuracy: 0.9729 - val_loss: 0.0951\n"
          ]
        }
      ]
    },
    {
      "cell_type": "code",
      "source": [
        "# Оценка модели\n",
        "test_loss, test_accuracy = model_with_additional_layer.evaluate(X_test, y_test)\n",
        "print(f\"Точность теста с дополнительным слоем: {test_accuracy:.4f}\")\n",
        "\n",
        "# Визуализация истории обучения\n",
        "plt.plot(history_with_additional_layer.history['accuracy'], label='Train Accuracy')\n",
        "plt.plot(history_with_additional_layer.history['val_accuracy'], label='Validation Accuracy')\n",
        "plt.title('Точность модели с дополнительным слоем')\n",
        "plt.xlabel('Epoch')\n",
        "plt.ylabel('Accuracy')\n",
        "plt.legend()\n",
        "plt.show()\n"
      ],
      "metadata": {
        "colab": {
          "base_uri": "https://localhost:8080/",
          "height": 507
        },
        "id": "sFELa_t0Kkrs",
        "outputId": "35325f68-73da-4307-f9f4-5c2460c46ba0"
      },
      "id": "sFELa_t0Kkrs",
      "execution_count": 22,
      "outputs": [
        {
          "output_type": "stream",
          "name": "stdout",
          "text": [
            "\u001b[1m313/313\u001b[0m \u001b[32m━━━━━━━━━━━━━━━━━━━━\u001b[0m\u001b[37m\u001b[0m \u001b[1m1s\u001b[0m 2ms/step - accuracy: 0.9690 - loss: 0.1079\n",
            "Test accuracy with additional layer: 0.9733\n"
          ]
        },
        {
          "output_type": "display_data",
          "data": {
            "text/plain": [
              "<Figure size 640x480 with 1 Axes>"
            ],
            "image/png": "[encoded data removed]"
          },
          "metadata": {}
        }
      ]
    },
    {
      "cell_type": "markdown",
      "id": "2dd91cce",
      "metadata": {
        "id": "2dd91cce"
      },
      "source": [
        "## Задание 3\n",
        "1. Создайте модель нейронной сети для решения задачи классификации из Лабораторной работы №5, в соответствии с вариантом задания\n",
        "1. Обучите модель. В завсимости от результатов, видоизмените модель, чтобы попытаться добиться большей точности\n"
      ]
    },
    {
      "cell_type": "code",
      "execution_count": 23,
      "id": "e6012b07",
      "metadata": {
        "id": "e6012b07"
      },
      "outputs": [],
      "source": [
        "import numpy as np\n",
        "import pandas as pd\n",
        "import matplotlib.pyplot as plt\n",
        "from sklearn.datasets import load_iris\n",
        "from sklearn.model_selection import train_test_split\n",
        "from sklearn.preprocessing import StandardScaler\n",
        "from tensorflow import keras\n",
        "from tensorflow.keras import layers\n",
        "\n",
        "# Загрузка набора данных Iris\n",
        "iris = load_iris()\n",
        "X = iris.data\n",
        "y = iris.target\n",
        "\n",
        "# Разделение данных на обучающую и тестовую выборки\n",
        "X_train, X_test, y_train, y_test = train_test_split(X, y, test_size=0.2, random_state=42)\n",
        "\n",
        "# Стандартизация данных\n",
        "scaler = StandardScaler()\n",
        "X_train = scaler.fit_transform(X_train)\n",
        "X_test = scaler.transform(X_test)\n"
      ]
    },
    {
      "cell_type": "code",
      "source": [
        "def create_model():\n",
        "    model = keras.Sequential()\n",
        "    model.add(layers.Dense(10, activation='relu', input_shape=(X_train.shape[1],)))\n",
        "    model.add(layers.Dense(10, activation='relu'))\n",
        "    model.add(layers.Dense(3, activation='softmax'))  # 3 класса для Iris\n",
        "    model.compile(optimizer='adam', loss='sparse_categorical_crossentropy', metrics=['accuracy'])\n",
        "    return model\n",
        "\n",
        "# Создание и обучение модели\n",
        "model = create_model()\n",
        "history = model.fit(X_train, y_train, epochs=100, validation_split=0.2, batch_size=5)\n"
      ],
      "metadata": {
        "colab": {
          "base_uri": "https://localhost:8080/"
        },
        "id": "ySfsPcUXLpj3",
        "outputId": "52163782-4f94-42b5-9bfa-46d49ab9ce8d"
      },
      "id": "ySfsPcUXLpj3",
      "execution_count": 24,
      "outputs": [
        {
          "output_type": "stream",
          "name": "stdout",
          "text": [
            "Epoch 1/100\n"
          ]
        },
        {
          "output_type": "stream",
          "name": "stderr",
          "text": [
            "/usr/local/lib/python3.10/dist-packages/keras/src/layers/core/dense.py:87: UserWarning: Do not pass an `input_shape`/`input_dim` argument to a layer. When using Sequential models, prefer using an `Input(shape)` object as the first layer in the model instead.\n",
            "  super().__init__(activity_regularizer=activity_regularizer, **kwargs)\n"
          ]
        },
        {
          "output_type": "stream",
          "name": "stdout",
          "text": [
            "\u001b[1m20/20\u001b[0m \u001b[32m━━━━━━━━━━━━━━━━━━━━\u001b[0m\u001b[37m\u001b[0m \u001b[1m1s\u001b[0m 12ms/step - accuracy: 0.5466 - loss: 0.9703 - val_accuracy: 0.7083 - val_loss: 0.8773\n",
            "Epoch 2/100\n",
            "\u001b[1m20/20\u001b[0m \u001b[32m━━━━━━━━━━━━━━━━━━━━\u001b[0m\u001b[37m\u001b[0m \u001b[1m0s\u001b[0m 3ms/step - accuracy: 0.6536 - loss: 0.8369 - val_accuracy: 0.7083 - val_loss: 0.8221\n",
            "Epoch 3/100\n",
            "\u001b[1m20/20\u001b[0m \u001b[32m━━━━━━━━━━━━━━━━━━━━\u001b[0m\u001b[37m\u001b[0m \u001b[1m0s\u001b[0m 4ms/step - accuracy: 0.6043 - loss: 0.7945 - val_accuracy: 0.7500 - val_loss: 0.7717\n",
            "Epoch 4/100\n",
            "\u001b[1m20/20\u001b[0m \u001b[32m━━━━━━━━━━━━━━━━━━━━\u001b[0m\u001b[37m\u001b[0m \u001b[1m0s\u001b[0m 3ms/step - accuracy: 0.6632 - loss: 0.7519 - val_accuracy: 0.7083 - val_loss: 0.7292\n",
            "Epoch 5/100\n",
            "\u001b[1m20/20\u001b[0m \u001b[32m━━━━━━━━━━━━━━━━━━━━\u001b[0m\u001b[37m\u001b[0m \u001b[1m0s\u001b[0m 4ms/step - accuracy: 0.7055 - loss: 0.7001 - val_accuracy: 0.7917 - val_loss: 0.6890\n",
            "Epoch 6/100\n",
            "\u001b[1m20/20\u001b[0m \u001b[32m━━━━━━━━━━━━━━━━━━━━\u001b[0m\u001b[37m\u001b[0m \u001b[1m0s\u001b[0m 3ms/step - accuracy: 0.6402 - loss: 0.6563 - val_accuracy: 0.7500 - val_loss: 0.6468\n",
            "Epoch 7/100\n",
            "\u001b[1m20/20\u001b[0m \u001b[32m━━━━━━━━━━━━━━━━━━━━\u001b[0m\u001b[37m\u001b[0m \u001b[1m0s\u001b[0m 4ms/step - accuracy: 0.7261 - loss: 0.6305 - val_accuracy: 0.7917 - val_loss: 0.6157\n",
            "Epoch 8/100\n",
            "\u001b[1m20/20\u001b[0m \u001b[32m━━━━━━━━━━━━━━━━━━━━\u001b[0m\u001b[37m\u001b[0m \u001b[1m0s\u001b[0m 4ms/step - accuracy: 0.7262 - loss: 0.6159 - val_accuracy: 0.7917 - val_loss: 0.5921\n",
            "Epoch 9/100\n",
            "\u001b[1m20/20\u001b[0m \u001b[32m━━━━━━━━━━━━━━━━━━━━\u001b[0m\u001b[37m\u001b[0m \u001b[1m0s\u001b[0m 4ms/step - accuracy: 0.8003 - loss: 0.5595 - val_accuracy: 0.8333 - val_loss: 0.5649\n",
            "Epoch 10/100\n",
            "\u001b[1m20/20\u001b[0m \u001b[32m━━━━━━━━━━━━━━━━━━━━\u001b[0m\u001b[37m\u001b[0m \u001b[1m0s\u001b[0m 4ms/step - accuracy: 0.8159 - loss: 0.5583 - val_accuracy: 0.8333 - val_loss: 0.5359\n",
            "Epoch 11/100\n",
            "\u001b[1m20/20\u001b[0m \u001b[32m━━━━━━━━━━━━━━━━━━━━\u001b[0m\u001b[37m\u001b[0m \u001b[1m0s\u001b[0m 4ms/step - accuracy: 0.8639 - loss: 0.4789 - val_accuracy: 0.8333 - val_loss: 0.5103\n",
            "Epoch 12/100\n",
            "\u001b[1m20/20\u001b[0m \u001b[32m━━━━━━━━━━━━━━━━━━━━\u001b[0m\u001b[37m\u001b[0m \u001b[1m0s\u001b[0m 3ms/step - accuracy: 0.7824 - loss: 0.4684 - val_accuracy: 0.8750 - val_loss: 0.4854\n",
            "Epoch 13/100\n",
            "\u001b[1m20/20\u001b[0m \u001b[32m━━━━━━━━━━━━━━━━━━━━\u001b[0m\u001b[37m\u001b[0m \u001b[1m0s\u001b[0m 4ms/step - accuracy: 0.8611 - loss: 0.4288 - val_accuracy: 0.8750 - val_loss: 0.4626\n",
            "Epoch 14/100\n",
            "\u001b[1m20/20\u001b[0m \u001b[32m━━━━━━━━━━━━━━━━━━━━\u001b[0m\u001b[37m\u001b[0m \u001b[1m0s\u001b[0m 3ms/step - accuracy: 0.8675 - loss: 0.4096 - val_accuracy: 0.9167 - val_loss: 0.4457\n",
            "Epoch 15/100\n",
            "\u001b[1m20/20\u001b[0m \u001b[32m━━━━━━━━━━━━━━━━━━━━\u001b[0m\u001b[37m\u001b[0m \u001b[1m0s\u001b[0m 3ms/step - accuracy: 0.8363 - loss: 0.4392 - val_accuracy: 0.9167 - val_loss: 0.4320\n",
            "Epoch 16/100\n",
            "\u001b[1m20/20\u001b[0m \u001b[32m━━━━━━━━━━━━━━━━━━━━\u001b[0m\u001b[37m\u001b[0m \u001b[1m0s\u001b[0m 3ms/step - accuracy: 0.8774 - loss: 0.3823 - val_accuracy: 0.9167 - val_loss: 0.4083\n",
            "Epoch 17/100\n",
            "\u001b[1m20/20\u001b[0m \u001b[32m━━━━━━━━━━━━━━━━━━━━\u001b[0m\u001b[37m\u001b[0m \u001b[1m0s\u001b[0m 4ms/step - accuracy: 0.8323 - loss: 0.3875 - val_accuracy: 0.9167 - val_loss: 0.3921\n",
            "Epoch 18/100\n",
            "\u001b[1m20/20\u001b[0m \u001b[32m━━━━━━━━━━━━━━━━━━━━\u001b[0m\u001b[37m\u001b[0m \u001b[1m0s\u001b[0m 6ms/step - accuracy: 0.8249 - loss: 0.4027 - val_accuracy: 0.9167 - val_loss: 0.3793\n",
            "Epoch 19/100\n",
            "\u001b[1m20/20\u001b[0m \u001b[32m━━━━━━━━━━━━━━━━━━━━\u001b[0m\u001b[37m\u001b[0m \u001b[1m0s\u001b[0m 3ms/step - accuracy: 0.8606 - loss: 0.3503 - val_accuracy: 0.9167 - val_loss: 0.3698\n",
            "Epoch 20/100\n",
            "\u001b[1m20/20\u001b[0m \u001b[32m━━━━━━━━━━━━━━━━━━━━\u001b[0m\u001b[37m\u001b[0m \u001b[1m0s\u001b[0m 4ms/step - accuracy: 0.8042 - loss: 0.4069 - val_accuracy: 0.9167 - val_loss: 0.3546\n",
            "Epoch 21/100\n",
            "\u001b[1m20/20\u001b[0m \u001b[32m━━━━━━━━━━━━━━━━━━━━\u001b[0m\u001b[37m\u001b[0m \u001b[1m0s\u001b[0m 4ms/step - accuracy: 0.8448 - loss: 0.3512 - val_accuracy: 0.9167 - val_loss: 0.3424\n",
            "Epoch 22/100\n",
            "\u001b[1m20/20\u001b[0m \u001b[32m━━━━━━━━━━━━━━━━━━━━\u001b[0m\u001b[37m\u001b[0m \u001b[1m0s\u001b[0m 6ms/step - accuracy: 0.9107 - loss: 0.3125 - val_accuracy: 0.9167 - val_loss: 0.3353\n",
            "Epoch 23/100\n",
            "\u001b[1m20/20\u001b[0m \u001b[32m━━━━━━━━━━━━━━━━━━━━\u001b[0m\u001b[37m\u001b[0m \u001b[1m0s\u001b[0m 7ms/step - accuracy: 0.9377 - loss: 0.2865 - val_accuracy: 0.9167 - val_loss: 0.3209\n",
            "Epoch 24/100\n",
            "\u001b[1m20/20\u001b[0m \u001b[32m━━━━━━━━━━━━━━━━━━━━\u001b[0m\u001b[37m\u001b[0m \u001b[1m0s\u001b[0m 6ms/step - accuracy: 0.8777 - loss: 0.2841 - val_accuracy: 0.9167 - val_loss: 0.3144\n",
            "Epoch 25/100\n",
            "\u001b[1m20/20\u001b[0m \u001b[32m━━━━━━━━━━━━━━━━━━━━\u001b[0m\u001b[37m\u001b[0m \u001b[1m0s\u001b[0m 5ms/step - accuracy: 0.9409 - loss: 0.2558 - val_accuracy: 0.9167 - val_loss: 0.3147\n",
            "Epoch 26/100\n",
            "\u001b[1m20/20\u001b[0m \u001b[32m━━━━━━━━━━━━━━━━━━━━\u001b[0m\u001b[37m\u001b[0m \u001b[1m0s\u001b[0m 5ms/step - accuracy: 0.8879 - loss: 0.3234 - val_accuracy: 0.9167 - val_loss: 0.3031\n",
            "Epoch 27/100\n",
            "\u001b[1m20/20\u001b[0m \u001b[32m━━━━━━━━━━━━━━━━━━━━\u001b[0m\u001b[37m\u001b[0m \u001b[1m0s\u001b[0m 5ms/step - accuracy: 0.9076 - loss: 0.3105 - val_accuracy: 0.9167 - val_loss: 0.2959\n",
            "Epoch 28/100\n",
            "\u001b[1m20/20\u001b[0m \u001b[32m━━━━━━━━━━━━━━━━━━━━\u001b[0m\u001b[37m\u001b[0m \u001b[1m0s\u001b[0m 7ms/step - accuracy: 0.8957 - loss: 0.2951 - val_accuracy: 0.9167 - val_loss: 0.2855\n",
            "Epoch 29/100\n",
            "\u001b[1m20/20\u001b[0m \u001b[32m━━━━━━━━━━━━━━━━━━━━\u001b[0m\u001b[37m\u001b[0m \u001b[1m0s\u001b[0m 7ms/step - accuracy: 0.8985 - loss: 0.3130 - val_accuracy: 0.9167 - val_loss: 0.2800\n",
            "Epoch 30/100\n",
            "\u001b[1m20/20\u001b[0m \u001b[32m━━━━━━━━━━━━━━━━━━━━\u001b[0m\u001b[37m\u001b[0m \u001b[1m0s\u001b[0m 6ms/step - accuracy: 0.9350 - loss: 0.3006 - val_accuracy: 0.9167 - val_loss: 0.2744\n",
            "Epoch 31/100\n",
            "\u001b[1m20/20\u001b[0m \u001b[32m━━━━━━━━━━━━━━━━━━━━\u001b[0m\u001b[37m\u001b[0m \u001b[1m0s\u001b[0m 7ms/step - accuracy: 0.9652 - loss: 0.2815 - val_accuracy: 0.9167 - val_loss: 0.2743\n",
            "Epoch 32/100\n",
            "\u001b[1m20/20\u001b[0m \u001b[32m━━━━━━━━━━━━━━━━━━━━\u001b[0m\u001b[37m\u001b[0m \u001b[1m0s\u001b[0m 7ms/step - accuracy: 0.9471 - loss: 0.2843 - val_accuracy: 0.9167 - val_loss: 0.2629\n",
            "Epoch 33/100\n",
            "\u001b[1m20/20\u001b[0m \u001b[32m━━━━━━━━━━━━━━━━━━━━\u001b[0m\u001b[37m\u001b[0m \u001b[1m0s\u001b[0m 5ms/step - accuracy: 0.9707 - loss: 0.2451 - val_accuracy: 0.9167 - val_loss: 0.2535\n",
            "Epoch 34/100\n",
            "\u001b[1m20/20\u001b[0m \u001b[32m━━━━━━━━━━━━━━━━━━━━\u001b[0m\u001b[37m\u001b[0m \u001b[1m0s\u001b[0m 3ms/step - accuracy: 0.9764 - loss: 0.2161 - val_accuracy: 0.9167 - val_loss: 0.2395\n",
            "Epoch 35/100\n",
            "\u001b[1m20/20\u001b[0m \u001b[32m━━━━━━━━━━━━━━━━━━━━\u001b[0m\u001b[37m\u001b[0m \u001b[1m0s\u001b[0m 3ms/step - accuracy: 0.9588 - loss: 0.2280 - val_accuracy: 0.9583 - val_loss: 0.2410\n",
            "Epoch 36/100\n",
            "\u001b[1m20/20\u001b[0m \u001b[32m━━━━━━━━━━━━━━━━━━━━\u001b[0m\u001b[37m\u001b[0m \u001b[1m0s\u001b[0m 3ms/step - accuracy: 0.9601 - loss: 0.2202 - val_accuracy: 0.9583 - val_loss: 0.2289\n",
            "Epoch 37/100\n",
            "\u001b[1m20/20\u001b[0m \u001b[32m━━━━━━━━━━━━━━━━━━━━\u001b[0m\u001b[37m\u001b[0m \u001b[1m0s\u001b[0m 3ms/step - accuracy: 0.9580 - loss: 0.2265 - val_accuracy: 0.9583 - val_loss: 0.2266\n",
            "Epoch 38/100\n",
            "\u001b[1m20/20\u001b[0m \u001b[32m━━━━━━━━━━━━━━━━━━━━\u001b[0m\u001b[37m\u001b[0m \u001b[1m0s\u001b[0m 5ms/step - accuracy: 0.9729 - loss: 0.1870 - val_accuracy: 0.9583 - val_loss: 0.2173\n",
            "Epoch 39/100\n",
            "\u001b[1m20/20\u001b[0m \u001b[32m━━━━━━━━━━━━━━━━━━━━\u001b[0m\u001b[37m\u001b[0m \u001b[1m0s\u001b[0m 3ms/step - accuracy: 0.9800 - loss: 0.1580 - val_accuracy: 0.9583 - val_loss: 0.2105\n",
            "Epoch 40/100\n",
            "\u001b[1m20/20\u001b[0m \u001b[32m━━━━━━━━━━━━━━━━━━━━\u001b[0m\u001b[37m\u001b[0m \u001b[1m0s\u001b[0m 4ms/step - accuracy: 0.9210 - loss: 0.2461 - val_accuracy: 0.9583 - val_loss: 0.2050\n",
            "Epoch 41/100\n",
            "\u001b[1m20/20\u001b[0m \u001b[32m━━━━━━━━━━━━━━━━━━━━\u001b[0m\u001b[37m\u001b[0m \u001b[1m0s\u001b[0m 4ms/step - accuracy: 0.9680 - loss: 0.1729 - val_accuracy: 0.9583 - val_loss: 0.2005\n",
            "Epoch 42/100\n",
            "\u001b[1m20/20\u001b[0m \u001b[32m━━━━━━━━━━━━━━━━━━━━\u001b[0m\u001b[37m\u001b[0m \u001b[1m0s\u001b[0m 4ms/step - accuracy: 0.9686 - loss: 0.1945 - val_accuracy: 0.9583 - val_loss: 0.2088\n",
            "Epoch 43/100\n",
            "\u001b[1m20/20\u001b[0m \u001b[32m━━━━━━━━━━━━━━━━━━━━\u001b[0m\u001b[37m\u001b[0m \u001b[1m0s\u001b[0m 3ms/step - accuracy: 0.8907 - loss: 0.2178 - val_accuracy: 0.9583 - val_loss: 0.2017\n",
            "Epoch 44/100\n",
            "\u001b[1m20/20\u001b[0m \u001b[32m━━━━━━━━━━━━━━━━━━━━\u001b[0m\u001b[37m\u001b[0m \u001b[1m0s\u001b[0m 3ms/step - accuracy: 0.9634 - loss: 0.1676 - val_accuracy: 0.9583 - val_loss: 0.1957\n",
            "Epoch 45/100\n",
            "\u001b[1m20/20\u001b[0m \u001b[32m━━━━━━━━━━━━━━━━━━━━\u001b[0m\u001b[37m\u001b[0m \u001b[1m0s\u001b[0m 5ms/step - accuracy: 0.9813 - loss: 0.1601 - val_accuracy: 0.9583 - val_loss: 0.1883\n",
            "Epoch 46/100\n",
            "\u001b[1m20/20\u001b[0m \u001b[32m━━━━━━━━━━━━━━━━━━━━\u001b[0m\u001b[37m\u001b[0m \u001b[1m0s\u001b[0m 3ms/step - accuracy: 0.9490 - loss: 0.1930 - val_accuracy: 0.9583 - val_loss: 0.1877\n",
            "Epoch 47/100\n",
            "\u001b[1m20/20\u001b[0m \u001b[32m━━━━━━━━━━━━━━━━━━━━\u001b[0m\u001b[37m\u001b[0m \u001b[1m0s\u001b[0m 4ms/step - accuracy: 0.9530 - loss: 0.1779 - val_accuracy: 0.9583 - val_loss: 0.1851\n",
            "Epoch 48/100\n",
            "\u001b[1m20/20\u001b[0m \u001b[32m━━━━━━━━━━━━━━━━━━━━\u001b[0m\u001b[37m\u001b[0m \u001b[1m0s\u001b[0m 3ms/step - accuracy: 0.9287 - loss: 0.1692 - val_accuracy: 0.9583 - val_loss: 0.1837\n",
            "Epoch 49/100\n",
            "\u001b[1m20/20\u001b[0m \u001b[32m━━━━━━━━━━━━━━━━━━━━\u001b[0m\u001b[37m\u001b[0m \u001b[1m0s\u001b[0m 3ms/step - accuracy: 0.9706 - loss: 0.1518 - val_accuracy: 0.9583 - val_loss: 0.1801\n",
            "Epoch 50/100\n",
            "\u001b[1m20/20\u001b[0m \u001b[32m━━━━━━━━━━━━━━━━━━━━\u001b[0m\u001b[37m\u001b[0m \u001b[1m0s\u001b[0m 3ms/step - accuracy: 0.9725 - loss: 0.1280 - val_accuracy: 0.9583 - val_loss: 0.1859\n",
            "Epoch 51/100\n",
            "\u001b[1m20/20\u001b[0m \u001b[32m━━━━━━━━━━━━━━━━━━━━\u001b[0m\u001b[37m\u001b[0m \u001b[1m0s\u001b[0m 4ms/step - accuracy: 0.9513 - loss: 0.1580 - val_accuracy: 0.9583 - val_loss: 0.1782\n",
            "Epoch 52/100\n",
            "\u001b[1m20/20\u001b[0m \u001b[32m━━━━━━━━━━━━━━━━━━━━\u001b[0m\u001b[37m\u001b[0m \u001b[1m0s\u001b[0m 4ms/step - accuracy: 0.9382 - loss: 0.1646 - val_accuracy: 0.9583 - val_loss: 0.1703\n",
            "Epoch 53/100\n",
            "\u001b[1m20/20\u001b[0m \u001b[32m━━━━━━━━━━━━━━━━━━━━\u001b[0m\u001b[37m\u001b[0m \u001b[1m0s\u001b[0m 4ms/step - accuracy: 0.9817 - loss: 0.1429 - val_accuracy: 0.9583 - val_loss: 0.1714\n",
            "Epoch 54/100\n",
            "\u001b[1m20/20\u001b[0m \u001b[32m━━━━━━━━━━━━━━━━━━━━\u001b[0m\u001b[37m\u001b[0m \u001b[1m0s\u001b[0m 4ms/step - accuracy: 0.9279 - loss: 0.1743 - val_accuracy: 0.9583 - val_loss: 0.1704\n",
            "Epoch 55/100\n",
            "\u001b[1m20/20\u001b[0m \u001b[32m━━━━━━━━━━━━━━━━━━━━\u001b[0m\u001b[37m\u001b[0m \u001b[1m0s\u001b[0m 4ms/step - accuracy: 0.9869 - loss: 0.1129 - val_accuracy: 0.9583 - val_loss: 0.1697\n",
            "Epoch 56/100\n",
            "\u001b[1m20/20\u001b[0m \u001b[32m━━━━━━━━━━━━━━━━━━━━\u001b[0m\u001b[37m\u001b[0m \u001b[1m0s\u001b[0m 3ms/step - accuracy: 0.9505 - loss: 0.1758 - val_accuracy: 0.9583 - val_loss: 0.1721\n",
            "Epoch 57/100\n",
            "\u001b[1m20/20\u001b[0m \u001b[32m━━━━━━━━━━━━━━━━━━━━\u001b[0m\u001b[37m\u001b[0m \u001b[1m0s\u001b[0m 4ms/step - accuracy: 0.9864 - loss: 0.0937 - val_accuracy: 0.9583 - val_loss: 0.1643\n",
            "Epoch 58/100\n",
            "\u001b[1m20/20\u001b[0m \u001b[32m━━━━━━━━━━━━━━━━━━━━\u001b[0m\u001b[37m\u001b[0m \u001b[1m0s\u001b[0m 4ms/step - accuracy: 0.9500 - loss: 0.1336 - val_accuracy: 0.9583 - val_loss: 0.1645\n",
            "Epoch 59/100\n",
            "\u001b[1m20/20\u001b[0m \u001b[32m━━━━━━━━━━━━━━━━━━━━\u001b[0m\u001b[37m\u001b[0m \u001b[1m0s\u001b[0m 3ms/step - accuracy: 0.9590 - loss: 0.1354 - val_accuracy: 0.9583 - val_loss: 0.1646\n",
            "Epoch 60/100\n",
            "\u001b[1m20/20\u001b[0m \u001b[32m━━━━━━━━━━━━━━━━━━━━\u001b[0m\u001b[37m\u001b[0m \u001b[1m0s\u001b[0m 4ms/step - accuracy: 0.9744 - loss: 0.1243 - val_accuracy: 0.9583 - val_loss: 0.1566\n",
            "Epoch 61/100\n",
            "\u001b[1m20/20\u001b[0m \u001b[32m━━━━━━━━━━━━━━━━━━━━\u001b[0m\u001b[37m\u001b[0m \u001b[1m0s\u001b[0m 4ms/step - accuracy: 0.9677 - loss: 0.1112 - val_accuracy: 0.9583 - val_loss: 0.1718\n",
            "Epoch 62/100\n",
            "\u001b[1m20/20\u001b[0m \u001b[32m━━━━━━━━━━━━━━━━━━━━\u001b[0m\u001b[37m\u001b[0m \u001b[1m0s\u001b[0m 3ms/step - accuracy: 0.9861 - loss: 0.1095 - val_accuracy: 0.9583 - val_loss: 0.1681\n",
            "Epoch 63/100\n",
            "\u001b[1m20/20\u001b[0m \u001b[32m━━━━━━━━━━━━━━━━━━━━\u001b[0m\u001b[37m\u001b[0m \u001b[1m0s\u001b[0m 4ms/step - accuracy: 0.9447 - loss: 0.1477 - val_accuracy: 0.9583 - val_loss: 0.1627\n",
            "Epoch 64/100\n",
            "\u001b[1m20/20\u001b[0m \u001b[32m━━━━━━━━━━━━━━━━━━━━\u001b[0m\u001b[37m\u001b[0m \u001b[1m0s\u001b[0m 3ms/step - accuracy: 0.9681 - loss: 0.1284 - val_accuracy: 0.9583 - val_loss: 0.1639\n",
            "Epoch 65/100\n",
            "\u001b[1m20/20\u001b[0m \u001b[32m━━━━━━━━━━━━━━━━━━━━\u001b[0m\u001b[37m\u001b[0m \u001b[1m0s\u001b[0m 4ms/step - accuracy: 0.9598 - loss: 0.1213 - val_accuracy: 0.9583 - val_loss: 0.1618\n",
            "Epoch 66/100\n",
            "\u001b[1m20/20\u001b[0m \u001b[32m━━━━━━━━━━━━━━━━━━━━\u001b[0m\u001b[37m\u001b[0m \u001b[1m0s\u001b[0m 4ms/step - accuracy: 0.9747 - loss: 0.0849 - val_accuracy: 0.9583 - val_loss: 0.1631\n",
            "Epoch 67/100\n",
            "\u001b[1m20/20\u001b[0m \u001b[32m━━━━━━━━━━━━━━━━━━━━\u001b[0m\u001b[37m\u001b[0m \u001b[1m0s\u001b[0m 3ms/step - accuracy: 0.9825 - loss: 0.1080 - val_accuracy: 0.9583 - val_loss: 0.1732\n",
            "Epoch 68/100\n",
            "\u001b[1m20/20\u001b[0m \u001b[32m━━━━━━━━━━━━━━━━━━━━\u001b[0m\u001b[37m\u001b[0m \u001b[1m0s\u001b[0m 4ms/step - accuracy: 0.9709 - loss: 0.1278 - val_accuracy: 0.9583 - val_loss: 0.1647\n",
            "Epoch 69/100\n",
            "\u001b[1m20/20\u001b[0m \u001b[32m━━━━━━━━━━━━━━━━━━━━\u001b[0m\u001b[37m\u001b[0m \u001b[1m0s\u001b[0m 3ms/step - accuracy: 0.9860 - loss: 0.0900 - val_accuracy: 0.9583 - val_loss: 0.1546\n",
            "Epoch 70/100\n",
            "\u001b[1m20/20\u001b[0m \u001b[32m━━━━━━━━━━━━━━━━━━━━\u001b[0m\u001b[37m\u001b[0m \u001b[1m0s\u001b[0m 4ms/step - accuracy: 0.9690 - loss: 0.0997 - val_accuracy: 0.9583 - val_loss: 0.1626\n",
            "Epoch 71/100\n",
            "\u001b[1m20/20\u001b[0m \u001b[32m━━━━━━━━━━━━━━━━━━━━\u001b[0m\u001b[37m\u001b[0m \u001b[1m0s\u001b[0m 4ms/step - accuracy: 0.9812 - loss: 0.1153 - val_accuracy: 0.9583 - val_loss: 0.1656\n",
            "Epoch 72/100\n",
            "\u001b[1m20/20\u001b[0m \u001b[32m━━━━━━━━━━━━━━━━━━━━\u001b[0m\u001b[37m\u001b[0m \u001b[1m0s\u001b[0m 4ms/step - accuracy: 0.9700 - loss: 0.0878 - val_accuracy: 0.9583 - val_loss: 0.1629\n",
            "Epoch 73/100\n",
            "\u001b[1m20/20\u001b[0m \u001b[32m━━━━━━━━━━━━━━━━━━━━\u001b[0m\u001b[37m\u001b[0m \u001b[1m0s\u001b[0m 4ms/step - accuracy: 0.9901 - loss: 0.0735 - val_accuracy: 0.9583 - val_loss: 0.1594\n",
            "Epoch 74/100\n",
            "\u001b[1m20/20\u001b[0m \u001b[32m━━━━━━━━━━━━━━━━━━━━\u001b[0m\u001b[37m\u001b[0m \u001b[1m0s\u001b[0m 4ms/step - accuracy: 0.9649 - loss: 0.1009 - val_accuracy: 0.9583 - val_loss: 0.1694\n",
            "Epoch 75/100\n",
            "\u001b[1m20/20\u001b[0m \u001b[32m━━━━━━━━━━━━━━━━━━━━\u001b[0m\u001b[37m\u001b[0m \u001b[1m0s\u001b[0m 4ms/step - accuracy: 0.9712 - loss: 0.0836 - val_accuracy: 0.9583 - val_loss: 0.1609\n",
            "Epoch 76/100\n",
            "\u001b[1m20/20\u001b[0m \u001b[32m━━━━━━━━━━━━━━━━━━━━\u001b[0m\u001b[37m\u001b[0m \u001b[1m0s\u001b[0m 5ms/step - accuracy: 0.9822 - loss: 0.0824 - val_accuracy: 0.9583 - val_loss: 0.1605\n",
            "Epoch 77/100\n",
            "\u001b[1m20/20\u001b[0m \u001b[32m━━━━━━━━━━━━━━━━━━━━\u001b[0m\u001b[37m\u001b[0m \u001b[1m0s\u001b[0m 4ms/step - accuracy: 0.9393 - loss: 0.1098 - val_accuracy: 0.9583 - val_loss: 0.1723\n",
            "Epoch 78/100\n",
            "\u001b[1m20/20\u001b[0m \u001b[32m━━━━━━━━━━━━━━━━━━━━\u001b[0m\u001b[37m\u001b[0m \u001b[1m0s\u001b[0m 3ms/step - accuracy: 0.9847 - loss: 0.0837 - val_accuracy: 0.9583 - val_loss: 0.1685\n",
            "Epoch 79/100\n",
            "\u001b[1m20/20\u001b[0m \u001b[32m━━━━━━━━━━━━━━━━━━━━\u001b[0m\u001b[37m\u001b[0m \u001b[1m0s\u001b[0m 3ms/step - accuracy: 0.9717 - loss: 0.0861 - val_accuracy: 0.9583 - val_loss: 0.1704\n",
            "Epoch 80/100\n",
            "\u001b[1m20/20\u001b[0m \u001b[32m━━━━━━━━━━━━━━━━━━━━\u001b[0m\u001b[37m\u001b[0m \u001b[1m0s\u001b[0m 3ms/step - accuracy: 0.9779 - loss: 0.0868 - val_accuracy: 0.9583 - val_loss: 0.1565\n",
            "Epoch 81/100\n",
            "\u001b[1m20/20\u001b[0m \u001b[32m━━━━━━━━━━━━━━━━━━━━\u001b[0m\u001b[37m\u001b[0m \u001b[1m0s\u001b[0m 3ms/step - accuracy: 0.9642 - loss: 0.0787 - val_accuracy: 0.9583 - val_loss: 0.1730\n",
            "Epoch 82/100\n",
            "\u001b[1m20/20\u001b[0m \u001b[32m━━━━━━━━━━━━━━━━━━━━\u001b[0m\u001b[37m\u001b[0m \u001b[1m0s\u001b[0m 3ms/step - accuracy: 0.9879 - loss: 0.0823 - val_accuracy: 0.9583 - val_loss: 0.1621\n",
            "Epoch 83/100\n",
            "\u001b[1m20/20\u001b[0m \u001b[32m━━━━━━━━━━━━━━━━━━━━\u001b[0m\u001b[37m\u001b[0m \u001b[1m0s\u001b[0m 4ms/step - accuracy: 0.9818 - loss: 0.0829 - val_accuracy: 0.9583 - val_loss: 0.1634\n",
            "Epoch 84/100\n",
            "\u001b[1m20/20\u001b[0m \u001b[32m━━━━━━━━━━━━━━━━━━━━\u001b[0m\u001b[37m\u001b[0m \u001b[1m0s\u001b[0m 3ms/step - accuracy: 0.9598 - loss: 0.0904 - val_accuracy: 0.9583 - val_loss: 0.1746\n",
            "Epoch 85/100\n",
            "\u001b[1m20/20\u001b[0m \u001b[32m━━━━━━━━━━━━━━━━━━━━\u001b[0m\u001b[37m\u001b[0m \u001b[1m0s\u001b[0m 3ms/step - accuracy: 0.9825 - loss: 0.0748 - val_accuracy: 0.9583 - val_loss: 0.1746\n",
            "Epoch 86/100\n",
            "\u001b[1m20/20\u001b[0m \u001b[32m━━━━━━━━━━━━━━━━━━━━\u001b[0m\u001b[37m\u001b[0m \u001b[1m0s\u001b[0m 3ms/step - accuracy: 0.9911 - loss: 0.0999 - val_accuracy: 0.9583 - val_loss: 0.1745\n",
            "Epoch 87/100\n",
            "\u001b[1m20/20\u001b[0m \u001b[32m━━━━━━━━━━━━━━━━━━━━\u001b[0m\u001b[37m\u001b[0m \u001b[1m0s\u001b[0m 3ms/step - accuracy: 0.9810 - loss: 0.0634 - val_accuracy: 0.9583 - val_loss: 0.1740\n",
            "Epoch 88/100\n",
            "\u001b[1m20/20\u001b[0m \u001b[32m━━━━━━━━━━━━━━━━━━━━\u001b[0m\u001b[37m\u001b[0m \u001b[1m0s\u001b[0m 3ms/step - accuracy: 0.9871 - loss: 0.0487 - val_accuracy: 0.9583 - val_loss: 0.1693\n",
            "Epoch 89/100\n",
            "\u001b[1m20/20\u001b[0m \u001b[32m━━━━━━━━━━━━━━━━━━━━\u001b[0m\u001b[37m\u001b[0m \u001b[1m0s\u001b[0m 3ms/step - accuracy: 0.9770 - loss: 0.0640 - val_accuracy: 0.9583 - val_loss: 0.1649\n",
            "Epoch 90/100\n",
            "\u001b[1m20/20\u001b[0m \u001b[32m━━━━━━━━━━━━━━━━━━━━\u001b[0m\u001b[37m\u001b[0m \u001b[1m0s\u001b[0m 4ms/step - accuracy: 0.9706 - loss: 0.0793 - val_accuracy: 0.9583 - val_loss: 0.1779\n",
            "Epoch 91/100\n",
            "\u001b[1m20/20\u001b[0m \u001b[32m━━━━━━━━━━━━━━━━━━━━\u001b[0m\u001b[37m\u001b[0m \u001b[1m0s\u001b[0m 4ms/step - accuracy: 0.9574 - loss: 0.1112 - val_accuracy: 0.9583 - val_loss: 0.1837\n",
            "Epoch 92/100\n",
            "\u001b[1m20/20\u001b[0m \u001b[32m━━━━━━━━━━━━━━━━━━━━\u001b[0m\u001b[37m\u001b[0m \u001b[1m0s\u001b[0m 4ms/step - accuracy: 0.9795 - loss: 0.0741 - val_accuracy: 0.9583 - val_loss: 0.1763\n",
            "Epoch 93/100\n",
            "\u001b[1m20/20\u001b[0m \u001b[32m━━━━━━━━━━━━━━━━━━━━\u001b[0m\u001b[37m\u001b[0m \u001b[1m0s\u001b[0m 3ms/step - accuracy: 0.9795 - loss: 0.1023 - val_accuracy: 0.9583 - val_loss: 0.1759\n",
            "Epoch 94/100\n",
            "\u001b[1m20/20\u001b[0m \u001b[32m━━━━━━━━━━━━━━━━━━━━\u001b[0m\u001b[37m\u001b[0m \u001b[1m0s\u001b[0m 3ms/step - accuracy: 0.9942 - loss: 0.0681 - val_accuracy: 0.9583 - val_loss: 0.1753\n",
            "Epoch 95/100\n",
            "\u001b[1m20/20\u001b[0m \u001b[32m━━━━━━━━━━━━━━━━━━━━\u001b[0m\u001b[37m\u001b[0m \u001b[1m0s\u001b[0m 3ms/step - accuracy: 0.9854 - loss: 0.0767 - val_accuracy: 0.9583 - val_loss: 0.1883\n",
            "Epoch 96/100\n",
            "\u001b[1m20/20\u001b[0m \u001b[32m━━━━━━━━━━━━━━━━━━━━\u001b[0m\u001b[37m\u001b[0m \u001b[1m0s\u001b[0m 4ms/step - accuracy: 0.9709 - loss: 0.0945 - val_accuracy: 0.9583 - val_loss: 0.1843\n",
            "Epoch 97/100\n",
            "\u001b[1m20/20\u001b[0m \u001b[32m━━━━━━━━━━━━━━━━━━━━\u001b[0m\u001b[37m\u001b[0m \u001b[1m0s\u001b[0m 4ms/step - accuracy: 0.9747 - loss: 0.0965 - val_accuracy: 0.9583 - val_loss: 0.1790\n",
            "Epoch 98/100\n",
            "\u001b[1m20/20\u001b[0m \u001b[32m━━━━━━━━━━━━━━━━━━━━\u001b[0m\u001b[37m\u001b[0m \u001b[1m0s\u001b[0m 3ms/step - accuracy: 0.9795 - loss: 0.0788 - val_accuracy: 0.9583 - val_loss: 0.1788\n",
            "Epoch 99/100\n",
            "\u001b[1m20/20\u001b[0m \u001b[32m━━━━━━━━━━━━━━━━━━━━\u001b[0m\u001b[37m\u001b[0m \u001b[1m0s\u001b[0m 3ms/step - accuracy: 0.9669 - loss: 0.1085 - val_accuracy: 0.9583 - val_loss: 0.1795\n",
            "Epoch 100/100\n",
            "\u001b[1m20/20\u001b[0m \u001b[32m━━━━━━━━━━━━━━━━━━━━\u001b[0m\u001b[37m\u001b[0m \u001b[1m0s\u001b[0m 4ms/step - accuracy: 0.9795 - loss: 0.0819 - val_accuracy: 0.9583 - val_loss: 0.1809\n"
          ]
        }
      ]
    },
    {
      "cell_type": "code",
      "source": [
        "# Оценка модели\n",
        "test_loss, test_accuracy = model.evaluate(X_test, y_test)\n",
        "print(f\"Test accuracy: {test_accuracy:.4f}\")\n",
        "\n",
        "# Визуализация истории обучения\n",
        "plt.plot(history.history['accuracy'], label='Train Accuracy')\n",
        "plt.plot(history.history['val_accuracy'], label='Validation Accuracy')\n",
        "plt.title('Model Accuracy')\n",
        "plt.xlabel('Epoch')\n",
        "plt.ylabel('Accuracy')\n",
        "plt.legend()\n",
        "plt.show()\n"
      ],
      "metadata": {
        "colab": {
          "base_uri": "https://localhost:8080/",
          "height": 507
        },
        "id": "r8hzwXjILqzL",
        "outputId": "bf359841-8f1c-46f4-9de8-6e399c24b8b6"
      },
      "id": "r8hzwXjILqzL",
      "execution_count": 25,
      "outputs": [
        {
          "output_type": "stream",
          "name": "stdout",
          "text": [
            "\u001b[1m1/1\u001b[0m \u001b[32m━━━━━━━━━━━━━━━━━━━━\u001b[0m\u001b[37m\u001b[0m \u001b[1m0s\u001b[0m 25ms/step - accuracy: 1.0000 - loss: 0.0506\n",
            "Test accuracy: 1.0000\n"
          ]
        },
        {
          "output_type": "display_data",
          "data": {
            "text/plain": [
              "<Figure size 640x480 with 1 Axes>"
            ],
            "image/png": "[encoded data removed]"
          },
          "metadata": {}
        }
      ]
    },
    {
      "cell_type": "code",
      "source": [
        "def create_model_improved():\n",
        "    model = keras.Sequential()\n",
        "    model.add(layers.Dense(32, activation='relu', input_shape=(X_train.shape[1],)))\n",
        "    model.add(layers.Dense(32, activation='relu'))\n",
        "    model.add(layers.Dense(16, activation='relu'))  # Новый скрытый слой\n",
        "    model.add(layers.Dense(3, activation='softmax'))\n",
        "    model.compile(optimizer='adam', loss='sparse_categorical_crossentropy', metrics=['accuracy'])\n",
        "    return model\n"
      ],
      "metadata": {
        "id": "2Mbv144gLtNv"
      },
      "id": "2Mbv144gLtNv",
      "execution_count": 26,
      "outputs": []
    },
    {
      "cell_type": "code",
      "source": [
        "def create_model_with_dropout():\n",
        "    model = keras.Sequential()\n",
        "    model.add(layers.Dense(32, activation='relu', input_shape=(X_train.shape[1],)))\n",
        "    model.add(layers.Dropout(0.5))  # Слой Dropout\n",
        "    model.add(layers.Dense(32, activation='relu'))\n",
        "    model.add(layers.Dense(3, activation='softmax'))\n",
        "    model.compile(optimizer='adam', loss='sparse_categorical_crossentropy', metrics=['accuracy'])\n",
        "    return model\n"
      ],
      "metadata": {
        "id": "eqjGshpeLuq3"
      },
      "id": "eqjGshpeLuq3",
      "execution_count": 27,
      "outputs": []
    },
    {
      "cell_type": "code",
      "source": [
        "# Создание и обучение улучшенной модели\n",
        "improved_model = create_model_with_dropout()\n",
        "history_improved = improved_model.fit(X_train, y_train, epochs=100, validation_split=0.2, batch_size=5)\n"
      ],
      "metadata": {
        "colab": {
          "base_uri": "https://localhost:8080/"
        },
        "id": "igiVq3qQLvdk",
        "outputId": "8d7769ef-1ced-40a6-fb59-04bfa816e693"
      },
      "id": "igiVq3qQLvdk",
      "execution_count": 28,
      "outputs": [
        {
          "output_type": "stream",
          "name": "stdout",
          "text": [
            "Epoch 1/100\n",
            "\u001b[1m20/20\u001b[0m \u001b[32m━━━━━━━━━━━━━━━━━━━━\u001b[0m\u001b[37m\u001b[0m \u001b[1m2s\u001b[0m 17ms/step - accuracy: 0.3870 - loss: 1.1073 - val_accuracy: 0.6250 - val_loss: 0.9202\n",
            "Epoch 2/100\n",
            "\u001b[1m20/20\u001b[0m \u001b[32m━━━━━━━━━━━━━━━━━━━━\u001b[0m\u001b[37m\u001b[0m \u001b[1m0s\u001b[0m 5ms/step - accuracy: 0.6040 - loss: 0.9466 - val_accuracy: 0.7500 - val_loss: 0.7962\n",
            "Epoch 3/100\n",
            "\u001b[1m20/20\u001b[0m \u001b[32m━━━━━━━━━━━━━━━━━━━━\u001b[0m\u001b[37m\u001b[0m \u001b[1m0s\u001b[0m 6ms/step - accuracy: 0.6444 - loss: 0.8811 - val_accuracy: 0.7500 - val_loss: 0.7129\n",
            "Epoch 4/100\n",
            "\u001b[1m20/20\u001b[0m \u001b[32m━━━━━━━━━━━━━━━━━━━━\u001b[0m\u001b[37m\u001b[0m \u001b[1m0s\u001b[0m 5ms/step - accuracy: 0.7344 - loss: 0.7343 - val_accuracy: 0.7917 - val_loss: 0.6373\n",
            "Epoch 5/100\n",
            "\u001b[1m20/20\u001b[0m \u001b[32m━━━━━━━━━━━━━━━━━━━━\u001b[0m\u001b[37m\u001b[0m \u001b[1m0s\u001b[0m 5ms/step - accuracy: 0.7991 - loss: 0.6957 - val_accuracy: 0.7917 - val_loss: 0.5716\n",
            "Epoch 6/100\n",
            "\u001b[1m20/20\u001b[0m \u001b[32m━━━━━━━━━━━━━━━━━━━━\u001b[0m\u001b[37m\u001b[0m \u001b[1m0s\u001b[0m 6ms/step - accuracy: 0.7885 - loss: 0.5967 - val_accuracy: 0.7917 - val_loss: 0.5302\n",
            "Epoch 7/100\n",
            "\u001b[1m20/20\u001b[0m \u001b[32m━━━━━━━━━━━━━━━━━━━━\u001b[0m\u001b[37m\u001b[0m \u001b[1m0s\u001b[0m 5ms/step - accuracy: 0.7282 - loss: 0.6001 - val_accuracy: 0.8333 - val_loss: 0.4988\n",
            "Epoch 8/100\n",
            "\u001b[1m20/20\u001b[0m \u001b[32m━━━━━━━━━━━━━━━━━━━━\u001b[0m\u001b[37m\u001b[0m \u001b[1m0s\u001b[0m 7ms/step - accuracy: 0.8873 - loss: 0.4341 - val_accuracy: 0.8333 - val_loss: 0.4619\n",
            "Epoch 9/100\n",
            "\u001b[1m20/20\u001b[0m \u001b[32m━━━━━━━━━━━━━━━━━━━━\u001b[0m\u001b[37m\u001b[0m \u001b[1m0s\u001b[0m 6ms/step - accuracy: 0.8004 - loss: 0.4631 - val_accuracy: 0.8750 - val_loss: 0.4435\n",
            "Epoch 10/100\n",
            "\u001b[1m20/20\u001b[0m \u001b[32m━━━━━━━━━━━━━━━━━━━━\u001b[0m\u001b[37m\u001b[0m \u001b[1m0s\u001b[0m 3ms/step - accuracy: 0.8006 - loss: 0.4810 - val_accuracy: 0.8750 - val_loss: 0.4322\n",
            "Epoch 11/100\n",
            "\u001b[1m20/20\u001b[0m \u001b[32m━━━━━━━━━━━━━━━━━━━━\u001b[0m\u001b[37m\u001b[0m \u001b[1m0s\u001b[0m 4ms/step - accuracy: 0.8573 - loss: 0.3840 - val_accuracy: 0.8333 - val_loss: 0.4063\n",
            "Epoch 12/100\n",
            "\u001b[1m20/20\u001b[0m \u001b[32m━━━━━━━━━━━━━━━━━━━━\u001b[0m\u001b[37m\u001b[0m \u001b[1m0s\u001b[0m 4ms/step - accuracy: 0.8093 - loss: 0.4291 - val_accuracy: 0.9167 - val_loss: 0.3953\n",
            "Epoch 13/100\n",
            "\u001b[1m20/20\u001b[0m \u001b[32m━━━━━━━━━━━━━━━━━━━━\u001b[0m\u001b[37m\u001b[0m \u001b[1m0s\u001b[0m 4ms/step - accuracy: 0.9127 - loss: 0.3536 - val_accuracy: 0.9167 - val_loss: 0.3715\n",
            "Epoch 14/100\n",
            "\u001b[1m20/20\u001b[0m \u001b[32m━━━━━━━━━━━━━━━━━━━━\u001b[0m\u001b[37m\u001b[0m \u001b[1m0s\u001b[0m 4ms/step - accuracy: 0.8622 - loss: 0.3734 - val_accuracy: 0.9167 - val_loss: 0.3536\n",
            "Epoch 15/100\n",
            "\u001b[1m20/20\u001b[0m \u001b[32m━━━━━━━━━━━━━━━━━━━━\u001b[0m\u001b[37m\u001b[0m \u001b[1m0s\u001b[0m 4ms/step - accuracy: 0.8516 - loss: 0.3515 - val_accuracy: 0.9167 - val_loss: 0.3598\n",
            "Epoch 16/100\n",
            "\u001b[1m20/20\u001b[0m \u001b[32m━━━━━━━━━━━━━━━━━━━━\u001b[0m\u001b[37m\u001b[0m \u001b[1m0s\u001b[0m 4ms/step - accuracy: 0.8452 - loss: 0.3545 - val_accuracy: 0.9167 - val_loss: 0.3394\n",
            "Epoch 17/100\n",
            "\u001b[1m20/20\u001b[0m \u001b[32m━━━━━━━━━━━━━━━━━━━━\u001b[0m\u001b[37m\u001b[0m \u001b[1m0s\u001b[0m 3ms/step - accuracy: 0.9011 - loss: 0.3717 - val_accuracy: 0.9167 - val_loss: 0.2987\n",
            "Epoch 18/100\n",
            "\u001b[1m20/20\u001b[0m \u001b[32m━━━━━━━━━━━━━━━━━━━━\u001b[0m\u001b[37m\u001b[0m \u001b[1m0s\u001b[0m 3ms/step - accuracy: 0.9095 - loss: 0.3026 - val_accuracy: 0.9167 - val_loss: 0.3053\n",
            "Epoch 19/100\n",
            "\u001b[1m20/20\u001b[0m \u001b[32m━━━━━━━━━━━━━━━━━━━━\u001b[0m\u001b[37m\u001b[0m \u001b[1m0s\u001b[0m 4ms/step - accuracy: 0.9364 - loss: 0.2370 - val_accuracy: 0.9167 - val_loss: 0.2895\n",
            "Epoch 20/100\n",
            "\u001b[1m20/20\u001b[0m \u001b[32m━━━━━━━━━━━━━━━━━━━━\u001b[0m\u001b[37m\u001b[0m \u001b[1m0s\u001b[0m 3ms/step - accuracy: 0.8375 - loss: 0.2884 - val_accuracy: 0.9583 - val_loss: 0.2946\n",
            "Epoch 21/100\n",
            "\u001b[1m20/20\u001b[0m \u001b[32m━━━━━━━━━━━━━━━━━━━━\u001b[0m\u001b[37m\u001b[0m \u001b[1m0s\u001b[0m 4ms/step - accuracy: 0.9169 - loss: 0.3174 - val_accuracy: 0.9583 - val_loss: 0.2866\n",
            "Epoch 22/100\n",
            "\u001b[1m20/20\u001b[0m \u001b[32m━━━━━━━━━━━━━━━━━━━━\u001b[0m\u001b[37m\u001b[0m \u001b[1m0s\u001b[0m 3ms/step - accuracy: 0.8691 - loss: 0.2393 - val_accuracy: 0.9583 - val_loss: 0.2771\n",
            "Epoch 23/100\n",
            "\u001b[1m20/20\u001b[0m \u001b[32m━━━━━━━━━━━━━━━━━━━━\u001b[0m\u001b[37m\u001b[0m \u001b[1m0s\u001b[0m 4ms/step - accuracy: 0.8820 - loss: 0.2927 - val_accuracy: 0.9583 - val_loss: 0.3013\n",
            "Epoch 24/100\n",
            "\u001b[1m20/20\u001b[0m \u001b[32m━━━━━━━━━━━━━━━━━━━━\u001b[0m\u001b[37m\u001b[0m \u001b[1m0s\u001b[0m 4ms/step - accuracy: 0.9137 - loss: 0.2579 - val_accuracy: 0.9583 - val_loss: 0.2602\n",
            "Epoch 25/100\n",
            "\u001b[1m20/20\u001b[0m \u001b[32m━━━━━━━━━━━━━━━━━━━━\u001b[0m\u001b[37m\u001b[0m \u001b[1m0s\u001b[0m 4ms/step - accuracy: 0.8737 - loss: 0.2986 - val_accuracy: 0.9583 - val_loss: 0.2392\n",
            "Epoch 26/100\n",
            "\u001b[1m20/20\u001b[0m \u001b[32m━━━━━━━━━━━━━━━━━━━━\u001b[0m\u001b[37m\u001b[0m \u001b[1m0s\u001b[0m 3ms/step - accuracy: 0.9165 - loss: 0.1844 - val_accuracy: 0.9583 - val_loss: 0.2304\n",
            "Epoch 27/100\n",
            "\u001b[1m20/20\u001b[0m \u001b[32m━━━━━━━━━━━━━━━━━━━━\u001b[0m\u001b[37m\u001b[0m \u001b[1m0s\u001b[0m 4ms/step - accuracy: 0.9182 - loss: 0.2514 - val_accuracy: 0.9583 - val_loss: 0.2311\n",
            "Epoch 28/100\n",
            "\u001b[1m20/20\u001b[0m \u001b[32m━━━━━━━━━━━━━━━━━━━━\u001b[0m\u001b[37m\u001b[0m \u001b[1m0s\u001b[0m 4ms/step - accuracy: 0.9911 - loss: 0.1365 - val_accuracy: 0.9583 - val_loss: 0.2085\n",
            "Epoch 29/100\n",
            "\u001b[1m20/20\u001b[0m \u001b[32m━━━━━━━━━━━━━━━━━━━━\u001b[0m\u001b[37m\u001b[0m \u001b[1m0s\u001b[0m 3ms/step - accuracy: 0.9059 - loss: 0.2940 - val_accuracy: 0.9583 - val_loss: 0.2105\n",
            "Epoch 30/100\n",
            "\u001b[1m20/20\u001b[0m \u001b[32m━━━━━━━━━━━━━━━━━━━━\u001b[0m\u001b[37m\u001b[0m \u001b[1m0s\u001b[0m 4ms/step - accuracy: 0.9533 - loss: 0.1726 - val_accuracy: 0.9583 - val_loss: 0.2192\n",
            "Epoch 31/100\n",
            "\u001b[1m20/20\u001b[0m \u001b[32m━━━━━━━━━━━━━━━━━━━━\u001b[0m\u001b[37m\u001b[0m \u001b[1m0s\u001b[0m 4ms/step - accuracy: 0.9087 - loss: 0.2271 - val_accuracy: 0.9583 - val_loss: 0.2150\n",
            "Epoch 32/100\n",
            "\u001b[1m20/20\u001b[0m \u001b[32m━━━━━━━━━━━━━━━━━━━━\u001b[0m\u001b[37m\u001b[0m \u001b[1m0s\u001b[0m 3ms/step - accuracy: 0.9560 - loss: 0.2294 - val_accuracy: 0.9583 - val_loss: 0.1844\n",
            "Epoch 33/100\n",
            "\u001b[1m20/20\u001b[0m \u001b[32m━━━━━━━━━━━━━━━━━━━━\u001b[0m\u001b[37m\u001b[0m \u001b[1m0s\u001b[0m 3ms/step - accuracy: 0.8541 - loss: 0.2405 - val_accuracy: 0.9583 - val_loss: 0.1936\n",
            "Epoch 34/100\n",
            "\u001b[1m20/20\u001b[0m \u001b[32m━━━━━━━━━━━━━━━━━━━━\u001b[0m\u001b[37m\u001b[0m \u001b[1m0s\u001b[0m 3ms/step - accuracy: 0.9026 - loss: 0.2185 - val_accuracy: 0.9583 - val_loss: 0.1860\n",
            "Epoch 35/100\n",
            "\u001b[1m20/20\u001b[0m \u001b[32m━━━━━━━━━━━━━━━━━━━━\u001b[0m\u001b[37m\u001b[0m \u001b[1m0s\u001b[0m 4ms/step - accuracy: 0.9375 - loss: 0.2151 - val_accuracy: 0.9583 - val_loss: 0.2007\n",
            "Epoch 36/100\n",
            "\u001b[1m20/20\u001b[0m \u001b[32m━━━━━━━━━━━━━━━━━━━━\u001b[0m\u001b[37m\u001b[0m \u001b[1m0s\u001b[0m 4ms/step - accuracy: 0.9106 - loss: 0.2006 - val_accuracy: 0.9583 - val_loss: 0.1844\n",
            "Epoch 37/100\n",
            "\u001b[1m20/20\u001b[0m \u001b[32m━━━━━━━━━━━━━━━━━━━━\u001b[0m\u001b[37m\u001b[0m \u001b[1m0s\u001b[0m 3ms/step - accuracy: 0.9463 - loss: 0.1678 - val_accuracy: 0.9583 - val_loss: 0.1827\n",
            "Epoch 38/100\n",
            "\u001b[1m20/20\u001b[0m \u001b[32m━━━━━━━━━━━━━━━━━━━━\u001b[0m\u001b[37m\u001b[0m \u001b[1m0s\u001b[0m 3ms/step - accuracy: 0.9544 - loss: 0.1572 - val_accuracy: 0.9583 - val_loss: 0.1675\n",
            "Epoch 39/100\n",
            "\u001b[1m20/20\u001b[0m \u001b[32m━━━━━━━━━━━━━━━━━━━━\u001b[0m\u001b[37m\u001b[0m \u001b[1m0s\u001b[0m 4ms/step - accuracy: 0.9500 - loss: 0.2075 - val_accuracy: 0.9167 - val_loss: 0.2062\n",
            "Epoch 40/100\n",
            "\u001b[1m20/20\u001b[0m \u001b[32m━━━━━━━━━━━━━━━━━━━━\u001b[0m\u001b[37m\u001b[0m \u001b[1m0s\u001b[0m 3ms/step - accuracy: 0.9228 - loss: 0.1817 - val_accuracy: 0.9167 - val_loss: 0.2216\n",
            "Epoch 41/100\n",
            "\u001b[1m20/20\u001b[0m \u001b[32m━━━━━━━━━━━━━━━━━━━━\u001b[0m\u001b[37m\u001b[0m \u001b[1m0s\u001b[0m 3ms/step - accuracy: 0.9406 - loss: 0.1436 - val_accuracy: 0.9167 - val_loss: 0.1918\n",
            "Epoch 42/100\n",
            "\u001b[1m20/20\u001b[0m \u001b[32m━━━━━━━━━━━━━━━━━━━━\u001b[0m\u001b[37m\u001b[0m \u001b[1m0s\u001b[0m 4ms/step - accuracy: 0.9628 - loss: 0.1531 - val_accuracy: 0.9167 - val_loss: 0.2050\n",
            "Epoch 43/100\n",
            "\u001b[1m20/20\u001b[0m \u001b[32m━━━━━━━━━━━━━━━━━━━━\u001b[0m\u001b[37m\u001b[0m \u001b[1m0s\u001b[0m 3ms/step - accuracy: 0.9128 - loss: 0.2011 - val_accuracy: 0.9583 - val_loss: 0.1661\n",
            "Epoch 44/100\n",
            "\u001b[1m20/20\u001b[0m \u001b[32m━━━━━━━━━━━━━━━━━━━━\u001b[0m\u001b[37m\u001b[0m \u001b[1m0s\u001b[0m 4ms/step - accuracy: 0.9790 - loss: 0.1427 - val_accuracy: 0.9167 - val_loss: 0.1784\n",
            "Epoch 45/100\n",
            "\u001b[1m20/20\u001b[0m \u001b[32m━━━━━━━━━━━━━━━━━━━━\u001b[0m\u001b[37m\u001b[0m \u001b[1m0s\u001b[0m 4ms/step - accuracy: 0.9462 - loss: 0.1520 - val_accuracy: 0.9167 - val_loss: 0.2173\n",
            "Epoch 46/100\n",
            "\u001b[1m20/20\u001b[0m \u001b[32m━━━━━━━━━━━━━━━━━━━━\u001b[0m\u001b[37m\u001b[0m \u001b[1m0s\u001b[0m 4ms/step - accuracy: 0.9784 - loss: 0.1280 - val_accuracy: 0.9167 - val_loss: 0.2206\n",
            "Epoch 47/100\n",
            "\u001b[1m20/20\u001b[0m \u001b[32m━━━━━━━━━━━━━━━━━━━━\u001b[0m\u001b[37m\u001b[0m \u001b[1m0s\u001b[0m 4ms/step - accuracy: 0.9416 - loss: 0.1618 - val_accuracy: 0.9167 - val_loss: 0.1902\n",
            "Epoch 48/100\n",
            "\u001b[1m20/20\u001b[0m \u001b[32m━━━━━━━━━━━━━━━━━━━━\u001b[0m\u001b[37m\u001b[0m \u001b[1m0s\u001b[0m 4ms/step - accuracy: 0.9498 - loss: 0.1471 - val_accuracy: 0.9167 - val_loss: 0.2021\n",
            "Epoch 49/100\n",
            "\u001b[1m20/20\u001b[0m \u001b[32m━━━━━━━━━━━━━━━━━━━━\u001b[0m\u001b[37m\u001b[0m \u001b[1m0s\u001b[0m 4ms/step - accuracy: 0.9453 - loss: 0.1235 - val_accuracy: 0.9167 - val_loss: 0.1947\n",
            "Epoch 50/100\n",
            "\u001b[1m20/20\u001b[0m \u001b[32m━━━━━━━━━━━━━━━━━━━━\u001b[0m\u001b[37m\u001b[0m \u001b[1m0s\u001b[0m 4ms/step - accuracy: 0.8844 - loss: 0.2310 - val_accuracy: 0.9167 - val_loss: 0.2013\n",
            "Epoch 51/100\n",
            "\u001b[1m20/20\u001b[0m \u001b[32m━━━━━━━━━━━━━━━━━━━━\u001b[0m\u001b[37m\u001b[0m \u001b[1m0s\u001b[0m 4ms/step - accuracy: 0.9072 - loss: 0.2130 - val_accuracy: 0.9583 - val_loss: 0.1749\n",
            "Epoch 52/100\n",
            "\u001b[1m20/20\u001b[0m \u001b[32m━━━━━━━━━━━━━━━━━━━━\u001b[0m\u001b[37m\u001b[0m \u001b[1m0s\u001b[0m 3ms/step - accuracy: 0.9356 - loss: 0.1856 - val_accuracy: 0.9583 - val_loss: 0.1685\n",
            "Epoch 53/100\n",
            "\u001b[1m20/20\u001b[0m \u001b[32m━━━━━━━━━━━━━━━━━━━━\u001b[0m\u001b[37m\u001b[0m \u001b[1m0s\u001b[0m 5ms/step - accuracy: 0.9812 - loss: 0.0861 - val_accuracy: 0.9583 - val_loss: 0.1606\n",
            "Epoch 54/100\n",
            "\u001b[1m20/20\u001b[0m \u001b[32m━━━━━━━━━━━━━━━━━━━━\u001b[0m\u001b[37m\u001b[0m \u001b[1m0s\u001b[0m 3ms/step - accuracy: 0.9369 - loss: 0.1250 - val_accuracy: 0.9167 - val_loss: 0.1903\n",
            "Epoch 55/100\n",
            "\u001b[1m20/20\u001b[0m \u001b[32m━━━━━━━━━━━━━━━━━━━━\u001b[0m\u001b[37m\u001b[0m \u001b[1m0s\u001b[0m 4ms/step - accuracy: 0.9372 - loss: 0.1429 - val_accuracy: 0.9167 - val_loss: 0.2004\n",
            "Epoch 56/100\n",
            "\u001b[1m20/20\u001b[0m \u001b[32m━━━━━━━━━━━━━━━━━━━━\u001b[0m\u001b[37m\u001b[0m \u001b[1m0s\u001b[0m 3ms/step - accuracy: 0.9689 - loss: 0.1148 - val_accuracy: 0.9167 - val_loss: 0.1762\n",
            "Epoch 57/100\n",
            "\u001b[1m20/20\u001b[0m \u001b[32m━━━━━━━━━━━━━━━━━━━━\u001b[0m\u001b[37m\u001b[0m \u001b[1m0s\u001b[0m 4ms/step - accuracy: 0.9489 - loss: 0.1279 - val_accuracy: 0.9167 - val_loss: 0.1864\n",
            "Epoch 58/100\n",
            "\u001b[1m20/20\u001b[0m \u001b[32m━━━━━━━━━━━━━━━━━━━━\u001b[0m\u001b[37m\u001b[0m \u001b[1m0s\u001b[0m 4ms/step - accuracy: 0.9366 - loss: 0.1748 - val_accuracy: 0.9583 - val_loss: 0.1666\n",
            "Epoch 59/100\n",
            "\u001b[1m20/20\u001b[0m \u001b[32m━━━━━━━━━━━━━━━━━━━━\u001b[0m\u001b[37m\u001b[0m \u001b[1m0s\u001b[0m 4ms/step - accuracy: 0.9320 - loss: 0.1966 - val_accuracy: 0.9167 - val_loss: 0.2170\n",
            "Epoch 60/100\n",
            "\u001b[1m20/20\u001b[0m \u001b[32m━━━━━━━━━━━━━━━━━━━━\u001b[0m\u001b[37m\u001b[0m \u001b[1m0s\u001b[0m 3ms/step - accuracy: 0.9270 - loss: 0.1548 - val_accuracy: 0.9167 - val_loss: 0.2001\n",
            "Epoch 61/100\n",
            "\u001b[1m20/20\u001b[0m \u001b[32m━━━━━━━━━━━━━━━━━━━━\u001b[0m\u001b[37m\u001b[0m \u001b[1m0s\u001b[0m 3ms/step - accuracy: 0.9940 - loss: 0.0787 - val_accuracy: 0.9167 - val_loss: 0.1839\n",
            "Epoch 62/100\n",
            "\u001b[1m20/20\u001b[0m \u001b[32m━━━━━━━━━━━━━━━━━━━━\u001b[0m\u001b[37m\u001b[0m \u001b[1m0s\u001b[0m 4ms/step - accuracy: 0.9365 - loss: 0.1286 - val_accuracy: 0.9167 - val_loss: 0.2061\n",
            "Epoch 63/100\n",
            "\u001b[1m20/20\u001b[0m \u001b[32m━━━━━━━━━━━━━━━━━━━━\u001b[0m\u001b[37m\u001b[0m \u001b[1m0s\u001b[0m 4ms/step - accuracy: 0.9330 - loss: 0.1527 - val_accuracy: 0.9167 - val_loss: 0.1896\n",
            "Epoch 64/100\n",
            "\u001b[1m20/20\u001b[0m \u001b[32m━━━━━━━━━━━━━━━━━━━━\u001b[0m\u001b[37m\u001b[0m \u001b[1m0s\u001b[0m 3ms/step - accuracy: 0.8784 - loss: 0.2475 - val_accuracy: 0.9583 - val_loss: 0.1681\n",
            "Epoch 65/100\n",
            "\u001b[1m20/20\u001b[0m \u001b[32m━━━━━━━━━━━━━━━━━━━━\u001b[0m\u001b[37m\u001b[0m \u001b[1m0s\u001b[0m 3ms/step - accuracy: 0.9547 - loss: 0.1082 - val_accuracy: 0.9583 - val_loss: 0.1776\n",
            "Epoch 66/100\n",
            "\u001b[1m20/20\u001b[0m \u001b[32m━━━━━━━━━━━━━━━━━━━━\u001b[0m\u001b[37m\u001b[0m \u001b[1m0s\u001b[0m 3ms/step - accuracy: 0.9441 - loss: 0.0983 - val_accuracy: 0.9583 - val_loss: 0.1537\n",
            "Epoch 67/100\n",
            "\u001b[1m20/20\u001b[0m \u001b[32m━━━━━━━━━━━━━━━━━━━━\u001b[0m\u001b[37m\u001b[0m \u001b[1m0s\u001b[0m 4ms/step - accuracy: 0.9251 - loss: 0.1517 - val_accuracy: 0.9583 - val_loss: 0.1794\n",
            "Epoch 68/100\n",
            "\u001b[1m20/20\u001b[0m \u001b[32m━━━━━━━━━━━━━━━━━━━━\u001b[0m\u001b[37m\u001b[0m \u001b[1m0s\u001b[0m 3ms/step - accuracy: 0.9772 - loss: 0.0839 - val_accuracy: 0.9583 - val_loss: 0.1659\n",
            "Epoch 69/100\n",
            "\u001b[1m20/20\u001b[0m \u001b[32m━━━━━━━━━━━━━━━━━━━━\u001b[0m\u001b[37m\u001b[0m \u001b[1m0s\u001b[0m 4ms/step - accuracy: 0.9270 - loss: 0.1360 - val_accuracy: 0.9167 - val_loss: 0.2688\n",
            "Epoch 70/100\n",
            "\u001b[1m20/20\u001b[0m \u001b[32m━━━━━━━━━━━━━━━━━━━━\u001b[0m\u001b[37m\u001b[0m \u001b[1m0s\u001b[0m 3ms/step - accuracy: 0.9116 - loss: 0.1537 - val_accuracy: 0.9167 - val_loss: 0.2790\n",
            "Epoch 71/100\n",
            "\u001b[1m20/20\u001b[0m \u001b[32m━━━━━━━━━━━━━━━━━━━━\u001b[0m\u001b[37m\u001b[0m \u001b[1m0s\u001b[0m 4ms/step - accuracy: 0.9651 - loss: 0.0953 - val_accuracy: 0.9167 - val_loss: 0.2554\n",
            "Epoch 72/100\n",
            "\u001b[1m20/20\u001b[0m \u001b[32m━━━━━━━━━━━━━━━━━━━━\u001b[0m\u001b[37m\u001b[0m \u001b[1m0s\u001b[0m 3ms/step - accuracy: 0.9533 - loss: 0.1066 - val_accuracy: 0.9583 - val_loss: 0.1871\n",
            "Epoch 73/100\n",
            "\u001b[1m20/20\u001b[0m \u001b[32m━━━━━━━━━━━━━━━━━━━━\u001b[0m\u001b[37m\u001b[0m \u001b[1m0s\u001b[0m 3ms/step - accuracy: 0.9570 - loss: 0.0949 - val_accuracy: 0.9167 - val_loss: 0.2176\n",
            "Epoch 74/100\n",
            "\u001b[1m20/20\u001b[0m \u001b[32m━━━━━━━━━━━━━━━━━━━━\u001b[0m\u001b[37m\u001b[0m \u001b[1m0s\u001b[0m 4ms/step - accuracy: 0.9857 - loss: 0.0599 - val_accuracy: 0.9167 - val_loss: 0.2207\n",
            "Epoch 75/100\n",
            "\u001b[1m20/20\u001b[0m \u001b[32m━━━━━━━━━━━━━━━━━━━━\u001b[0m\u001b[37m\u001b[0m \u001b[1m0s\u001b[0m 3ms/step - accuracy: 0.9490 - loss: 0.1128 - val_accuracy: 0.9167 - val_loss: 0.2367\n",
            "Epoch 76/100\n",
            "\u001b[1m20/20\u001b[0m \u001b[32m━━━━━━━━━━━━━━━━━━━━\u001b[0m\u001b[37m\u001b[0m \u001b[1m0s\u001b[0m 3ms/step - accuracy: 0.9841 - loss: 0.0679 - val_accuracy: 0.9583 - val_loss: 0.1869\n",
            "Epoch 77/100\n",
            "\u001b[1m20/20\u001b[0m \u001b[32m━━━━━━━━━━━━━━━━━━━━\u001b[0m\u001b[37m\u001b[0m \u001b[1m0s\u001b[0m 3ms/step - accuracy: 0.9668 - loss: 0.0710 - val_accuracy: 0.9583 - val_loss: 0.1825\n",
            "Epoch 78/100\n",
            "\u001b[1m20/20\u001b[0m \u001b[32m━━━━━━━━━━━━━━━━━━━━\u001b[0m\u001b[37m\u001b[0m \u001b[1m0s\u001b[0m 3ms/step - accuracy: 0.9813 - loss: 0.0927 - val_accuracy: 0.9167 - val_loss: 0.1926\n",
            "Epoch 79/100\n",
            "\u001b[1m20/20\u001b[0m \u001b[32m━━━━━━━━━━━━━━━━━━━━\u001b[0m\u001b[37m\u001b[0m \u001b[1m0s\u001b[0m 4ms/step - accuracy: 0.9107 - loss: 0.1343 - val_accuracy: 0.9167 - val_loss: 0.1848\n",
            "Epoch 80/100\n",
            "\u001b[1m20/20\u001b[0m \u001b[32m━━━━━━━━━━━━━━━━━━━━\u001b[0m\u001b[37m\u001b[0m \u001b[1m0s\u001b[0m 4ms/step - accuracy: 0.9940 - loss: 0.0534 - val_accuracy: 0.9167 - val_loss: 0.1890\n",
            "Epoch 81/100\n",
            "\u001b[1m20/20\u001b[0m \u001b[32m━━━━━━━━━━━━━━━━━━━━\u001b[0m\u001b[37m\u001b[0m \u001b[1m0s\u001b[0m 3ms/step - accuracy: 0.9455 - loss: 0.0907 - val_accuracy: 0.9167 - val_loss: 0.1917\n",
            "Epoch 82/100\n",
            "\u001b[1m20/20\u001b[0m \u001b[32m━━━━━━━━━━━━━━━━━━━━\u001b[0m\u001b[37m\u001b[0m \u001b[1m0s\u001b[0m 4ms/step - accuracy: 0.9371 - loss: 0.1468 - val_accuracy: 0.9583 - val_loss: 0.1804\n",
            "Epoch 83/100\n",
            "\u001b[1m20/20\u001b[0m \u001b[32m━━━━━━━━━━━━━━━━━━━━\u001b[0m\u001b[37m\u001b[0m \u001b[1m0s\u001b[0m 4ms/step - accuracy: 0.9397 - loss: 0.1431 - val_accuracy: 0.9167 - val_loss: 0.2018\n",
            "Epoch 84/100\n",
            "\u001b[1m20/20\u001b[0m \u001b[32m━━━━━━━━━━━━━━━━━━━━\u001b[0m\u001b[37m\u001b[0m \u001b[1m0s\u001b[0m 4ms/step - accuracy: 0.9577 - loss: 0.0738 - val_accuracy: 0.9583 - val_loss: 0.1715\n",
            "Epoch 85/100\n",
            "\u001b[1m20/20\u001b[0m \u001b[32m━━━━━━━━━━━━━━━━━━━━\u001b[0m\u001b[37m\u001b[0m \u001b[1m0s\u001b[0m 3ms/step - accuracy: 0.9170 - loss: 0.1218 - val_accuracy: 0.9583 - val_loss: 0.1952\n",
            "Epoch 86/100\n",
            "\u001b[1m20/20\u001b[0m \u001b[32m━━━━━━━━━━━━━━━━━━━━\u001b[0m\u001b[37m\u001b[0m \u001b[1m0s\u001b[0m 3ms/step - accuracy: 0.9652 - loss: 0.0815 - val_accuracy: 0.9583 - val_loss: 0.1921\n",
            "Epoch 87/100\n",
            "\u001b[1m20/20\u001b[0m \u001b[32m━━━━━━━━━━━━━━━━━━━━\u001b[0m\u001b[37m\u001b[0m \u001b[1m0s\u001b[0m 6ms/step - accuracy: 0.9712 - loss: 0.0757 - val_accuracy: 0.9167 - val_loss: 0.2309\n",
            "Epoch 88/100\n",
            "\u001b[1m20/20\u001b[0m \u001b[32m━━━━━━━━━━━━━━━━━━━━\u001b[0m\u001b[37m\u001b[0m \u001b[1m0s\u001b[0m 5ms/step - accuracy: 0.9044 - loss: 0.2470 - val_accuracy: 0.9167 - val_loss: 0.2214\n",
            "Epoch 89/100\n",
            "\u001b[1m20/20\u001b[0m \u001b[32m━━━━━━━━━━━━━━━━━━━━\u001b[0m\u001b[37m\u001b[0m \u001b[1m1s\u001b[0m 29ms/step - accuracy: 0.9767 - loss: 0.0780 - val_accuracy: 0.9167 - val_loss: 0.2205\n",
            "Epoch 90/100\n",
            "\u001b[1m20/20\u001b[0m \u001b[32m━━━━━━━━━━━━━━━━━━━━\u001b[0m\u001b[37m\u001b[0m \u001b[1m1s\u001b[0m 16ms/step - accuracy: 0.8926 - loss: 0.1794 - val_accuracy: 0.9167 - val_loss: 0.2070\n",
            "Epoch 91/100\n",
            "\u001b[1m20/20\u001b[0m \u001b[32m━━━━━━━━━━━━━━━━━━━━\u001b[0m\u001b[37m\u001b[0m \u001b[1m0s\u001b[0m 6ms/step - accuracy: 0.9647 - loss: 0.1746 - val_accuracy: 0.9583 - val_loss: 0.1842\n",
            "Epoch 92/100\n",
            "\u001b[1m20/20\u001b[0m \u001b[32m━━━━━━━━━━━━━━━━━━━━\u001b[0m\u001b[37m\u001b[0m \u001b[1m0s\u001b[0m 6ms/step - accuracy: 0.9825 - loss: 0.0914 - val_accuracy: 0.9583 - val_loss: 0.1651\n",
            "Epoch 93/100\n",
            "\u001b[1m20/20\u001b[0m \u001b[32m━━━━━━━━━━━━━━━━━━━━\u001b[0m\u001b[37m\u001b[0m \u001b[1m0s\u001b[0m 7ms/step - accuracy: 0.9715 - loss: 0.0885 - val_accuracy: 0.9583 - val_loss: 0.1586\n",
            "Epoch 94/100\n",
            "\u001b[1m20/20\u001b[0m \u001b[32m━━━━━━━━━━━━━━━━━━━━\u001b[0m\u001b[37m\u001b[0m \u001b[1m0s\u001b[0m 4ms/step - accuracy: 0.9854 - loss: 0.0837 - val_accuracy: 0.9167 - val_loss: 0.2226\n",
            "Epoch 95/100\n",
            "\u001b[1m20/20\u001b[0m \u001b[32m━━━━━━━━━━━━━━━━━━━━\u001b[0m\u001b[37m\u001b[0m \u001b[1m0s\u001b[0m 4ms/step - accuracy: 0.9036 - loss: 0.1498 - val_accuracy: 0.9583 - val_loss: 0.1983\n",
            "Epoch 96/100\n",
            "\u001b[1m20/20\u001b[0m \u001b[32m━━━━━━━━━━━━━━━━━━━━\u001b[0m\u001b[37m\u001b[0m \u001b[1m0s\u001b[0m 3ms/step - accuracy: 0.9503 - loss: 0.1193 - val_accuracy: 0.9583 - val_loss: 0.2079\n",
            "Epoch 97/100\n",
            "\u001b[1m20/20\u001b[0m \u001b[32m━━━━━━━━━━━━━━━━━━━━\u001b[0m\u001b[37m\u001b[0m \u001b[1m0s\u001b[0m 4ms/step - accuracy: 0.9689 - loss: 0.0700 - val_accuracy: 0.9583 - val_loss: 0.2119\n",
            "Epoch 98/100\n",
            "\u001b[1m20/20\u001b[0m \u001b[32m━━━━━━━━━━━━━━━━━━━━\u001b[0m\u001b[37m\u001b[0m \u001b[1m0s\u001b[0m 4ms/step - accuracy: 0.9390 - loss: 0.1100 - val_accuracy: 0.9583 - val_loss: 0.2015\n",
            "Epoch 99/100\n",
            "\u001b[1m20/20\u001b[0m \u001b[32m━━━━━━━━━━━━━━━━━━━━\u001b[0m\u001b[37m\u001b[0m \u001b[1m0s\u001b[0m 4ms/step - accuracy: 0.9251 - loss: 0.1657 - val_accuracy: 0.9583 - val_loss: 0.2158\n",
            "Epoch 100/100\n",
            "\u001b[1m20/20\u001b[0m \u001b[32m━━━━━━━━━━━━━━━━━━━━\u001b[0m\u001b[37m\u001b[0m \u001b[1m0s\u001b[0m 3ms/step - accuracy: 0.9388 - loss: 0.0967 - val_accuracy: 0.9583 - val_loss: 0.2117\n"
          ]
        }
      ]
    },
    {
      "cell_type": "code",
      "source": [
        "# Оценка улучшенной модели\n",
        "test_loss, test_accuracy = improved_model.evaluate(X_test, y_test)\n",
        "print(f\"Тестовая точность улучшенной модели: {test_accuracy:.4f}\")\n",
        "\n",
        "# Визуализация истории обучения улучшенной модели\n",
        "plt.plot(history_improved.history['accuracy'], label='Train Accuracy')\n",
        "plt.plot(history_improved.history['val_accuracy'], label='Validation Accuracy')\n",
        "plt.title('Улучшенная точность модели')\n",
        "plt.xlabel('Epoch')\n",
        "plt.ylabel('Accuracy')\n",
        "plt.legend()\n",
        "plt.show()\n"
      ],
      "metadata": {
        "colab": {
          "base_uri": "https://localhost:8080/",
          "height": 507
        },
        "id": "8AETL9hZLxAI",
        "outputId": "f23b1af5-e289-4d39-8391-3fc734f8efe9"
      },
      "id": "8AETL9hZLxAI",
      "execution_count": 29,
      "outputs": [
        {
          "output_type": "stream",
          "name": "stdout",
          "text": [
            "\u001b[1m1/1\u001b[0m \u001b[32m━━━━━━━━━━━━━━━━━━━━\u001b[0m\u001b[37m\u001b[0m \u001b[1m0s\u001b[0m 26ms/step - accuracy: 1.0000 - loss: 0.0378\n",
            "Test accuracy of improved model: 1.0000\n"
          ]
        },
        {
          "output_type": "display_data",
          "data": {
            "text/plain": [
              "<Figure size 640x480 with 1 Axes>"
            ],
            "image/png": "[encoded data removed]"
          },
          "metadata": {}
        }
      ]
    }
  ],
  "metadata": {
    "kernelspec": {
      "display_name": "Python 3 (ipykernel)",
      "language": "python",
      "name": "python3"
    },
    "language_info": {
      "codemirror_mode": {
        "name": "ipython",
        "version": 3
      },
      "file_extension": ".py",
      "mimetype": "text/x-python",
      "name": "python",
      "nbconvert_exporter": "python",
      "pygments_lexer": "ipython3",
      "version": "3.11.5"
    },
    "colab": {
      "provenance": []
    }
  },
  "nbformat": 4,
  "nbformat_minor": 5
}